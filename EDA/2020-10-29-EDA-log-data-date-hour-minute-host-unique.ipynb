{
 "cells": [
  {
   "cell_type": "markdown",
   "metadata": {},
   "source": [
    "# 시나리오#1\n",
    "\n",
    "### 웹 스크래핑, 크롤러\n",
    "- 분단위 평균 기록횟수를 훌쩍 넘어가는 특정 시간대를 추출하여 리스팅\n",
    "- 추출된 특정 시간대에서 사용된 UA 중 특수한 UA가 있는지 추출\n",
    "- 추출된 특정 시간대에서 일반적인 접속량을 훌쩍 넘기는 Host 추출하여 리스팅\n",
    "- 추출된 10개 Host의 패턴 분석 (Referer, Path, Bytes, 머무는 시간 등)\n",
    "- 발견된 패턴대로 다른 Host에 대입하여 웹 스크래핑 입증"
   ]
  },
  {
   "cell_type": "code",
   "execution_count": 1,
   "metadata": {},
   "outputs": [],
   "source": [
    "import pandas as pd\n",
    "import numpy as np\n",
    "import datetime as dt\n",
    "import matplotlib.pyplot as plt\n",
    "from matplotlib import rc\n",
    "%matplotlib inline\n",
    "rc('font', family='AppleGothic') # 한글폰트 불러오기\n",
    "plt.rcParams['axes.unicode_minus'] = False # - 안깨지게 하기"
   ]
  },
  {
   "cell_type": "code",
   "execution_count": 2,
   "metadata": {},
   "outputs": [
    {
     "data": {
      "text/html": [
       "<div>\n",
       "<style scoped>\n",
       "    .dataframe tbody tr th:only-of-type {\n",
       "        vertical-align: middle;\n",
       "    }\n",
       "\n",
       "    .dataframe tbody tr th {\n",
       "        vertical-align: top;\n",
       "    }\n",
       "\n",
       "    .dataframe thead th {\n",
       "        text-align: right;\n",
       "    }\n",
       "</style>\n",
       "<table border=\"1\" class=\"dataframe\">\n",
       "  <thead>\n",
       "    <tr style=\"text-align: right;\">\n",
       "      <th></th>\n",
       "      <th>Timestamp</th>\n",
       "      <th>Method</th>\n",
       "      <th>Protocol</th>\n",
       "      <th>Status</th>\n",
       "      <th>Referer</th>\n",
       "      <th>Path</th>\n",
       "      <th>Host</th>\n",
       "      <th>UA</th>\n",
       "      <th>Payload</th>\n",
       "      <th>Bytes</th>\n",
       "    </tr>\n",
       "  </thead>\n",
       "  <tbody>\n",
       "    <tr>\n",
       "      <th>0</th>\n",
       "      <td>2020-08-24 10:00</td>\n",
       "      <td>GET</td>\n",
       "      <td>HTTP/1.1</td>\n",
       "      <td>200</td>\n",
       "      <td>\"-\"</td>\n",
       "      <td>/1000/wp-includes/</td>\n",
       "      <td>101.224.32.28</td>\n",
       "      <td>Mozilla/5.0 (Macintosh; Intel Mac OS X x.y; rv...</td>\n",
       "      <td>-</td>\n",
       "      <td>6226.0</td>\n",
       "    </tr>\n",
       "    <tr>\n",
       "      <th>1</th>\n",
       "      <td>2020-08-24 10:00</td>\n",
       "      <td>GET</td>\n",
       "      <td>HTTP/1.1</td>\n",
       "      <td>200</td>\n",
       "      <td>\"-\"</td>\n",
       "      <td>/1000/wp-login/</td>\n",
       "      <td>101.224.32.28</td>\n",
       "      <td>Mozilla/5.0 (Macintosh; Intel Mac OS X x.y; rv...</td>\n",
       "      <td>-</td>\n",
       "      <td>6226.0</td>\n",
       "    </tr>\n",
       "    <tr>\n",
       "      <th>2</th>\n",
       "      <td>2020-08-24 10:00</td>\n",
       "      <td>GET</td>\n",
       "      <td>HTTP/1.1</td>\n",
       "      <td>200</td>\n",
       "      <td>\"-\"</td>\n",
       "      <td>/1000/wp-register/</td>\n",
       "      <td>101.224.32.28</td>\n",
       "      <td>Mozilla/5.0 (Macintosh; Intel Mac OS X x.y; rv...</td>\n",
       "      <td>-</td>\n",
       "      <td>6232.0</td>\n",
       "    </tr>\n",
       "    <tr>\n",
       "      <th>3</th>\n",
       "      <td>2020-08-24 10:00</td>\n",
       "      <td>GET</td>\n",
       "      <td>HTTP/1.1</td>\n",
       "      <td>200</td>\n",
       "      <td>\"-\"</td>\n",
       "      <td>/1000/wp/</td>\n",
       "      <td>101.224.32.28</td>\n",
       "      <td>Mozilla/5.0 (Macintosh; Intel Mac OS X x.y; rv...</td>\n",
       "      <td>-</td>\n",
       "      <td>6248.0</td>\n",
       "    </tr>\n",
       "    <tr>\n",
       "      <th>4</th>\n",
       "      <td>2020-08-24 10:00</td>\n",
       "      <td>GET</td>\n",
       "      <td>HTTP/1.1</td>\n",
       "      <td>200</td>\n",
       "      <td>\"-\"</td>\n",
       "      <td>/1000/wp-content/</td>\n",
       "      <td>101.224.32.28</td>\n",
       "      <td>Mozilla/5.0 (Macintosh; Intel Mac OS X x.y; rv...</td>\n",
       "      <td>-</td>\n",
       "      <td>6224.0</td>\n",
       "    </tr>\n",
       "  </tbody>\n",
       "</table>\n",
       "</div>"
      ],
      "text/plain": [
       "          Timestamp Method  Protocol Status Referer                Path  \\\n",
       "0  2020-08-24 10:00    GET  HTTP/1.1    200     \"-\"  /1000/wp-includes/   \n",
       "1  2020-08-24 10:00    GET  HTTP/1.1    200     \"-\"     /1000/wp-login/   \n",
       "2  2020-08-24 10:00    GET  HTTP/1.1    200     \"-\"  /1000/wp-register/   \n",
       "3  2020-08-24 10:00    GET  HTTP/1.1    200     \"-\"           /1000/wp/   \n",
       "4  2020-08-24 10:00    GET  HTTP/1.1    200     \"-\"   /1000/wp-content/   \n",
       "\n",
       "            Host                                                 UA Payload  \\\n",
       "0  101.224.32.28  Mozilla/5.0 (Macintosh; Intel Mac OS X x.y; rv...       -   \n",
       "1  101.224.32.28  Mozilla/5.0 (Macintosh; Intel Mac OS X x.y; rv...       -   \n",
       "2  101.224.32.28  Mozilla/5.0 (Macintosh; Intel Mac OS X x.y; rv...       -   \n",
       "3  101.224.32.28  Mozilla/5.0 (Macintosh; Intel Mac OS X x.y; rv...       -   \n",
       "4  101.224.32.28  Mozilla/5.0 (Macintosh; Intel Mac OS X x.y; rv...       -   \n",
       "\n",
       "    Bytes  \n",
       "0  6226.0  \n",
       "1  6226.0  \n",
       "2  6232.0  \n",
       "3  6248.0  \n",
       "4  6224.0  "
      ]
     },
     "execution_count": 2,
     "metadata": {},
     "output_type": "execute_result"
    }
   ],
   "source": [
    "df = pd.read_csv('../dataset/track1.csv') # 데이터 프레임 초기화\n",
    "df.Timestamp = pd.to_datetime(df.Timestamp) \n",
    "df = df[df['Status'].astype(str).str.isnumeric()] # 이상치 제거\n",
    "df['Timestamp'] = df['Timestamp'].dt.strftime('%Y-%m-%d %H:%M') # 시계열 데이터를 1분 단위로 설정\n",
    "df.head()"
   ]
  },
  {
   "cell_type": "code",
   "execution_count": 3,
   "metadata": {},
   "outputs": [
    {
     "data": {
      "text/html": [
       "<div>\n",
       "<style scoped>\n",
       "    .dataframe tbody tr th:only-of-type {\n",
       "        vertical-align: middle;\n",
       "    }\n",
       "\n",
       "    .dataframe tbody tr th {\n",
       "        vertical-align: top;\n",
       "    }\n",
       "\n",
       "    .dataframe thead th {\n",
       "        text-align: right;\n",
       "    }\n",
       "</style>\n",
       "<table border=\"1\" class=\"dataframe\">\n",
       "  <thead>\n",
       "    <tr style=\"text-align: right;\">\n",
       "      <th></th>\n",
       "      <th>Method</th>\n",
       "      <th>Protocol</th>\n",
       "      <th>Status</th>\n",
       "      <th>Referer</th>\n",
       "      <th>Path</th>\n",
       "      <th>Host</th>\n",
       "      <th>UA</th>\n",
       "      <th>Payload</th>\n",
       "      <th>Bytes</th>\n",
       "    </tr>\n",
       "    <tr>\n",
       "      <th>Timestamp</th>\n",
       "      <th></th>\n",
       "      <th></th>\n",
       "      <th></th>\n",
       "      <th></th>\n",
       "      <th></th>\n",
       "      <th></th>\n",
       "      <th></th>\n",
       "      <th></th>\n",
       "      <th></th>\n",
       "    </tr>\n",
       "  </thead>\n",
       "  <tbody>\n",
       "    <tr>\n",
       "      <th>2020-08-24 10:00</th>\n",
       "      <td>9</td>\n",
       "      <td>9</td>\n",
       "      <td>9</td>\n",
       "      <td>9</td>\n",
       "      <td>9</td>\n",
       "      <td>9</td>\n",
       "      <td>9</td>\n",
       "      <td>9</td>\n",
       "      <td>9</td>\n",
       "    </tr>\n",
       "    <tr>\n",
       "      <th>2020-08-24 10:01</th>\n",
       "      <td>11</td>\n",
       "      <td>11</td>\n",
       "      <td>11</td>\n",
       "      <td>11</td>\n",
       "      <td>11</td>\n",
       "      <td>11</td>\n",
       "      <td>11</td>\n",
       "      <td>11</td>\n",
       "      <td>11</td>\n",
       "    </tr>\n",
       "    <tr>\n",
       "      <th>2020-08-24 10:02</th>\n",
       "      <td>28</td>\n",
       "      <td>28</td>\n",
       "      <td>28</td>\n",
       "      <td>28</td>\n",
       "      <td>28</td>\n",
       "      <td>28</td>\n",
       "      <td>28</td>\n",
       "      <td>28</td>\n",
       "      <td>28</td>\n",
       "    </tr>\n",
       "    <tr>\n",
       "      <th>2020-08-24 10:03</th>\n",
       "      <td>38</td>\n",
       "      <td>38</td>\n",
       "      <td>38</td>\n",
       "      <td>38</td>\n",
       "      <td>38</td>\n",
       "      <td>38</td>\n",
       "      <td>38</td>\n",
       "      <td>38</td>\n",
       "      <td>38</td>\n",
       "    </tr>\n",
       "    <tr>\n",
       "      <th>2020-08-24 10:04</th>\n",
       "      <td>31</td>\n",
       "      <td>31</td>\n",
       "      <td>31</td>\n",
       "      <td>31</td>\n",
       "      <td>31</td>\n",
       "      <td>31</td>\n",
       "      <td>31</td>\n",
       "      <td>31</td>\n",
       "      <td>31</td>\n",
       "    </tr>\n",
       "    <tr>\n",
       "      <th>...</th>\n",
       "      <td>...</td>\n",
       "      <td>...</td>\n",
       "      <td>...</td>\n",
       "      <td>...</td>\n",
       "      <td>...</td>\n",
       "      <td>...</td>\n",
       "      <td>...</td>\n",
       "      <td>...</td>\n",
       "      <td>...</td>\n",
       "    </tr>\n",
       "    <tr>\n",
       "      <th>2020-08-28 19:42</th>\n",
       "      <td>48</td>\n",
       "      <td>48</td>\n",
       "      <td>48</td>\n",
       "      <td>48</td>\n",
       "      <td>48</td>\n",
       "      <td>48</td>\n",
       "      <td>48</td>\n",
       "      <td>48</td>\n",
       "      <td>48</td>\n",
       "    </tr>\n",
       "    <tr>\n",
       "      <th>2020-08-28 19:43</th>\n",
       "      <td>49</td>\n",
       "      <td>49</td>\n",
       "      <td>49</td>\n",
       "      <td>49</td>\n",
       "      <td>49</td>\n",
       "      <td>48</td>\n",
       "      <td>49</td>\n",
       "      <td>49</td>\n",
       "      <td>49</td>\n",
       "    </tr>\n",
       "    <tr>\n",
       "      <th>2020-08-28 19:44</th>\n",
       "      <td>54</td>\n",
       "      <td>54</td>\n",
       "      <td>54</td>\n",
       "      <td>54</td>\n",
       "      <td>54</td>\n",
       "      <td>54</td>\n",
       "      <td>54</td>\n",
       "      <td>54</td>\n",
       "      <td>54</td>\n",
       "    </tr>\n",
       "    <tr>\n",
       "      <th>2020-08-28 19:45</th>\n",
       "      <td>47</td>\n",
       "      <td>47</td>\n",
       "      <td>47</td>\n",
       "      <td>47</td>\n",
       "      <td>47</td>\n",
       "      <td>47</td>\n",
       "      <td>47</td>\n",
       "      <td>47</td>\n",
       "      <td>47</td>\n",
       "    </tr>\n",
       "    <tr>\n",
       "      <th>2020-08-28 19:46</th>\n",
       "      <td>19</td>\n",
       "      <td>19</td>\n",
       "      <td>19</td>\n",
       "      <td>19</td>\n",
       "      <td>19</td>\n",
       "      <td>19</td>\n",
       "      <td>19</td>\n",
       "      <td>19</td>\n",
       "      <td>19</td>\n",
       "    </tr>\n",
       "  </tbody>\n",
       "</table>\n",
       "<p>3822 rows × 9 columns</p>\n",
       "</div>"
      ],
      "text/plain": [
       "                  Method  Protocol  Status  Referer  Path  Host  UA  Payload  \\\n",
       "Timestamp                                                                      \n",
       "2020-08-24 10:00       9         9       9        9     9     9   9        9   \n",
       "2020-08-24 10:01      11        11      11       11    11    11  11       11   \n",
       "2020-08-24 10:02      28        28      28       28    28    28  28       28   \n",
       "2020-08-24 10:03      38        38      38       38    38    38  38       38   \n",
       "2020-08-24 10:04      31        31      31       31    31    31  31       31   \n",
       "...                  ...       ...     ...      ...   ...   ...  ..      ...   \n",
       "2020-08-28 19:42      48        48      48       48    48    48  48       48   \n",
       "2020-08-28 19:43      49        49      49       49    49    48  49       49   \n",
       "2020-08-28 19:44      54        54      54       54    54    54  54       54   \n",
       "2020-08-28 19:45      47        47      47       47    47    47  47       47   \n",
       "2020-08-28 19:46      19        19      19       19    19    19  19       19   \n",
       "\n",
       "                  Bytes  \n",
       "Timestamp                \n",
       "2020-08-24 10:00      9  \n",
       "2020-08-24 10:01     11  \n",
       "2020-08-24 10:02     28  \n",
       "2020-08-24 10:03     38  \n",
       "2020-08-24 10:04     31  \n",
       "...                 ...  \n",
       "2020-08-28 19:42     48  \n",
       "2020-08-28 19:43     49  \n",
       "2020-08-28 19:44     54  \n",
       "2020-08-28 19:45     47  \n",
       "2020-08-28 19:46     19  \n",
       "\n",
       "[3822 rows x 9 columns]"
      ]
     },
     "execution_count": 3,
     "metadata": {},
     "output_type": "execute_result"
    }
   ],
   "source": [
    "time_grp = df.groupby(['Timestamp'])\n",
    "time_grp.count()"
   ]
  },
  {
   "cell_type": "markdown",
   "metadata": {},
   "source": [
    "# 분당 개별 유니크 호스트 수와 분당 가장 기록을 많이 남긴 호스트"
   ]
  },
  {
   "cell_type": "code",
   "execution_count": 4,
   "metadata": {},
   "outputs": [],
   "source": [
    "funcHostUnique = lambda x: len(x['Host'].unique())\n",
    "funcHostUniqueFirstValue = lambda x: x['Host'].value_counts()[0]\n",
    "hostUnique = time_grp.apply(funcHostUnique)\n",
    "hostUniqueFirstValue = time_grp.apply(funcHostUniqueFirstValue)"
   ]
  },
  {
   "cell_type": "code",
   "execution_count": 5,
   "metadata": {},
   "outputs": [],
   "source": [
    "hostUniqueByMinute = pd.concat([(time_grp['Host'].count().rename('Count')), \n",
    "                      hostUnique.rename('HostUnq'), hostUniqueFirstValue.rename('HostFirstValue')], axis=1)"
   ]
  },
  {
   "cell_type": "code",
   "execution_count": 6,
   "metadata": {},
   "outputs": [
    {
     "data": {
      "text/plain": [
       "count    3822.000000\n",
       "mean       81.928048\n",
       "std        77.702654\n",
       "min         1.000000\n",
       "25%        35.000000\n",
       "50%        66.000000\n",
       "75%        75.000000\n",
       "max       295.000000\n",
       "Name: HostUnq, dtype: float64"
      ]
     },
     "execution_count": 6,
     "metadata": {},
     "output_type": "execute_result"
    }
   ],
   "source": [
    "hostUniqueByMinute['HostUnq'].describe()"
   ]
  },
  {
   "cell_type": "code",
   "execution_count": 7,
   "metadata": {
    "scrolled": true
   },
   "outputs": [
    {
     "data": {
      "text/plain": [
       "count    3822.000000\n",
       "mean       47.258503\n",
       "std       162.658980\n",
       "min         1.000000\n",
       "25%         3.000000\n",
       "50%         4.000000\n",
       "75%        44.000000\n",
       "max      3437.000000\n",
       "Name: HostFirstValue, dtype: float64"
      ]
     },
     "execution_count": 7,
     "metadata": {},
     "output_type": "execute_result"
    }
   ],
   "source": [
    "hostUniqueByMinute['HostFirstValue'].describe()"
   ]
  },
  {
   "cell_type": "code",
   "execution_count": 12,
   "metadata": {},
   "outputs": [
    {
     "data": {
      "text/html": [
       "<div>\n",
       "<style scoped>\n",
       "    .dataframe tbody tr th:only-of-type {\n",
       "        vertical-align: middle;\n",
       "    }\n",
       "\n",
       "    .dataframe tbody tr th {\n",
       "        vertical-align: top;\n",
       "    }\n",
       "\n",
       "    .dataframe thead th {\n",
       "        text-align: right;\n",
       "    }\n",
       "</style>\n",
       "<table border=\"1\" class=\"dataframe\">\n",
       "  <thead>\n",
       "    <tr style=\"text-align: right;\">\n",
       "      <th></th>\n",
       "      <th>Count</th>\n",
       "      <th>HostUnq</th>\n",
       "      <th>HostFirstValue</th>\n",
       "    </tr>\n",
       "    <tr>\n",
       "      <th>Timestamp</th>\n",
       "      <th></th>\n",
       "      <th></th>\n",
       "      <th></th>\n",
       "    </tr>\n",
       "  </thead>\n",
       "  <tbody>\n",
       "    <tr>\n",
       "      <th>2020-08-24 10:00</th>\n",
       "      <td>9</td>\n",
       "      <td>1</td>\n",
       "      <td>9</td>\n",
       "    </tr>\n",
       "    <tr>\n",
       "      <th>2020-08-24 10:01</th>\n",
       "      <td>11</td>\n",
       "      <td>9</td>\n",
       "      <td>3</td>\n",
       "    </tr>\n",
       "    <tr>\n",
       "      <th>2020-08-24 10:02</th>\n",
       "      <td>28</td>\n",
       "      <td>20</td>\n",
       "      <td>7</td>\n",
       "    </tr>\n",
       "    <tr>\n",
       "      <th>2020-08-24 10:03</th>\n",
       "      <td>38</td>\n",
       "      <td>22</td>\n",
       "      <td>10</td>\n",
       "    </tr>\n",
       "    <tr>\n",
       "      <th>2020-08-24 10:04</th>\n",
       "      <td>31</td>\n",
       "      <td>25</td>\n",
       "      <td>3</td>\n",
       "    </tr>\n",
       "    <tr>\n",
       "      <th>...</th>\n",
       "      <td>...</td>\n",
       "      <td>...</td>\n",
       "      <td>...</td>\n",
       "    </tr>\n",
       "    <tr>\n",
       "      <th>2020-08-28 19:42</th>\n",
       "      <td>48</td>\n",
       "      <td>36</td>\n",
       "      <td>3</td>\n",
       "    </tr>\n",
       "    <tr>\n",
       "      <th>2020-08-28 19:43</th>\n",
       "      <td>48</td>\n",
       "      <td>38</td>\n",
       "      <td>3</td>\n",
       "    </tr>\n",
       "    <tr>\n",
       "      <th>2020-08-28 19:44</th>\n",
       "      <td>54</td>\n",
       "      <td>37</td>\n",
       "      <td>4</td>\n",
       "    </tr>\n",
       "    <tr>\n",
       "      <th>2020-08-28 19:45</th>\n",
       "      <td>47</td>\n",
       "      <td>36</td>\n",
       "      <td>4</td>\n",
       "    </tr>\n",
       "    <tr>\n",
       "      <th>2020-08-28 19:46</th>\n",
       "      <td>19</td>\n",
       "      <td>17</td>\n",
       "      <td>3</td>\n",
       "    </tr>\n",
       "  </tbody>\n",
       "</table>\n",
       "<p>3822 rows × 3 columns</p>\n",
       "</div>"
      ],
      "text/plain": [
       "                  Count  HostUnq  HostFirstValue\n",
       "Timestamp                                       \n",
       "2020-08-24 10:00      9        1               9\n",
       "2020-08-24 10:01     11        9               3\n",
       "2020-08-24 10:02     28       20               7\n",
       "2020-08-24 10:03     38       22              10\n",
       "2020-08-24 10:04     31       25               3\n",
       "...                 ...      ...             ...\n",
       "2020-08-28 19:42     48       36               3\n",
       "2020-08-28 19:43     48       38               3\n",
       "2020-08-28 19:44     54       37               4\n",
       "2020-08-28 19:45     47       36               4\n",
       "2020-08-28 19:46     19       17               3\n",
       "\n",
       "[3822 rows x 3 columns]"
      ]
     },
     "execution_count": 12,
     "metadata": {},
     "output_type": "execute_result"
    }
   ],
   "source": [
    "hostUniqueByMinute.index = pd.to_datetime(hostUniqueByMinute.index)\n",
    "hostUniqueByMinute.index = hostUniqueByMinute.index.strftime('%Y-%m-%d %H:%M')\n",
    "hostUniqueByMinute"
   ]
  },
  {
   "cell_type": "code",
   "execution_count": 14,
   "metadata": {},
   "outputs": [
    {
     "ename": "AttributeError",
     "evalue": "'Text' object has no property 'freq'",
     "output_type": "error",
     "traceback": [
      "\u001b[0;31m---------------------------------------------------------------------------\u001b[0m",
      "\u001b[0;31mAttributeError\u001b[0m                            Traceback (most recent call last)",
      "\u001b[0;32m<ipython-input-14-17cc6efb5c9a>\u001b[0m in \u001b[0;36m<module>\u001b[0;34m\u001b[0m\n\u001b[1;32m      6\u001b[0m     \u001b[0mplt\u001b[0m\u001b[0;34m.\u001b[0m\u001b[0mplot\u001b[0m\u001b[0;34m(\u001b[0m\u001b[0mx\u001b[0m\u001b[0;34m,\u001b[0m \u001b[0my\u001b[0m\u001b[0;34m)\u001b[0m\u001b[0;34m\u001b[0m\u001b[0;34m\u001b[0m\u001b[0m\n\u001b[1;32m      7\u001b[0m     \u001b[0mplt\u001b[0m\u001b[0;34m.\u001b[0m\u001b[0mtitle\u001b[0m\u001b[0;34m(\u001b[0m\u001b[0;34mf'2020-08-25 {i+12}:00 ~ 2020-08-25 {i+13}:00'\u001b[0m\u001b[0;34m)\u001b[0m\u001b[0;34m\u001b[0m\u001b[0;34m\u001b[0m\u001b[0m\n\u001b[0;32m----> 8\u001b[0;31m     \u001b[0mplt\u001b[0m\u001b[0;34m.\u001b[0m\u001b[0mxticks\u001b[0m\u001b[0;34m(\u001b[0m\u001b[0mrotation\u001b[0m\u001b[0;34m=\u001b[0m\u001b[0;36m45\u001b[0m\u001b[0;34m,\u001b[0m\u001b[0mfreq\u001b[0m\u001b[0;34m=\u001b[0m\u001b[0;36m10\u001b[0m\u001b[0;34m)\u001b[0m\u001b[0;34m\u001b[0m\u001b[0;34m\u001b[0m\u001b[0m\n\u001b[0m\u001b[1;32m      9\u001b[0m     \u001b[0mplt\u001b[0m\u001b[0;34m.\u001b[0m\u001b[0mtight_layout\u001b[0m\u001b[0;34m(\u001b[0m\u001b[0;34m)\u001b[0m\u001b[0;34m\u001b[0m\u001b[0;34m\u001b[0m\u001b[0m\n\u001b[1;32m     10\u001b[0m \u001b[0mplt\u001b[0m\u001b[0;34m.\u001b[0m\u001b[0mshow\u001b[0m\u001b[0;34m(\u001b[0m\u001b[0;34m)\u001b[0m\u001b[0;34m\u001b[0m\u001b[0;34m\u001b[0m\u001b[0m\n",
      "\u001b[0;32m/usr/local/Caskroom/miniconda/base/envs/py_env/lib/python3.7/site-packages/matplotlib/pyplot.py\u001b[0m in \u001b[0;36mxticks\u001b[0;34m(ticks, labels, **kwargs)\u001b[0m\n\u001b[1;32m   1643\u001b[0m         \u001b[0mlabels\u001b[0m \u001b[0;34m=\u001b[0m \u001b[0max\u001b[0m\u001b[0;34m.\u001b[0m\u001b[0mset_xticklabels\u001b[0m\u001b[0;34m(\u001b[0m\u001b[0mlabels\u001b[0m\u001b[0;34m,\u001b[0m \u001b[0;34m**\u001b[0m\u001b[0mkwargs\u001b[0m\u001b[0;34m)\u001b[0m\u001b[0;34m\u001b[0m\u001b[0;34m\u001b[0m\u001b[0m\n\u001b[1;32m   1644\u001b[0m     \u001b[0;32mfor\u001b[0m \u001b[0ml\u001b[0m \u001b[0;32min\u001b[0m \u001b[0mlabels\u001b[0m\u001b[0;34m:\u001b[0m\u001b[0;34m\u001b[0m\u001b[0;34m\u001b[0m\u001b[0m\n\u001b[0;32m-> 1645\u001b[0;31m         \u001b[0ml\u001b[0m\u001b[0;34m.\u001b[0m\u001b[0mupdate\u001b[0m\u001b[0;34m(\u001b[0m\u001b[0mkwargs\u001b[0m\u001b[0;34m)\u001b[0m\u001b[0;34m\u001b[0m\u001b[0;34m\u001b[0m\u001b[0m\n\u001b[0m\u001b[1;32m   1646\u001b[0m \u001b[0;34m\u001b[0m\u001b[0m\n\u001b[1;32m   1647\u001b[0m     \u001b[0;32mreturn\u001b[0m \u001b[0mlocs\u001b[0m\u001b[0;34m,\u001b[0m \u001b[0mlabels\u001b[0m\u001b[0;34m\u001b[0m\u001b[0;34m\u001b[0m\u001b[0m\n",
      "\u001b[0;32m/usr/local/Caskroom/miniconda/base/envs/py_env/lib/python3.7/site-packages/matplotlib/text.py\u001b[0m in \u001b[0;36mupdate\u001b[0;34m(self, kwargs)\u001b[0m\n\u001b[1;32m    175\u001b[0m         \u001b[0;31m# Update bbox last, as it depends on font properties.\u001b[0m\u001b[0;34m\u001b[0m\u001b[0;34m\u001b[0m\u001b[0;34m\u001b[0m\u001b[0m\n\u001b[1;32m    176\u001b[0m         \u001b[0mbbox\u001b[0m \u001b[0;34m=\u001b[0m \u001b[0mkwargs\u001b[0m\u001b[0;34m.\u001b[0m\u001b[0mpop\u001b[0m\u001b[0;34m(\u001b[0m\u001b[0;34m\"bbox\"\u001b[0m\u001b[0;34m,\u001b[0m \u001b[0msentinel\u001b[0m\u001b[0;34m)\u001b[0m\u001b[0;34m\u001b[0m\u001b[0;34m\u001b[0m\u001b[0m\n\u001b[0;32m--> 177\u001b[0;31m         \u001b[0msuper\u001b[0m\u001b[0;34m(\u001b[0m\u001b[0;34m)\u001b[0m\u001b[0;34m.\u001b[0m\u001b[0mupdate\u001b[0m\u001b[0;34m(\u001b[0m\u001b[0mkwargs\u001b[0m\u001b[0;34m)\u001b[0m\u001b[0;34m\u001b[0m\u001b[0;34m\u001b[0m\u001b[0m\n\u001b[0m\u001b[1;32m    178\u001b[0m         \u001b[0;32mif\u001b[0m \u001b[0mbbox\u001b[0m \u001b[0;32mis\u001b[0m \u001b[0;32mnot\u001b[0m \u001b[0msentinel\u001b[0m\u001b[0;34m:\u001b[0m\u001b[0;34m\u001b[0m\u001b[0;34m\u001b[0m\u001b[0m\n\u001b[1;32m    179\u001b[0m             \u001b[0mself\u001b[0m\u001b[0;34m.\u001b[0m\u001b[0mset_bbox\u001b[0m\u001b[0;34m(\u001b[0m\u001b[0mbbox\u001b[0m\u001b[0;34m)\u001b[0m\u001b[0;34m\u001b[0m\u001b[0;34m\u001b[0m\u001b[0m\n",
      "\u001b[0;32m/usr/local/Caskroom/miniconda/base/envs/py_env/lib/python3.7/site-packages/matplotlib/artist.py\u001b[0m in \u001b[0;36mupdate\u001b[0;34m(self, props)\u001b[0m\n\u001b[1;32m    994\u001b[0m                     \u001b[0mfunc\u001b[0m \u001b[0;34m=\u001b[0m \u001b[0mgetattr\u001b[0m\u001b[0;34m(\u001b[0m\u001b[0mself\u001b[0m\u001b[0;34m,\u001b[0m \u001b[0;34mf\"set_{k}\"\u001b[0m\u001b[0;34m,\u001b[0m \u001b[0;32mNone\u001b[0m\u001b[0;34m)\u001b[0m\u001b[0;34m\u001b[0m\u001b[0;34m\u001b[0m\u001b[0m\n\u001b[1;32m    995\u001b[0m                     \u001b[0;32mif\u001b[0m \u001b[0;32mnot\u001b[0m \u001b[0mcallable\u001b[0m\u001b[0;34m(\u001b[0m\u001b[0mfunc\u001b[0m\u001b[0;34m)\u001b[0m\u001b[0;34m:\u001b[0m\u001b[0;34m\u001b[0m\u001b[0;34m\u001b[0m\u001b[0m\n\u001b[0;32m--> 996\u001b[0;31m                         raise AttributeError(f\"{type(self).__name__!r} object \"\n\u001b[0m\u001b[1;32m    997\u001b[0m                                              f\"has no property {k!r}\")\n\u001b[1;32m    998\u001b[0m                     \u001b[0mret\u001b[0m\u001b[0;34m.\u001b[0m\u001b[0mappend\u001b[0m\u001b[0;34m(\u001b[0m\u001b[0mfunc\u001b[0m\u001b[0;34m(\u001b[0m\u001b[0mv\u001b[0m\u001b[0;34m)\u001b[0m\u001b[0;34m)\u001b[0m\u001b[0;34m\u001b[0m\u001b[0;34m\u001b[0m\u001b[0m\n",
      "\u001b[0;31mAttributeError\u001b[0m: 'Text' object has no property 'freq'"
     ]
    },
    {
     "data": {
      "image/png": "[encoded data removed]",
      "text/plain": [
       "<Figure size 864x576 with 1 Axes>"
      ]
     },
     "metadata": {
      "needs_background": "light"
     },
     "output_type": "display_data"
    }
   ],
   "source": [
    "plt.figure(figsize=(12,8))\n",
    "for i in range(4):\n",
    "    x = hostUniqueByMinute[f'2020-08-25 {i+12}:00' : f'2020-08-25 {i+13}:00']['HostUnq'].index\n",
    "    y = hostUniqueByMinute[f'2020-08-25 {i+12}:00' : f'2020-08-25 {i+13}:00']['HostUnq']\n",
    "    plt.subplot(2, 2, i+1)\n",
    "    plt.plot(x, y)\n",
    "    plt.title(f'2020-08-25 {i+12}:00 ~ 2020-08-25 {i+13}:00')\n",
    "    plt.xticks(rotation=45)\n",
    "    plt.tight_layout()\n",
    "plt.show()"
   ]
  },
  {
   "cell_type": "code",
   "execution_count": null,
   "metadata": {},
   "outputs": [],
   "source": [
    "hostUniqueByMinute.index = pd.to_datetime(hostUniqueByMinute.index)"
   ]
  },
  {
   "cell_type": "markdown",
   "metadata": {},
   "source": [
    "# 개별 호스트 유니크 수가 많은 인위적인 시간 패턴이 존재한다.\n",
    "- 하나의 호스트가 혼자 많은 접근을 시도하는 경우는 시간상을 찾을 수 없다.\n",
    "- 여러개의 호스트가 평균보다 많은 접근을 시도하는 경우는 시계열 상에 인위적인 패턴으로 등장한다."
   ]
  },
  {
   "cell_type": "markdown",
   "metadata": {},
   "source": [
    "## 24일 패턴 없음"
   ]
  },
  {
   "cell_type": "code",
   "execution_count": null,
   "metadata": {},
   "outputs": [],
   "source": [
    "labels = ['1분내 총 접근 기록', '1분내 접근한 총 호스트 수', '1분내 접근 기록 중 최다 접근 호스트의 접근 기록']\n",
    "plt.figure(figsize=(9,6))\n",
    "hostUniqueByMinute['2020-08-24 09:00':'2020-08-24 23:00']['Count'].sort_index().plot()\n",
    "hostUniqueByMinute['2020-08-24 09:00':'2020-08-24 23:00']['HostUnq'].sort_index().plot()\n",
    "hostUniqueByMinute['2020-08-24 09:00':'2020-08-24 23:00']['HostFirstValue'].sort_index().plot()\n",
    "plt.title('2020-08-24 패턴 없음')\n",
    "plt.ylabel('count')\n",
    "plt.ylim([0,3000])\n",
    "plt.legend(labels)\n",
    "plt.show()"
   ]
  },
  {
   "cell_type": "markdown",
   "metadata": {},
   "source": [
    "## 25일 총 8번 개별 호스트의 유니크 수가 급격히 늘어나는 패턴을 보임"
   ]
  },
  {
   "cell_type": "code",
   "execution_count": null,
   "metadata": {},
   "outputs": [],
   "source": [
    "plt.figure(figsize=(9,6))\n",
    "hostUniqueByMinute['2020-08-25 09:00':'2020-08-25 18:00']['Count'].sort_index().plot()\n",
    "hostUniqueByMinute['2020-08-25 09:00':'2020-08-25 18:00']['HostUnq'].sort_index().plot()\n",
    "hostUniqueByMinute['2020-08-25 09:00':'2020-08-25 18:00']['HostFirstValue'].sort_index().plot()\n",
    "plt.title('2020-08-25')\n",
    "plt.ylabel('count')\n",
    "plt.ylim([0,3000])\n",
    "plt.legend(labels)\n",
    "plt.show()"
   ]
  },
  {
   "cell_type": "markdown",
   "metadata": {},
   "source": [
    "## 26일 총 8번 개별 호스트의 유니크 수가 급격히 늘어나는 패턴을 보임"
   ]
  },
  {
   "cell_type": "code",
   "execution_count": null,
   "metadata": {},
   "outputs": [],
   "source": [
    "plt.figure(figsize=(9,6))\n",
    "hostUniqueByMinute['2020-08-26 09:00':'2020-08-26 18:00']['Count'].sort_index().plot()\n",
    "hostUniqueByMinute['2020-08-26 09:00':'2020-08-26 18:00']['HostUnq'].sort_index().plot()\n",
    "hostUniqueByMinute['2020-08-26 09:00':'2020-08-26 18:00']['HostFirstValue'].sort_index().plot()\n",
    "plt.title('2020-08-26')\n",
    "plt.ylabel('count')\n",
    "plt.ylim([0,3000])\n",
    "plt.legend(labels)\n",
    "plt.show()"
   ]
  },
  {
   "cell_type": "markdown",
   "metadata": {},
   "source": [
    "## 27일 총 8번 개별 호스트의 유니크 수가 급격히 늘어나는 패턴을 보임 (26일과 패턴이 똑같다)"
   ]
  },
  {
   "cell_type": "code",
   "execution_count": null,
   "metadata": {},
   "outputs": [],
   "source": [
    "plt.figure(figsize=(9,6))\n",
    "hostUniqueByMinute['2020-08-27 09:00':'2020-08-27 18:00']['Count'].sort_index().plot()\n",
    "hostUniqueByMinute['2020-08-27 09:00':'2020-08-27 18:00']['HostUnq'].sort_index().plot()\n",
    "hostUniqueByMinute['2020-08-27 09:00':'2020-08-27 18:00']['HostFirstValue'].sort_index().plot()\n",
    "plt.title('2020-08-27')\n",
    "plt.ylabel('count')\n",
    "plt.ylim([0,3000])\n",
    "plt.legend(labels)\n",
    "plt.show()"
   ]
  },
  {
   "cell_type": "markdown",
   "metadata": {},
   "source": [
    "## 28일 총 6번 개별 호스트의 유니크 수가 급격히 늘어나는 패턴을 보임 (비슷한 패턴을 보인다)"
   ]
  },
  {
   "cell_type": "code",
   "execution_count": null,
   "metadata": {},
   "outputs": [],
   "source": [
    "plt.figure(figsize=(9,6))\n",
    "hostUniqueByMinute['2020-08-28 12:00':'2020-08-28 17:00']['Count'].sort_index().plot()\n",
    "hostUniqueByMinute['2020-08-28 12:00':'2020-08-28 17:00']['HostUnq'].sort_index().plot()\n",
    "hostUniqueByMinute['2020-08-28 12:00':'2020-08-28 17:00']['HostFirstValue'].sort_index().plot()\n",
    "plt.title('2020-08-28')\n",
    "plt.ylabel('count')\n",
    "plt.ylim([0,3000])\n",
    "plt.legend(labels)\n",
    "plt.show()"
   ]
  },
  {
   "cell_type": "markdown",
   "metadata": {},
   "source": [
    "# 호스트가 단독으로 많이 들어오는 경우에는 시간에 따른 패턴이 없다."
   ]
  },
  {
   "cell_type": "code",
   "execution_count": null,
   "metadata": {},
   "outputs": [],
   "source": [
    "plt.figure(figsize=(9,6))\n",
    "hostUniqueByMinute['HostFirstValue'].sort_index().plot()\n",
    "plt.xticks(rotation=45)\n",
    "plt.show()"
   ]
  },
  {
   "cell_type": "code",
   "execution_count": null,
   "metadata": {},
   "outputs": [],
   "source": [
    "hostUniqueByMinute.index = hostUniqueByMinute.index.strftime('%Y-%m-%d %H:%M')"
   ]
  },
  {
   "cell_type": "code",
   "execution_count": null,
   "metadata": {},
   "outputs": [],
   "source": [
    "anoPattern = hostUniqueByMinute[hostUniqueByMinute['HostUnq'] > 200].index"
   ]
  },
  {
   "cell_type": "code",
   "execution_count": null,
   "metadata": {},
   "outputs": [],
   "source": [
    "# anoPattern = list(anomalyPattern)\n",
    "anomalyPattern = anoPattern.tolist()\n",
    "len(anomalyPattern)"
   ]
  },
  {
   "cell_type": "code",
   "execution_count": null,
   "metadata": {},
   "outputs": [],
   "source": [
    "anoHost25 = df['2020-08-25']['Host'].value_counts()[2:52].index\n",
    "anoHost25"
   ]
  },
  {
   "cell_type": "code",
   "execution_count": null,
   "metadata": {},
   "outputs": [],
   "source": [
    "df.index = df.index.strftime('%Y-%m-%d %H:%M')\n",
    "df.head()"
   ]
  }
 ],
 "metadata": {
  "kernelspec": {
   "display_name": "Python 3",
   "language": "python",
   "name": "python3"
  },
  "language_info": {
   "codemirror_mode": {
    "name": "ipython",
    "version": 3
   },
   "file_extension": ".py",
   "mimetype": "text/x-python",
   "name": "python",
   "nbconvert_exporter": "python",
   "pygments_lexer": "ipython3",
   "version": "3.7.9"
  }
 },
 "nbformat": 4,
 "nbformat_minor": 4
}
