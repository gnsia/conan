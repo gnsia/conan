{
 "cells": [
  {
   "cell_type": "markdown",
   "metadata": {},
   "source": [
    "# 이전 모델은 성능이 엉망이다.\n",
    "- 파일 분리시 단순 아이피가 아닌 보고서에 나온 알고리즘으로 접근하자\n",
    "- xml-rpc 사용자와 이상패턴 호스트 군은 제외하고 분류 모델을 제작한다.\n",
    "    - 대회 주제에서 벗어난다.\n",
    "    - 다량 접근이 발생하는 상황에서도 특정 공격을 분류하는 모델을 만들어야한다.\n",
    "\n",
    "- 모델을 각 공격별로 만들어야한다.\n",
    "- 예상 시스템 진행도\n",
    "    - input으로 로그.csv를 넣는다.\n",
    "    - 1분 단위로 절삭(이상행위는 짧은 시간동안 주기적인 성향을 보이기 때문에)\n",
    "    - 절삭 csv파일을 이미지화\n",
    "    - 이미지가 모델 A에 의해 분류 되고 데이터 프레임에 기록된다.\n",
    "    - 이미지가 모델 B에 의해 분류 되고 데이터 프레임에 기록된다.\n",
    "    - 이미지가 모델 C에 의해 분류 되고 데이터 프레임에 기록된다.\n",
    "    - 파일명과 대조하여 모델 A, B, C로부터 잘 분류 되었는지 판단.\n",
    "        - 예상 결과\n",
    "        - 파일명 : 2020-08-xx_xx:xx.csv\n",
    "        - A 공격 : 0\n",
    "        - B 공격 : 1\n",
    "        - C 공격 : 1\n",
    "            - 판독 : 해당 시간은 B와 C 공격에대한 이상행위 접근이 있었다.\n",
    "    - 모델 평가시 실제 데이터 프레임과 대조하여 분류 정확도를 측정한다.\n",
    "        \n",
    "## 크루덴셜 스터핑 분류 모델\n",
    "- ['Payload']에 log, pwd가 포함된 로그는 새로운 컬럼['Crudential']에 1을 추가한다. \n",
    "- 1분 단위로 파일을 절단하고 파일명에 공격 여부 기록.\n",
    "- 절삭된 csv 파일에서 ['Timestamp'], ['Host'], ['UA'], ['Crudential'] 컬럼을 삭제하여 특정화된 정보가 공격으로 분류 될 가능성을 지운다.\n",
    "    - ['Host']와 ['UA'] 컬럼에는 패턴 정보가 없고 API를 이용하여 특징 추출이 가능하다.\n",
    "- 이미지화(점 or 면)\n",
    "- 모델 제작을 진행(유명한 모델로)하고 테스트시 80%가 넘으면 다음 모델을 제작\n",
    "\n",
    "## URL 추측 부르트 포스 분류 모델\n",
    "- ['Path']에 wp-login 등 관리자 페이지를 추측하는 문자열이 포함된 로그는 새로운 컬럼['Brute']에 1을 추가한다. \n",
    "- 1분 단위로 파일을 절단하고 파일명에 공격 여부 기록.\n",
    "- 절삭된 csv 파일에서 ['Timestamp'], ['Host'], ['UA'], ['Brute'] 컬럼을 삭제하여 특정화된 정보가 공격으로 분류 될 가능성을 지운다.\n",
    "- 이미지화(점 or 면)\n",
    "- 모델 제작을 진행(유명한 모델로)하고 테스트시 80%가 넘으면 다음 모델을 제작\n",
    "\n",
    "## 웹 스크래핑 분류 모델\n",
    "- ['Referer']에 '-',NaN 등이 들어가고 ['Path']가 순차적으로 진행되고 접근 동일 호스트의 접근 기록이 짧은 로그들을 추출한다.\n",
    "- 추출된 로그는 새로운 컬럼['Scrapping']에 1을 추가한다. \n",
    "- 1분 단위로 파일을 절단하고 파일명에 공격 여부 기록.\n",
    "- 절삭된 csv 파일에서 ['Timestamp'], ['Host'], ['UA'], ['Brute'] 컬럼을 삭제하여 특정화된 정보가 공격으로 분류 될 가능성을 지운다.\n",
    "- 이미지화(점 or 면)\n",
    "- 모델 제작을 진행(유명한 모델로)하고 테스트시 80%가 넘으면 모델 제작 종료\n",
    "\n",
    "## 장점 \n",
    "- 1분 이라는 짧은 시간안에 이상행위를 판단 할 수 있어 초기 대응이 가능하다.\n",
    "- 어떤 종류에 공격에 노출 되었는지 확인이 가능하다. (다중 공격도 분류 가능)\n",
    "- 데이터가 늘어날수록 모델의 기능이 향상된다. (주기적으로 업데이트시 더욱 강력하다.)\n",
    "\n",
    "## 단점\n",
    "- 없다\n"
   ]
  },
  {
   "cell_type": "code",
   "execution_count": null,
   "metadata": {},
   "outputs": [],
   "source": []
  }
 ],
 "metadata": {
  "kernelspec": {
   "display_name": "Python 3",
   "language": "python",
   "name": "python3"
  },
  "language_info": {
   "codemirror_mode": {
    "name": "ipython",
    "version": 3
   },
   "file_extension": ".py",
   "mimetype": "text/x-python",
   "name": "python",
   "nbconvert_exporter": "python",
   "pygments_lexer": "ipython3",
   "version": "3.7.9"
  },
  "toc": {
   "base_numbering": 1,
   "nav_menu": {},
   "number_sections": true,
   "sideBar": true,
   "skip_h1_title": false,
   "title_cell": "Table of Contents",
   "title_sidebar": "Contents",
   "toc_cell": false,
   "toc_position": {},
   "toc_section_display": true,
   "toc_window_display": false
  }
 },
 "nbformat": 4,
 "nbformat_minor": 4
}
