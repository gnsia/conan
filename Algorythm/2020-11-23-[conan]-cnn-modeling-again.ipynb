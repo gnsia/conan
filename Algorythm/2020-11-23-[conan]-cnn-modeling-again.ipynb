{
 "cells": [
  {
   "cell_type": "code",
   "execution_count": 2,
   "metadata": {},
   "outputs": [],
   "source": [
    "import cv2\n",
    "import pandas as pd\n",
    "import numpy as np\n",
    "import random\n",
    "import matplotlib.pyplot as plt\n",
    "import subprocess\n",
    "import os\n",
    "\n",
    "from keras.preprocessing.image import ImageDataGenerator, load_img\n",
    "from keras.utils import to_categorical\n",
    "from sklearn.model_selection import train_test_split\n",
    "\n",
    "import matplotlib.pyplot as plt"
   ]
  },
  {
   "cell_type": "code",
   "execution_count": 3,
   "metadata": {},
   "outputs": [],
   "source": [
    "test_attack = os.listdir('../img_dataset/test/attack')\n",
    "test_normal = os.listdir('../img_dataset/test/normal')\n",
    "train_attack = os.listdir('../img_dataset/train/attack')\n",
    "train_normal = os.listdir('../img_dataset/train/normal')\n",
    "test_attack.sort()\n",
    "test_normal.sort()\n",
    "train_attack.sort()\n",
    "train_normal.sort()"
   ]
  },
  {
   "cell_type": "code",
   "execution_count": 4,
   "metadata": {},
   "outputs": [
    {
     "name": "stdout",
     "output_type": "stream",
     "text": [
      "Testset_attack : 308\n",
      "Testset_normal : 439\n",
      "Trainset_attack : 1210\n",
      "Trainset_normal : 1774\n"
     ]
    }
   ],
   "source": [
    "print('Testset_attack :', len(os.listdir('../img_dataset/test/attack')))\n",
    "print('Testset_normal :', len(os.listdir('../img_dataset/test/normal')))\n",
    "print('Trainset_attack :', len(os.listdir('../img_dataset/train/attack')))\n",
    "print('Trainset_normal :', len(os.listdir('../img_dataset/train/normal')))"
   ]
  },
  {
   "cell_type": "code",
   "execution_count": 16,
   "metadata": {},
   "outputs": [
    {
     "name": "stdout",
     "output_type": "stream",
     "text": [
      "(128, 128)\n"
     ]
    },
    {
     "data": {
      "image/png": "[encoded data removed]",
      "text/plain": [
       "<Figure size 432x288 with 1 Axes>"
      ]
     },
     "metadata": {
      "needs_background": "light"
     },
     "output_type": "display_data"
    }
   ],
   "source": [
    "img = cv2.imread('../img_dataset/test/attack/attack_0001.png', 0)\n",
    "plt.imshow(img, cmap='gray')\n",
    "print(img.shape)"
   ]
  },
  {
   "cell_type": "code",
   "execution_count": 5,
   "metadata": {},
   "outputs": [
    {
     "name": "stdout",
     "output_type": "stream",
     "text": [
      "Found 2984 images belonging to 2 classes.\n",
      "Found 2984 images belonging to 2 classes.\n"
     ]
    }
   ],
   "source": [
    "train_datagen = ImageDataGenerator(\n",
    "    rotation_range=15,\n",
    "    rescale=1./255,\n",
    "    shear_range=0.1,\n",
    "    zoom_range=0.2,\n",
    "    horizontal_flip=True,\n",
    "    width_shift_range=0.1,\n",
    "    height_shift_range=0.1\n",
    ")\n",
    "\n",
    "train_generator = train_datagen.flow_from_directory(\n",
    "    \"../img_dataset/train/\",\n",
    "    target_size=(128, 128),\n",
    "    class_mode='binary',\n",
    "    batch_size=16\n",
    ")\n",
    "\n",
    "validation_datagen = ImageDataGenerator(rescale=1./255)\n",
    "\n",
    "validation_generator = validation_datagen.flow_from_directory(\n",
    "    \"../img_dataset/train/\",\n",
    "    target_size=(128, 128),\n",
    "    class_mode='binary',\n",
    "    batch_size=16\n",
    ")"
   ]
  },
  {
   "cell_type": "code",
   "execution_count": 6,
   "metadata": {},
   "outputs": [],
   "source": [
    "from keras.models import Sequential\n",
    "from keras.layers import Conv2D, MaxPooling2D, Dropout, Flatten, Dense, Activation, BatchNormalization\n",
    "from keras.callbacks import EarlyStopping, ReduceLROnPlateau"
   ]
  },
  {
   "cell_type": "code",
   "execution_count": 8,
   "metadata": {},
   "outputs": [
    {
     "name": "stdout",
     "output_type": "stream",
     "text": [
      "Model: \"sequential_1\"\n",
      "_________________________________________________________________\n",
      "Layer (type)                 Output Shape              Param #   \n",
      "=================================================================\n",
      "conv2d_1 (Conv2D)            (None, 126, 126, 32)      896       \n",
      "_________________________________________________________________\n",
      "batch_normalization_2 (Batch (None, 126, 126, 32)      128       \n",
      "_________________________________________________________________\n",
      "max_pooling2d_1 (MaxPooling2 (None, 42, 42, 32)        0         \n",
      "_________________________________________________________________\n",
      "dropout_2 (Dropout)          (None, 42, 42, 32)        0         \n",
      "_________________________________________________________________\n",
      "flatten_1 (Flatten)          (None, 56448)             0         \n",
      "_________________________________________________________________\n",
      "dense_2 (Dense)              (None, 128)               7225472   \n",
      "_________________________________________________________________\n",
      "batch_normalization_3 (Batch (None, 128)               512       \n",
      "_________________________________________________________________\n",
      "dropout_3 (Dropout)          (None, 128)               0         \n",
      "_________________________________________________________________\n",
      "dense_3 (Dense)              (None, 1)                 129       \n",
      "=================================================================\n",
      "Total params: 7,227,137\n",
      "Trainable params: 7,226,817\n",
      "Non-trainable params: 320\n",
      "_________________________________________________________________\n"
     ]
    }
   ],
   "source": [
    "model = Sequential()\n",
    "\n",
    "model.add(Conv2D(32, (3, 3), activation='relu', input_shape=(128, 128, 3)))\n",
    "model.add(BatchNormalization())\n",
    "model.add(MaxPooling2D(pool_size=(3, 3)))\n",
    "model.add(Dropout(0.25))\n",
    "\n",
    "model.add(Flatten())\n",
    "model.add(Dense(128, activation='relu'))\n",
    "model.add(BatchNormalization())\n",
    "model.add(Dropout(0.5))\n",
    "model.add(Dense(1, activation='sigmoid')) # 2 because we have cat and dog classes\n",
    "\n",
    "model.compile(loss='binary_crossentropy', optimizer='adam', metrics=['accuracy'])\n",
    "\n",
    "model.summary()"
   ]
  },
  {
   "cell_type": "code",
   "execution_count": 11,
   "metadata": {},
   "outputs": [
    {
     "name": "stdout",
     "output_type": "stream",
     "text": [
      "Epoch 1/50\n",
      "16/16 [==============================] - 12s 772ms/step - loss: 0.5633 - accuracy: 0.7305 - val_loss: 0.5821 - val_accuracy: 0.8331\n",
      "Epoch 2/50\n",
      "16/16 [==============================] - 12s 756ms/step - loss: 0.6627 - accuracy: 0.7148 - val_loss: 0.5671 - val_accuracy: 0.7708\n",
      "Epoch 3/50\n",
      "16/16 [==============================] - 13s 786ms/step - loss: 0.5557 - accuracy: 0.7461 - val_loss: 0.5489 - val_accuracy: 0.7433\n",
      "Epoch 4/50\n",
      "16/16 [==============================] - 13s 822ms/step - loss: 0.5120 - accuracy: 0.8125 - val_loss: 0.5440 - val_accuracy: 0.7436\n",
      "Epoch 5/50\n",
      "16/16 [==============================] - 13s 791ms/step - loss: 0.6681 - accuracy: 0.7227 - val_loss: 0.5391 - val_accuracy: 0.7889\n",
      "Epoch 6/50\n",
      "16/16 [==============================] - 13s 803ms/step - loss: 0.6053 - accuracy: 0.7137 - val_loss: 0.5341 - val_accuracy: 0.7758\n",
      "Epoch 7/50\n",
      "16/16 [==============================] - 15s 919ms/step - loss: 0.6263 - accuracy: 0.7344 - val_loss: 0.5403 - val_accuracy: 0.7614\n",
      "Epoch 8/50\n",
      "16/16 [==============================] - 14s 851ms/step - loss: 0.6411 - accuracy: 0.7148 - val_loss: 0.5706 - val_accuracy: 0.7530\n",
      "Epoch 9/50\n",
      "16/16 [==============================] - 15s 942ms/step - loss: 0.6066 - accuracy: 0.7422 - val_loss: 0.5521 - val_accuracy: 0.7513\n",
      "Epoch 10/50\n",
      "16/16 [==============================] - 14s 854ms/step - loss: 0.5638 - accuracy: 0.7695 - val_loss: 0.5345 - val_accuracy: 0.7597\n",
      "Epoch 11/50\n",
      "16/16 [==============================] - 13s 826ms/step - loss: 0.5842 - accuracy: 0.7656 - val_loss: 0.5229 - val_accuracy: 0.8083\n",
      "Epoch 12/50\n",
      "16/16 [==============================] - 13s 808ms/step - loss: 0.5664 - accuracy: 0.7734 - val_loss: 0.5315 - val_accuracy: 0.8174\n",
      "Epoch 13/50\n",
      "16/16 [==============================] - 14s 849ms/step - loss: 0.5564 - accuracy: 0.7422 - val_loss: 0.5365 - val_accuracy: 0.7731\n",
      "Epoch 14/50\n",
      "16/16 [==============================] - 14s 901ms/step - loss: 0.6363 - accuracy: 0.7500 - val_loss: 0.5172 - val_accuracy: 0.7500\n",
      "Epoch 15/50\n",
      "16/16 [==============================] - 14s 905ms/step - loss: 0.5579 - accuracy: 0.8008 - val_loss: 0.5180 - val_accuracy: 0.7611\n",
      "Epoch 16/50\n",
      "16/16 [==============================] - 13s 815ms/step - loss: 0.6405 - accuracy: 0.7148 - val_loss: 0.5531 - val_accuracy: 0.7145\n",
      "Epoch 17/50\n",
      "16/16 [==============================] - 14s 861ms/step - loss: 0.5028 - accuracy: 0.8047 - val_loss: 0.5906 - val_accuracy: 0.6890\n",
      "Epoch 18/50\n",
      "16/16 [==============================] - 15s 917ms/step - loss: 0.6535 - accuracy: 0.7188 - val_loss: 0.7878 - val_accuracy: 0.5985\n",
      "Epoch 19/50\n",
      "16/16 [==============================] - 16s 987ms/step - loss: 0.5144 - accuracy: 0.7621 - val_loss: 0.6756 - val_accuracy: 0.6267\n",
      "Epoch 20/50\n",
      "16/16 [==============================] - 15s 945ms/step - loss: 0.5794 - accuracy: 0.7621 - val_loss: 0.5331 - val_accuracy: 0.7195\n",
      "Epoch 21/50\n",
      "16/16 [==============================] - 14s 891ms/step - loss: 0.5482 - accuracy: 0.7422 - val_loss: 0.4883 - val_accuracy: 0.8589\n",
      "Epoch 22/50\n",
      "16/16 [==============================] - 13s 803ms/step - loss: 0.4976 - accuracy: 0.7540 - val_loss: 0.4944 - val_accuracy: 0.8629\n",
      "Epoch 23/50\n",
      "16/16 [==============================] - 14s 896ms/step - loss: 0.5162 - accuracy: 0.7930 - val_loss: 0.4537 - val_accuracy: 0.8090\n",
      "Epoch 24/50\n",
      "16/16 [==============================] - 14s 869ms/step - loss: 0.5298 - accuracy: 0.7656 - val_loss: 0.4446 - val_accuracy: 0.8519\n",
      "Epoch 25/50\n",
      "16/16 [==============================] - 13s 803ms/step - loss: 0.5471 - accuracy: 0.7661 - val_loss: 0.8718 - val_accuracy: 0.4085\n",
      "Epoch 26/50\n",
      "16/16 [==============================] - 13s 818ms/step - loss: 0.5069 - accuracy: 0.7773 - val_loss: 1.0568 - val_accuracy: 0.4132\n",
      "Epoch 27/50\n",
      "16/16 [==============================] - 13s 808ms/step - loss: 0.4920 - accuracy: 0.7773 - val_loss: 0.5564 - val_accuracy: 0.6227\n",
      "Epoch 28/50\n",
      "16/16 [==============================] - 13s 842ms/step - loss: 0.4740 - accuracy: 0.7891 - val_loss: 0.4184 - val_accuracy: 0.8482\n",
      "Epoch 29/50\n",
      "16/16 [==============================] - 13s 809ms/step - loss: 0.5109 - accuracy: 0.7656 - val_loss: 0.4925 - val_accuracy: 0.8321\n",
      "Epoch 30/50\n",
      "16/16 [==============================] - 13s 824ms/step - loss: 0.4929 - accuracy: 0.8047 - val_loss: 0.5263 - val_accuracy: 0.7366\n",
      "Epoch 31/50\n",
      "16/16 [==============================] - 13s 799ms/step - loss: 0.4838 - accuracy: 0.7969 - val_loss: 0.5497 - val_accuracy: 0.7383\n",
      "Epoch 32/50\n",
      "16/16 [==============================] - 13s 827ms/step - loss: 0.5833 - accuracy: 0.7419 - val_loss: 1.1498 - val_accuracy: 0.6116\n",
      "Epoch 33/50\n",
      "16/16 [==============================] - 13s 810ms/step - loss: 0.5045 - accuracy: 0.7852 - val_loss: 0.5978 - val_accuracy: 0.7265\n",
      "Epoch 34/50\n",
      "16/16 [==============================] - 15s 914ms/step - loss: 0.5015 - accuracy: 0.8164 - val_loss: 0.3661 - val_accuracy: 0.8509\n",
      "Epoch 35/50\n",
      "16/16 [==============================] - 14s 858ms/step - loss: 0.4257 - accuracy: 0.8164 - val_loss: 0.3880 - val_accuracy: 0.8633\n",
      "Epoch 36/50\n",
      "16/16 [==============================] - 14s 903ms/step - loss: 0.5356 - accuracy: 0.7891 - val_loss: 0.3900 - val_accuracy: 0.8408\n",
      "Epoch 37/50\n",
      "16/16 [==============================] - 14s 903ms/step - loss: 0.4546 - accuracy: 0.8242 - val_loss: 0.5604 - val_accuracy: 0.7245\n",
      "Epoch 38/50\n",
      "16/16 [==============================] - 13s 822ms/step - loss: 0.4919 - accuracy: 0.7581 - val_loss: 0.6704 - val_accuracy: 0.7363\n",
      "Epoch 39/50\n",
      "16/16 [==============================] - 13s 823ms/step - loss: 0.5334 - accuracy: 0.8047 - val_loss: 0.4359 - val_accuracy: 0.8053\n",
      "Epoch 40/50\n",
      "16/16 [==============================] - 13s 820ms/step - loss: 0.3956 - accuracy: 0.8516 - val_loss: 0.3680 - val_accuracy: 0.8361\n",
      "Epoch 41/50\n",
      "16/16 [==============================] - 13s 825ms/step - loss: 0.4863 - accuracy: 0.7773 - val_loss: 0.3232 - val_accuracy: 0.8787\n",
      "Epoch 42/50\n",
      "16/16 [==============================] - 14s 858ms/step - loss: 0.4543 - accuracy: 0.8086 - val_loss: 0.3327 - val_accuracy: 0.8626\n",
      "Epoch 43/50\n",
      "16/16 [==============================] - 14s 904ms/step - loss: 0.4760 - accuracy: 0.7969 - val_loss: 0.5546 - val_accuracy: 0.7718\n",
      "Epoch 44/50\n",
      "16/16 [==============================] - 14s 847ms/step - loss: 0.4200 - accuracy: 0.8164 - val_loss: 0.3224 - val_accuracy: 0.8737\n",
      "Epoch 45/50\n",
      "16/16 [==============================] - 13s 834ms/step - loss: 0.4830 - accuracy: 0.8047 - val_loss: 0.5524 - val_accuracy: 0.7413\n",
      "Epoch 46/50\n",
      "16/16 [==============================] - 15s 957ms/step - loss: 0.4087 - accuracy: 0.8203 - val_loss: 0.5272 - val_accuracy: 0.7664\n",
      "Epoch 47/50\n",
      "16/16 [==============================] - 16s 982ms/step - loss: 0.3794 - accuracy: 0.8555 - val_loss: 0.3979 - val_accuracy: 0.8164\n",
      "Epoch 48/50\n",
      "16/16 [==============================] - 16s 975ms/step - loss: 0.4370 - accuracy: 0.7891 - val_loss: 0.3756 - val_accuracy: 0.8465\n",
      "Epoch 49/50\n",
      "16/16 [==============================] - 16s 976ms/step - loss: 0.3706 - accuracy: 0.8629 - val_loss: 0.3604 - val_accuracy: 0.8576\n",
      "Epoch 50/50\n",
      "16/16 [==============================] - 16s 992ms/step - loss: 0.4202 - accuracy: 0.8516 - val_loss: 0.5362 - val_accuracy: 0.7751\n"
     ]
    }
   ],
   "source": [
    "epochs=50\n",
    "history = model.fit(\n",
    "    train_generator, \n",
    "    epochs=epochs,\n",
    "    steps_per_epoch=16,\n",
    "    validation_data = validation_generator\n",
    ")"
   ]
  },
  {
   "cell_type": "code",
   "execution_count": 12,
   "metadata": {},
   "outputs": [],
   "source": [
    "model.save_weights('conan_ver_02.h5')"
   ]
  },
  {
   "cell_type": "code",
   "execution_count": 1,
   "metadata": {},
   "outputs": [
    {
     "ename": "NameError",
     "evalue": "name 'os' is not defined",
     "output_type": "error",
     "traceback": [
      "\u001b[0;31m---------------------------------------------------------------------------\u001b[0m",
      "\u001b[0;31mNameError\u001b[0m                                 Traceback (most recent call last)",
      "\u001b[0;32m<ipython-input-1-b61c0aae19f7>\u001b[0m in \u001b[0;36m<module>\u001b[0;34m\u001b[0m\n\u001b[0;32m----> 1\u001b[0;31m \u001b[0mtest_filenames\u001b[0m \u001b[0;34m=\u001b[0m \u001b[0mos\u001b[0m\u001b[0;34m.\u001b[0m\u001b[0mlistdir\u001b[0m\u001b[0;34m(\u001b[0m\u001b[0;34m\"../dataset/credential/img/point/test/\"\u001b[0m\u001b[0;34m)\u001b[0m\u001b[0;34m\u001b[0m\u001b[0;34m\u001b[0m\u001b[0m\n\u001b[0m\u001b[1;32m      2\u001b[0m test_df = pd.DataFrame({\n\u001b[1;32m      3\u001b[0m     \u001b[0;34m'filename'\u001b[0m\u001b[0;34m:\u001b[0m \u001b[0mtest_filenames\u001b[0m\u001b[0;34m\u001b[0m\u001b[0;34m\u001b[0m\u001b[0m\n\u001b[1;32m      4\u001b[0m })\n\u001b[1;32m      5\u001b[0m \u001b[0;34m\u001b[0m\u001b[0m\n",
      "\u001b[0;31mNameError\u001b[0m: name 'os' is not defined"
     ]
    }
   ],
   "source": [
    "test_filenames = os.listdir(\"../dataset/credential/img/point/test/\")\n",
    "test_df = pd.DataFrame({\n",
    "    'filename': test_filenames\n",
    "})\n",
    "\n",
    "nb_samples = test_df.shape[0]\n",
    "\n",
    "test_gen = ImageDataGenerator(rescale=1./255)\n",
    "\n",
    "test_generator = test_gen.flow_from_dataframe(\n",
    "    test_df, \n",
    "    \"../dataset/credential/img/point/test/\", \n",
    "    x_col='filename',\n",
    "    y_col=None,\n",
    "    class_mode=None,\n",
    "    target_size=(128, 128),\n",
    "    batch_size = 16,\n",
    "    shuffle = False\n",
    ")"
   ]
  },
  {
   "cell_type": "code",
   "execution_count": 32,
   "metadata": {},
   "outputs": [],
   "source": [
    "predict = model.predict(test_generator, steps=np.ceil(nb_samples/16))"
   ]
  },
  {
   "cell_type": "code",
   "execution_count": 36,
   "metadata": {},
   "outputs": [
    {
     "data": {
      "text/plain": [
       "array([[0.9609329 ],\n",
       "       [0.92127734],\n",
       "       [0.5897776 ],\n",
       "       [0.9789414 ],\n",
       "       [0.04261968],\n",
       "       [0.9197974 ],\n",
       "       [0.94318926],\n",
       "       [0.22879478],\n",
       "       [0.8425806 ],\n",
       "       [0.45215386],\n",
       "       [0.2637325 ],\n",
       "       [0.17357868],\n",
       "       [0.42193854],\n",
       "       [0.7070233 ],\n",
       "       [0.8067026 ],\n",
       "       [0.0075314 ],\n",
       "       [0.7191653 ],\n",
       "       [0.00996274],\n",
       "       [0.9079332 ],\n",
       "       [0.23980647],\n",
       "       [0.5753059 ],\n",
       "       [0.9729494 ],\n",
       "       [0.21539575],\n",
       "       [0.03671032],\n",
       "       [0.95768636],\n",
       "       [0.76638794],\n",
       "       [0.2999816 ],\n",
       "       [0.40643087],\n",
       "       [0.80003977],\n",
       "       [0.7860048 ],\n",
       "       [0.17421833],\n",
       "       [0.5468666 ],\n",
       "       [0.20949277],\n",
       "       [0.2492682 ],\n",
       "       [0.9075953 ],\n",
       "       [0.4319697 ],\n",
       "       [0.9378437 ],\n",
       "       [0.05473819],\n",
       "       [0.09748325],\n",
       "       [0.84730303],\n",
       "       [0.00993252],\n",
       "       [0.5322014 ],\n",
       "       [0.03538856],\n",
       "       [0.59976214],\n",
       "       [0.11808255],\n",
       "       [0.82430387],\n",
       "       [0.9064966 ],\n",
       "       [0.16581252],\n",
       "       [0.29065052],\n",
       "       [0.632623  ],\n",
       "       [0.23579392],\n",
       "       [0.8857947 ],\n",
       "       [0.94069564],\n",
       "       [0.4185065 ],\n",
       "       [0.5530335 ],\n",
       "       [0.8180242 ],\n",
       "       [0.83526623],\n",
       "       [0.6659334 ],\n",
       "       [0.22308525],\n",
       "       [0.94978595],\n",
       "       [0.9145861 ],\n",
       "       [0.03914648],\n",
       "       [0.13507646],\n",
       "       [0.86816585],\n",
       "       [0.25571662],\n",
       "       [0.00800729],\n",
       "       [0.22494167],\n",
       "       [0.80584687],\n",
       "       [0.6017954 ],\n",
       "       [0.29833764],\n",
       "       [0.67073405],\n",
       "       [0.04140097],\n",
       "       [0.19109395],\n",
       "       [0.01641369],\n",
       "       [0.94804513],\n",
       "       [0.00916666],\n",
       "       [0.15899152],\n",
       "       [0.38146868],\n",
       "       [0.22612226],\n",
       "       [0.5617089 ],\n",
       "       [0.28463   ],\n",
       "       [0.23535302],\n",
       "       [0.845188  ],\n",
       "       [0.20518377],\n",
       "       [0.99122065],\n",
       "       [0.81590474],\n",
       "       [0.8687207 ],\n",
       "       [0.7415161 ],\n",
       "       [0.02602783],\n",
       "       [0.0187473 ],\n",
       "       [0.00301626],\n",
       "       [0.6425013 ],\n",
       "       [0.9465029 ],\n",
       "       [0.22848964],\n",
       "       [0.8217324 ],\n",
       "       [0.89511013],\n",
       "       [0.4364585 ],\n",
       "       [0.35900998],\n",
       "       [0.25779372],\n",
       "       [0.6669942 ],\n",
       "       [0.3135841 ],\n",
       "       [0.9513469 ],\n",
       "       [0.01494247],\n",
       "       [0.33896548],\n",
       "       [0.88510793],\n",
       "       [0.9747929 ],\n",
       "       [0.1225765 ],\n",
       "       [0.08071974],\n",
       "       [0.03813964],\n",
       "       [0.90822905],\n",
       "       [0.8479386 ],\n",
       "       [0.06577027],\n",
       "       [0.92552656],\n",
       "       [0.47179765],\n",
       "       [0.979249  ],\n",
       "       [0.63581264],\n",
       "       [0.881685  ],\n",
       "       [0.69746625],\n",
       "       [0.5753957 ],\n",
       "       [0.9576336 ],\n",
       "       [0.9750872 ],\n",
       "       [0.6624294 ],\n",
       "       [0.91410375],\n",
       "       [0.9368531 ],\n",
       "       [0.8978611 ],\n",
       "       [0.9354861 ],\n",
       "       [0.84751105],\n",
       "       [0.35969982],\n",
       "       [0.42226177],\n",
       "       [0.07596302],\n",
       "       [0.08567253],\n",
       "       [0.41964895],\n",
       "       [0.9353847 ],\n",
       "       [0.07217237],\n",
       "       [0.6469134 ],\n",
       "       [0.07179791],\n",
       "       [0.87350243],\n",
       "       [0.6662226 ],\n",
       "       [0.6478109 ],\n",
       "       [0.9095937 ],\n",
       "       [0.9238404 ],\n",
       "       [0.30672485],\n",
       "       [0.94497687],\n",
       "       [0.02157319],\n",
       "       [0.70749784],\n",
       "       [0.53662205],\n",
       "       [0.85519576],\n",
       "       [0.96645963],\n",
       "       [0.8725158 ],\n",
       "       [0.93507445],\n",
       "       [0.7172863 ],\n",
       "       [0.1983875 ],\n",
       "       [0.9165456 ],\n",
       "       [0.621145  ],\n",
       "       [0.918602  ],\n",
       "       [0.40023547],\n",
       "       [0.3172695 ],\n",
       "       [0.93858224],\n",
       "       [0.54160786],\n",
       "       [0.28532726],\n",
       "       [0.8844106 ],\n",
       "       [0.9104409 ],\n",
       "       [0.93646026],\n",
       "       [0.66819215],\n",
       "       [0.20670974],\n",
       "       [0.726624  ],\n",
       "       [0.23923147],\n",
       "       [0.66057944],\n",
       "       [0.09311062],\n",
       "       [0.24286425],\n",
       "       [0.8979255 ],\n",
       "       [0.0055761 ],\n",
       "       [0.5567821 ],\n",
       "       [0.04930562],\n",
       "       [0.91811955],\n",
       "       [0.03935388],\n",
       "       [0.9381896 ],\n",
       "       [0.2565866 ],\n",
       "       [0.6309222 ],\n",
       "       [0.70876884],\n",
       "       [0.02851906],\n",
       "       [0.9242768 ],\n",
       "       [0.8424851 ],\n",
       "       [0.9555764 ],\n",
       "       [0.92747134],\n",
       "       [0.8380518 ],\n",
       "       [0.5428002 ],\n",
       "       [0.7410461 ],\n",
       "       [0.78180313],\n",
       "       [0.82166064],\n",
       "       [0.959399  ],\n",
       "       [0.94078445],\n",
       "       [0.23774764],\n",
       "       [0.96791613],\n",
       "       [0.82229626],\n",
       "       [0.36830717],\n",
       "       [0.04301554],\n",
       "       [0.06391406],\n",
       "       [0.9159222 ],\n",
       "       [0.87133276],\n",
       "       [0.16518703],\n",
       "       [0.01065716],\n",
       "       [0.05444032],\n",
       "       [0.8193282 ],\n",
       "       [0.5051621 ],\n",
       "       [0.9010629 ],\n",
       "       [0.17133379],\n",
       "       [0.00355864],\n",
       "       [0.9598707 ],\n",
       "       [0.06080335],\n",
       "       [0.5808696 ],\n",
       "       [0.967365  ],\n",
       "       [0.9375601 ],\n",
       "       [0.465091  ],\n",
       "       [0.09088492],\n",
       "       [0.92082524],\n",
       "       [0.5583247 ],\n",
       "       [0.49440208],\n",
       "       [0.9541049 ],\n",
       "       [0.9687958 ],\n",
       "       [0.0131641 ],\n",
       "       [0.25666204],\n",
       "       [0.29565427],\n",
       "       [0.02611512],\n",
       "       [0.92070407],\n",
       "       [0.0440667 ],\n",
       "       [0.4210998 ],\n",
       "       [0.03600824],\n",
       "       [0.97308266],\n",
       "       [0.03599843],\n",
       "       [0.39168382],\n",
       "       [0.58992416],\n",
       "       [0.55503005],\n",
       "       [0.95338595],\n",
       "       [0.98236   ],\n",
       "       [0.26456982],\n",
       "       [0.83761346],\n",
       "       [0.38380015],\n",
       "       [0.87374103],\n",
       "       [0.73816526],\n",
       "       [0.3240946 ],\n",
       "       [0.8206235 ],\n",
       "       [0.24273187],\n",
       "       [0.7306193 ],\n",
       "       [0.39892837],\n",
       "       [0.0341168 ],\n",
       "       [0.79516673],\n",
       "       [0.9842589 ],\n",
       "       [0.5377276 ],\n",
       "       [0.88979447],\n",
       "       [0.90033674],\n",
       "       [0.98935616],\n",
       "       [0.72173065],\n",
       "       [0.783821  ],\n",
       "       [0.4332811 ],\n",
       "       [0.02615383],\n",
       "       [0.03570712],\n",
       "       [0.48997453],\n",
       "       [0.8598702 ],\n",
       "       [0.12351763],\n",
       "       [0.96209335],\n",
       "       [0.4868466 ],\n",
       "       [0.2708077 ],\n",
       "       [0.65691006],\n",
       "       [0.5135139 ],\n",
       "       [0.6245372 ],\n",
       "       [0.00785059],\n",
       "       [0.09942204],\n",
       "       [0.9361556 ],\n",
       "       [0.03034949],\n",
       "       [0.97398245],\n",
       "       [0.45519456],\n",
       "       [0.7222339 ],\n",
       "       [0.42047444],\n",
       "       [0.3344574 ],\n",
       "       [0.2588802 ],\n",
       "       [0.23950678],\n",
       "       [0.78521955],\n",
       "       [0.77263105],\n",
       "       [0.8099281 ],\n",
       "       [0.976099  ],\n",
       "       [0.8768538 ],\n",
       "       [0.93804693],\n",
       "       [0.6786283 ],\n",
       "       [0.07404557],\n",
       "       [0.46035445],\n",
       "       [0.13931805],\n",
       "       [0.44187534],\n",
       "       [0.13249937],\n",
       "       [0.08170682],\n",
       "       [0.25735575],\n",
       "       [0.0166471 ],\n",
       "       [0.45999756],\n",
       "       [0.03159529],\n",
       "       [0.9223791 ],\n",
       "       [0.75935686],\n",
       "       [0.6318685 ],\n",
       "       [0.00737244],\n",
       "       [0.9282378 ],\n",
       "       [0.90030026],\n",
       "       [0.73433155],\n",
       "       [0.00700617],\n",
       "       [0.11273006],\n",
       "       [0.25050563],\n",
       "       [0.8021287 ],\n",
       "       [0.3674295 ],\n",
       "       [0.90574443],\n",
       "       [0.50346357]], dtype=float32)"
      ]
     },
     "execution_count": 36,
     "metadata": {},
     "output_type": "execute_result"
    }
   ],
   "source": [
    "predict"
   ]
  },
  {
   "cell_type": "code",
   "execution_count": 44,
   "metadata": {},
   "outputs": [
    {
     "data": {
      "text/plain": [
       "44.8051948051948"
      ]
     },
     "execution_count": 44,
     "metadata": {},
     "output_type": "execute_result"
    }
   ],
   "source": [
    "predict[predict <= 0.5] = 0. # attack\n",
    "predict[predict > 0.5] = 1. # normal\n",
    "\n",
    "(len(predict[predict == 0.]) / len(predict)) * 100"
   ]
  },
  {
   "cell_type": "markdown",
   "metadata": {},
   "source": [
    "# attack = 0, normal = 1"
   ]
  },
  {
   "cell_type": "code",
   "execution_count": 45,
   "metadata": {},
   "outputs": [
    {
     "data": {
      "text/plain": [
       "dict_items([('attack', 0), ('normal', 1)])"
      ]
     },
     "execution_count": 45,
     "metadata": {},
     "output_type": "execute_result"
    }
   ],
   "source": [
    "train_generator.class_indices.items()"
   ]
  },
  {
   "cell_type": "code",
   "execution_count": 46,
   "metadata": {},
   "outputs": [
    {
     "data": {
      "text/plain": [
       "{0: 'attack', 1: 'normal'}"
      ]
     },
     "execution_count": 46,
     "metadata": {},
     "output_type": "execute_result"
    }
   ],
   "source": [
    "label_map = dict((v,k) for k,v in train_generator.class_indices.items())\n",
    "label_map"
   ]
  },
  {
   "cell_type": "markdown",
   "metadata": {},
   "source": [
    "# 성능이 엉망이다.\n",
    "- 파일 분리시 단순 아이피가 아닌 보고서에 나온 알고리즘으로 접근하자\n",
    "- xml-rpc 사용자와 이상패턴 호스트 군은 제외하고 분류 모델을 제작한다.(대회 주제에서 벗어난다.)\n",
    "- 모델을 각 공격별로 만들어야한다.\n",
    "- 예상 시스템 진행\n",
    "    - input으로 로그.csv를 넣는다.\n",
    "    - 1분 단위로 절삭\n",
    "    - 절삭 csv파일을 이미지화\n",
    "    - 이미지가 모델 A에 의해 분류 되고 데이터 프레임에 기록된다.\n",
    "    - 이미지가 모델 B에 의해 분류 되고 데이터 프레임에 기록된다.\n",
    "    - 이미지가 모델 C에 의해 분류 되고 데이터 프레임에 기록된다.\n",
    "    - 파일명과 대조하여 모델 A, B, C로부터 잘 분류 되었는지 판단.\n",
    "        - 예상 결과\n",
    "        - 파일명 : 2020-08-xx_xx:xx.csv\n",
    "        - A 공격 : 0\n",
    "        - B 공격 : 1\n",
    "        - C 공격 : 1\n",
    "            - 판독 : 해당 시간은 B와 C 공격에대한 이상행위 접근이 있었습니다.\n",
    "        \n",
    "## 크루덴셜 스터핑 분류 모델\n",
    "- 크루덴셜 스터핑 공격시 컬럼에 1을 추가하고 다시 1분 단위로 파일을 절단하고 파일명에 공격 여부 기록.\n",
    "- 절삭된 csv 파일에서 ['Timestamp'], ['Host'], ['Attack'] 컬럼을 삭제하여 공격으로 특정 될 수 있는 정보를 지운다.\n",
    "- 이미지화(점 or 면)\n",
    "- 모델 제작을 진행(유명한 모델로)하고 테스트시 80%가 넘으면 다음 모델을 제작\n",
    "\n",
    "## 부르트 포스 분류 모델\n",
    "- 이하 동문\n",
    "\n",
    "## 웹 스크래핑 분류 모델\n",
    "- 이하 동문\n",
    "\n",
    "## "
   ]
  },
  {
   "cell_type": "code",
   "execution_count": 50,
   "metadata": {},
   "outputs": [
    {
     "data": {
      "text/plain": [
       "<AxesSubplot:>"
      ]
     },
     "execution_count": 50,
     "metadata": {},
     "output_type": "execute_result"
    },
    {
     "data": {
      "image/png": "[encoded data removed]",
      "text/plain": [
       "<Figure size 432x288 with 1 Axes>"
      ]
     },
     "metadata": {
      "needs_background": "light"
     },
     "output_type": "display_data"
    }
   ],
   "source": [
    "one = predict > 0.5\n",
    "\n",
    "test_df['category'] = one\n",
    "\n",
    "test_df['category'] = test_df['category'].replace(label_map)\n",
    "\n",
    "test_df['category'].value_counts().plot.bar()"
   ]
  }
 ],
 "metadata": {
  "kernelspec": {
   "display_name": "Python 3",
   "language": "python",
   "name": "python3"
  },
  "language_info": {
   "codemirror_mode": {
    "name": "ipython",
    "version": 3
   },
   "file_extension": ".py",
   "mimetype": "text/x-python",
   "name": "python",
   "nbconvert_exporter": "python",
   "pygments_lexer": "ipython3",
   "version": "3.7.9"
  },
  "toc": {
   "base_numbering": 1,
   "nav_menu": {},
   "number_sections": true,
   "sideBar": true,
   "skip_h1_title": false,
   "title_cell": "Table of Contents",
   "title_sidebar": "Contents",
   "toc_cell": false,
   "toc_position": {},
   "toc_section_display": true,
   "toc_window_display": false
  }
 },
 "nbformat": 4,
 "nbformat_minor": 4
}
