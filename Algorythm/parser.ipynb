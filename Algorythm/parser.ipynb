{
 "cells": [
  {
   "cell_type": "code",
   "execution_count": 185,
   "metadata": {
    "executionInfo": {
     "elapsed": 1040,
     "status": "ok",
     "timestamp": 1604640579064,
     "user": {
      "displayName": "이진재/컴퓨터공학전공/학생",
      "photoUrl": "",
      "userId": "04961383261765965747"
     },
     "user_tz": -540
    },
    "id": "KtPbyfgejidD"
   },
   "outputs": [],
   "source": [
    "import pandas as pd\n",
    "import numpy as np\n",
    "import datetime as dt\n",
    "import os"
   ]
  },
  {
   "cell_type": "code",
   "execution_count": 1,
   "metadata": {
    "executionInfo": {
     "elapsed": 3713,
     "status": "ok",
     "timestamp": 1604640583031,
     "user": {
      "displayName": "이진재/컴퓨터공학전공/학생",
      "photoUrl": "",
      "userId": "04961383261765965747"
     },
     "user_tz": -540
    },
    "id": "d1gDlKd1laIM"
   },
   "outputs": [],
   "source": [
    "path='../dataset/AIT/data/mail.cup.com/apache2/mail.cup.com-access.log'\n",
    "\n",
    "log_data=open(path,'r')"
   ]
  },
  {
   "cell_type": "code",
   "execution_count": 198,
   "metadata": {
    "executionInfo": {
     "elapsed": 2766,
     "status": "ok",
     "timestamp": 1604640583032,
     "user": {
      "displayName": "이진재/컴퓨터공학전공/학생",
      "photoUrl": "",
      "userId": "04961383261765965747"
     },
     "user_tz": -540
    },
    "id": "un4F7ITHj50y"
   },
   "outputs": [],
   "source": [
    "from datetime import datetime\n",
    "import pytz\n",
    "\n",
    "def parse_str(x):\n",
    "    \"\"\"\n",
    "    Returns the string delimited by two characters.\n",
    "\n",
    "    Example:\n",
    "        `>>> parse_str('[my string]')`\n",
    "        `'my string'`\n",
    "    \"\"\"\n",
    "    return x[1:-1]\n",
    "\n",
    "def parse_datetime(x):\n",
    "    '''\n",
    "    Parses datetime with timezone formatted as:\n",
    "        `[day/month/year:hour:minute:second zone]`\n",
    "\n",
    "    Example:\n",
    "        `>>> parse_datetime('13/Nov/2015:11:45:42 +0000')`\n",
    "        `datetime.datetime(2015, 11, 3, 11, 45, 4, tzinfo=<UTC>)`\n",
    "\n",
    "    Due to problems parsing the timezone (`%z`) with `datetime.strptime`, the\n",
    "    timezone will be obtained using the `pytz` library.\n",
    "    '''\n",
    "    if x[1:-7] == '':\n",
    "        pass\n",
    "    else:\n",
    "        try:\n",
    "            dt = datetime.strptime(x[1:-7], '%d/%b/%Y:%H:%M:%S')\n",
    "            dt_tz = int(x[-6:-3])*60+int(x[-3:-1])\n",
    "        except ValueError:\n",
    "            print(\"Not able to split .\")\n",
    "        try:\n",
    "            return dt.replace(tzinfo=pytz.FixedOffset(dt_tz))\n",
    "        except UnboundLocalError:\n",
    "            print(\"UnboundLocalError\")"
   ]
  },
  {
   "cell_type": "code",
   "execution_count": 180,
   "metadata": {
    "executionInfo": {
     "elapsed": 11324,
     "status": "ok",
     "timestamp": 1604640594366,
     "user": {
      "displayName": "이진재/컴퓨터공학전공/학생",
      "photoUrl": "",
      "userId": "04961383261765965747"
     },
     "user_tz": -540
    },
    "id": "qkWR3hGcj9oZ"
   },
   "outputs": [
    {
     "data": {
      "text/html": [
       "<div>\n",
       "<style scoped>\n",
       "    .dataframe tbody tr th:only-of-type {\n",
       "        vertical-align: middle;\n",
       "    }\n",
       "\n",
       "    .dataframe tbody tr th {\n",
       "        vertical-align: top;\n",
       "    }\n",
       "\n",
       "    .dataframe thead th {\n",
       "        text-align: right;\n",
       "    }\n",
       "</style>\n",
       "<table border=\"1\" class=\"dataframe\">\n",
       "  <thead>\n",
       "    <tr style=\"text-align: right;\">\n",
       "      <th></th>\n",
       "      <th>ip</th>\n",
       "      <th>time</th>\n",
       "      <th>request</th>\n",
       "      <th>status</th>\n",
       "      <th>size</th>\n",
       "      <th>referer</th>\n",
       "      <th>user_agent</th>\n",
       "    </tr>\n",
       "  </thead>\n",
       "  <tbody>\n",
       "    <tr>\n",
       "      <th>0</th>\n",
       "      <td>192.168.10.190</td>\n",
       "      <td>[29/Feb/2020:00:00:02 +0000]</td>\n",
       "      <td>\"GET /login.php HTTP/1.1\"</td>\n",
       "      <td>200</td>\n",
       "      <td>2532</td>\n",
       "      <td>\"-\"</td>\n",
       "      <td>\"Mozilla/5.0 (X11; Ubuntu; Linux x86_64; rv:73...</td>\n",
       "    </tr>\n",
       "    <tr>\n",
       "      <th>1</th>\n",
       "      <td>192.168.10.4</td>\n",
       "      <td>[29/Feb/2020:00:00:09 +0000]</td>\n",
       "      <td>\"POST /services/ajax.php/kronolith/listTopTags...</td>\n",
       "      <td>200</td>\n",
       "      <td>402</td>\n",
       "      <td>\"http://mail.cup.com/kronolith/\"</td>\n",
       "      <td>\"Mozilla/5.0 (X11; Linux x86_64) AppleWebKit/5...</td>\n",
       "    </tr>\n",
       "    <tr>\n",
       "      <th>2</th>\n",
       "      <td>192.168.10.190</td>\n",
       "      <td>[29/Feb/2020:00:00:12 +0000]</td>\n",
       "      <td>\"POST /login.php HTTP/1.1\"</td>\n",
       "      <td>302</td>\n",
       "      <td>601</td>\n",
       "      <td>\"http://mail.cup.com/login.php\"</td>\n",
       "      <td>\"Mozilla/5.0 (X11; Ubuntu; Linux x86_64; rv:73...</td>\n",
       "    </tr>\n",
       "    <tr>\n",
       "      <th>3</th>\n",
       "      <td>192.168.10.190</td>\n",
       "      <td>[29/Feb/2020:00:00:13 +0000]</td>\n",
       "      <td>\"GET /services/portal/ HTTP/1.1\"</td>\n",
       "      <td>200</td>\n",
       "      <td>7696</td>\n",
       "      <td>\"http://mail.cup.com/login.php\"</td>\n",
       "      <td>\"Mozilla/5.0 (X11; Ubuntu; Linux x86_64; rv:73...</td>\n",
       "    </tr>\n",
       "    <tr>\n",
       "      <th>4</th>\n",
       "      <td>192.168.10.190</td>\n",
       "      <td>[29/Feb/2020:00:00:14 +0000]</td>\n",
       "      <td>\"GET /themes/default/graphics/head-bg.png HTTP...</td>\n",
       "      <td>200</td>\n",
       "      <td>380</td>\n",
       "      <td>\"http://mail.cup.com/themes/default/screen.css\"</td>\n",
       "      <td>\"Mozilla/5.0 (X11; Ubuntu; Linux x86_64; rv:73...</td>\n",
       "    </tr>\n",
       "  </tbody>\n",
       "</table>\n",
       "</div>"
      ],
      "text/plain": [
       "               ip                          time  \\\n",
       "0  192.168.10.190  [29/Feb/2020:00:00:02 +0000]   \n",
       "1    192.168.10.4  [29/Feb/2020:00:00:09 +0000]   \n",
       "2  192.168.10.190  [29/Feb/2020:00:00:12 +0000]   \n",
       "3  192.168.10.190  [29/Feb/2020:00:00:13 +0000]   \n",
       "4  192.168.10.190  [29/Feb/2020:00:00:14 +0000]   \n",
       "\n",
       "                                             request status  size  \\\n",
       "0                          \"GET /login.php HTTP/1.1\"    200  2532   \n",
       "1  \"POST /services/ajax.php/kronolith/listTopTags...    200   402   \n",
       "2                         \"POST /login.php HTTP/1.1\"    302   601   \n",
       "3                   \"GET /services/portal/ HTTP/1.1\"    200  7696   \n",
       "4  \"GET /themes/default/graphics/head-bg.png HTTP...    200   380   \n",
       "\n",
       "                                           referer  \\\n",
       "0                                              \"-\"   \n",
       "1                 \"http://mail.cup.com/kronolith/\"   \n",
       "2                  \"http://mail.cup.com/login.php\"   \n",
       "3                  \"http://mail.cup.com/login.php\"   \n",
       "4  \"http://mail.cup.com/themes/default/screen.css\"   \n",
       "\n",
       "                                          user_agent  \n",
       "0  \"Mozilla/5.0 (X11; Ubuntu; Linux x86_64; rv:73...  \n",
       "1  \"Mozilla/5.0 (X11; Linux x86_64) AppleWebKit/5...  \n",
       "2  \"Mozilla/5.0 (X11; Ubuntu; Linux x86_64; rv:73...  \n",
       "3  \"Mozilla/5.0 (X11; Ubuntu; Linux x86_64; rv:73...  \n",
       "4  \"Mozilla/5.0 (X11; Ubuntu; Linux x86_64; rv:73...  "
      ]
     },
     "execution_count": 180,
     "metadata": {},
     "output_type": "execute_result"
    }
   ],
   "source": [
    "import re\n",
    "import pandas as pd\n",
    "\n",
    "data = pd.read_csv(\n",
    "    path,\n",
    "    sep=r'\\s(?=(?:[^\"]*\"[^\"]*\")*[^\"]*$)(?![^\\[]*\\])',\n",
    "    engine='python',\n",
    "    na_values='-',\n",
    "    header=None,\n",
    "    usecols=[0, 3, 4, 5, 6, 7, 8],\n",
    "    names=['ip','time', 'request', 'status', 'size', 'referer', 'user_agent'])\n",
    "data.head()"
   ]
  },
  {
   "cell_type": "code",
   "execution_count": null,
   "metadata": {},
   "outputs": [],
   "source": [
    "data['time'] = data['time'].apply(lambda x: parse_datetime(x))\n",
    "data['time']"
   ]
  },
  {
   "cell_type": "code",
   "execution_count": 181,
   "metadata": {
    "colab": {
     "base_uri": "https://localhost:8080/",
     "height": 47
    },
    "executionInfo": {
     "elapsed": 1012,
     "status": "ok",
     "timestamp": 1604640595394,
     "user": {
      "displayName": "이진재/컴퓨터공학전공/학생",
      "photoUrl": "",
      "userId": "04961383261765965747"
     },
     "user_tz": -540
    },
    "id": "PshOIvF4wxxL",
    "outputId": "856ce70e-9f27-4e62-ea49-112e07b46733",
    "scrolled": true
   },
   "outputs": [
    {
     "data": {
      "text/html": [
       "<div>\n",
       "<style scoped>\n",
       "    .dataframe tbody tr th:only-of-type {\n",
       "        vertical-align: middle;\n",
       "    }\n",
       "\n",
       "    .dataframe tbody tr th {\n",
       "        vertical-align: top;\n",
       "    }\n",
       "\n",
       "    .dataframe thead th {\n",
       "        text-align: right;\n",
       "    }\n",
       "</style>\n",
       "<table border=\"1\" class=\"dataframe\">\n",
       "  <thead>\n",
       "    <tr style=\"text-align: right;\">\n",
       "      <th></th>\n",
       "      <th>ip</th>\n",
       "      <th>time</th>\n",
       "      <th>request</th>\n",
       "      <th>status</th>\n",
       "      <th>size</th>\n",
       "      <th>referer</th>\n",
       "      <th>user_agent</th>\n",
       "      <th>method</th>\n",
       "      <th>path</th>\n",
       "      <th>protocol</th>\n",
       "    </tr>\n",
       "  </thead>\n",
       "  <tbody>\n",
       "    <tr>\n",
       "      <th>0</th>\n",
       "      <td>192.168.10.190</td>\n",
       "      <td>[29/Feb/2020:00:00:02 +0000]</td>\n",
       "      <td>\"GET /login.php HTTP/1.1\"</td>\n",
       "      <td>200</td>\n",
       "      <td>2532</td>\n",
       "      <td>\"-\"</td>\n",
       "      <td>\"Mozilla/5.0 (X11; Ubuntu; Linux x86_64; rv:73...</td>\n",
       "      <td>\"GET</td>\n",
       "      <td>/login.php</td>\n",
       "      <td>HTTP/1.1\"</td>\n",
       "    </tr>\n",
       "    <tr>\n",
       "      <th>1</th>\n",
       "      <td>192.168.10.4</td>\n",
       "      <td>[29/Feb/2020:00:00:09 +0000]</td>\n",
       "      <td>\"POST /services/ajax.php/kronolith/listTopTags...</td>\n",
       "      <td>200</td>\n",
       "      <td>402</td>\n",
       "      <td>\"http://mail.cup.com/kronolith/\"</td>\n",
       "      <td>\"Mozilla/5.0 (X11; Linux x86_64) AppleWebKit/5...</td>\n",
       "      <td>\"POST</td>\n",
       "      <td>/services/ajax.php/kronolith/listTopTags</td>\n",
       "      <td>HTTP/1.1\"</td>\n",
       "    </tr>\n",
       "    <tr>\n",
       "      <th>2</th>\n",
       "      <td>192.168.10.190</td>\n",
       "      <td>[29/Feb/2020:00:00:12 +0000]</td>\n",
       "      <td>\"POST /login.php HTTP/1.1\"</td>\n",
       "      <td>302</td>\n",
       "      <td>601</td>\n",
       "      <td>\"http://mail.cup.com/login.php\"</td>\n",
       "      <td>\"Mozilla/5.0 (X11; Ubuntu; Linux x86_64; rv:73...</td>\n",
       "      <td>\"POST</td>\n",
       "      <td>/login.php</td>\n",
       "      <td>HTTP/1.1\"</td>\n",
       "    </tr>\n",
       "    <tr>\n",
       "      <th>3</th>\n",
       "      <td>192.168.10.190</td>\n",
       "      <td>[29/Feb/2020:00:00:13 +0000]</td>\n",
       "      <td>\"GET /services/portal/ HTTP/1.1\"</td>\n",
       "      <td>200</td>\n",
       "      <td>7696</td>\n",
       "      <td>\"http://mail.cup.com/login.php\"</td>\n",
       "      <td>\"Mozilla/5.0 (X11; Ubuntu; Linux x86_64; rv:73...</td>\n",
       "      <td>\"GET</td>\n",
       "      <td>/services/portal/</td>\n",
       "      <td>HTTP/1.1\"</td>\n",
       "    </tr>\n",
       "    <tr>\n",
       "      <th>4</th>\n",
       "      <td>192.168.10.190</td>\n",
       "      <td>[29/Feb/2020:00:00:14 +0000]</td>\n",
       "      <td>\"GET /themes/default/graphics/head-bg.png HTTP...</td>\n",
       "      <td>200</td>\n",
       "      <td>380</td>\n",
       "      <td>\"http://mail.cup.com/themes/default/screen.css\"</td>\n",
       "      <td>\"Mozilla/5.0 (X11; Ubuntu; Linux x86_64; rv:73...</td>\n",
       "      <td>\"GET</td>\n",
       "      <td>/themes/default/graphics/head-bg.png</td>\n",
       "      <td>HTTP/1.1\"</td>\n",
       "    </tr>\n",
       "  </tbody>\n",
       "</table>\n",
       "</div>"
      ],
      "text/plain": [
       "               ip                          time  \\\n",
       "0  192.168.10.190  [29/Feb/2020:00:00:02 +0000]   \n",
       "1    192.168.10.4  [29/Feb/2020:00:00:09 +0000]   \n",
       "2  192.168.10.190  [29/Feb/2020:00:00:12 +0000]   \n",
       "3  192.168.10.190  [29/Feb/2020:00:00:13 +0000]   \n",
       "4  192.168.10.190  [29/Feb/2020:00:00:14 +0000]   \n",
       "\n",
       "                                             request status  size  \\\n",
       "0                          \"GET /login.php HTTP/1.1\"    200  2532   \n",
       "1  \"POST /services/ajax.php/kronolith/listTopTags...    200   402   \n",
       "2                         \"POST /login.php HTTP/1.1\"    302   601   \n",
       "3                   \"GET /services/portal/ HTTP/1.1\"    200  7696   \n",
       "4  \"GET /themes/default/graphics/head-bg.png HTTP...    200   380   \n",
       "\n",
       "                                           referer  \\\n",
       "0                                              \"-\"   \n",
       "1                 \"http://mail.cup.com/kronolith/\"   \n",
       "2                  \"http://mail.cup.com/login.php\"   \n",
       "3                  \"http://mail.cup.com/login.php\"   \n",
       "4  \"http://mail.cup.com/themes/default/screen.css\"   \n",
       "\n",
       "                                          user_agent method  \\\n",
       "0  \"Mozilla/5.0 (X11; Ubuntu; Linux x86_64; rv:73...   \"GET   \n",
       "1  \"Mozilla/5.0 (X11; Linux x86_64) AppleWebKit/5...  \"POST   \n",
       "2  \"Mozilla/5.0 (X11; Ubuntu; Linux x86_64; rv:73...  \"POST   \n",
       "3  \"Mozilla/5.0 (X11; Ubuntu; Linux x86_64; rv:73...   \"GET   \n",
       "4  \"Mozilla/5.0 (X11; Ubuntu; Linux x86_64; rv:73...   \"GET   \n",
       "\n",
       "                                       path   protocol  \n",
       "0                                /login.php  HTTP/1.1\"  \n",
       "1  /services/ajax.php/kronolith/listTopTags  HTTP/1.1\"  \n",
       "2                                /login.php  HTTP/1.1\"  \n",
       "3                         /services/portal/  HTTP/1.1\"  \n",
       "4      /themes/default/graphics/head-bg.png  HTTP/1.1\"  "
      ]
     },
     "execution_count": 181,
     "metadata": {},
     "output_type": "execute_result"
    }
   ],
   "source": [
    "data['method'] = data.request.str.split(' ').str[0]\n",
    "data['path'] = data.request.str.split(' ').str[1]\n",
    "data['protocol'] = data.request.str.split(' ').str[2]\n",
    "data.head()"
   ]
  },
  {
   "cell_type": "code",
   "execution_count": 186,
   "metadata": {},
   "outputs": [
    {
     "data": {
      "text/html": [
       "<div>\n",
       "<style scoped>\n",
       "    .dataframe tbody tr th:only-of-type {\n",
       "        vertical-align: middle;\n",
       "    }\n",
       "\n",
       "    .dataframe tbody tr th {\n",
       "        vertical-align: top;\n",
       "    }\n",
       "\n",
       "    .dataframe thead th {\n",
       "        text-align: right;\n",
       "    }\n",
       "</style>\n",
       "<table border=\"1\" class=\"dataframe\">\n",
       "  <thead>\n",
       "    <tr style=\"text-align: right;\">\n",
       "      <th></th>\n",
       "      <th>timestamp</th>\n",
       "      <th>method</th>\n",
       "      <th>status</th>\n",
       "      <th>referer</th>\n",
       "      <th>path</th>\n",
       "      <th>payload</th>\n",
       "      <th>bytes</th>\n",
       "    </tr>\n",
       "  </thead>\n",
       "  <tbody>\n",
       "  </tbody>\n",
       "</table>\n",
       "</div>"
      ],
      "text/plain": [
       "Empty DataFrame\n",
       "Columns: [timestamp, method, status, referer, path, payload, bytes]\n",
       "Index: []"
      ]
     },
     "execution_count": 186,
     "metadata": {},
     "output_type": "execute_result"
    }
   ],
   "source": [
    "df = pd.DataFrame(columns = ['timestamp', 'method', 'status', 'referer', 'path', 'payload', 'bytes'])\n",
    "df.head()"
   ]
  },
  {
   "cell_type": "code",
   "execution_count": 187,
   "metadata": {},
   "outputs": [
    {
     "data": {
      "text/html": [
       "<div>\n",
       "<style scoped>\n",
       "    .dataframe tbody tr th:only-of-type {\n",
       "        vertical-align: middle;\n",
       "    }\n",
       "\n",
       "    .dataframe tbody tr th {\n",
       "        vertical-align: top;\n",
       "    }\n",
       "\n",
       "    .dataframe thead th {\n",
       "        text-align: right;\n",
       "    }\n",
       "</style>\n",
       "<table border=\"1\" class=\"dataframe\">\n",
       "  <thead>\n",
       "    <tr style=\"text-align: right;\">\n",
       "      <th></th>\n",
       "      <th>timestamp</th>\n",
       "      <th>method</th>\n",
       "      <th>status</th>\n",
       "      <th>referer</th>\n",
       "      <th>path</th>\n",
       "      <th>payload</th>\n",
       "      <th>bytes</th>\n",
       "    </tr>\n",
       "  </thead>\n",
       "  <tbody>\n",
       "    <tr>\n",
       "      <th>0</th>\n",
       "      <td>[29/Feb/2020:00:00:02 +0000]</td>\n",
       "      <td>\"GET</td>\n",
       "      <td>200</td>\n",
       "      <td>\"-\"</td>\n",
       "      <td>/login.php</td>\n",
       "      <td>NaN</td>\n",
       "      <td>2532</td>\n",
       "    </tr>\n",
       "    <tr>\n",
       "      <th>1</th>\n",
       "      <td>[29/Feb/2020:00:00:09 +0000]</td>\n",
       "      <td>\"POST</td>\n",
       "      <td>200</td>\n",
       "      <td>\"http://mail.cup.com/kronolith/\"</td>\n",
       "      <td>/services/ajax.php/kronolith/listTopTags</td>\n",
       "      <td>NaN</td>\n",
       "      <td>402</td>\n",
       "    </tr>\n",
       "    <tr>\n",
       "      <th>2</th>\n",
       "      <td>[29/Feb/2020:00:00:12 +0000]</td>\n",
       "      <td>\"POST</td>\n",
       "      <td>302</td>\n",
       "      <td>\"http://mail.cup.com/login.php\"</td>\n",
       "      <td>/login.php</td>\n",
       "      <td>NaN</td>\n",
       "      <td>601</td>\n",
       "    </tr>\n",
       "    <tr>\n",
       "      <th>3</th>\n",
       "      <td>[29/Feb/2020:00:00:13 +0000]</td>\n",
       "      <td>\"GET</td>\n",
       "      <td>200</td>\n",
       "      <td>\"http://mail.cup.com/login.php\"</td>\n",
       "      <td>/services/portal/</td>\n",
       "      <td>NaN</td>\n",
       "      <td>7696</td>\n",
       "    </tr>\n",
       "    <tr>\n",
       "      <th>4</th>\n",
       "      <td>[29/Feb/2020:00:00:14 +0000]</td>\n",
       "      <td>\"GET</td>\n",
       "      <td>200</td>\n",
       "      <td>\"http://mail.cup.com/themes/default/screen.css\"</td>\n",
       "      <td>/themes/default/graphics/head-bg.png</td>\n",
       "      <td>NaN</td>\n",
       "      <td>380</td>\n",
       "    </tr>\n",
       "  </tbody>\n",
       "</table>\n",
       "</div>"
      ],
      "text/plain": [
       "                      timestamp method status  \\\n",
       "0  [29/Feb/2020:00:00:02 +0000]   \"GET    200   \n",
       "1  [29/Feb/2020:00:00:09 +0000]  \"POST    200   \n",
       "2  [29/Feb/2020:00:00:12 +0000]  \"POST    302   \n",
       "3  [29/Feb/2020:00:00:13 +0000]   \"GET    200   \n",
       "4  [29/Feb/2020:00:00:14 +0000]   \"GET    200   \n",
       "\n",
       "                                           referer  \\\n",
       "0                                              \"-\"   \n",
       "1                 \"http://mail.cup.com/kronolith/\"   \n",
       "2                  \"http://mail.cup.com/login.php\"   \n",
       "3                  \"http://mail.cup.com/login.php\"   \n",
       "4  \"http://mail.cup.com/themes/default/screen.css\"   \n",
       "\n",
       "                                       path payload bytes  \n",
       "0                                /login.php     NaN  2532  \n",
       "1  /services/ajax.php/kronolith/listTopTags     NaN   402  \n",
       "2                                /login.php     NaN   601  \n",
       "3                         /services/portal/     NaN  7696  \n",
       "4      /themes/default/graphics/head-bg.png     NaN   380  "
      ]
     },
     "execution_count": 187,
     "metadata": {},
     "output_type": "execute_result"
    }
   ],
   "source": [
    "df['timestamp'] = data['time']\n",
    "df['method'] = data['method']\n",
    "df['status'] = data['status']\n",
    "df['referer'] = data['referer']\n",
    "df['path'] = data['path']\n",
    "df['bytes'] = data['size']\n",
    "df.head()"
   ]
  },
  {
   "cell_type": "code",
   "execution_count": 188,
   "metadata": {},
   "outputs": [
    {
     "name": "stdout",
     "output_type": "stream",
     "text": [
      "<class 'pandas.core.frame.DataFrame'>\n",
      "RangeIndex: 148534 entries, 0 to 148533\n",
      "Data columns (total 7 columns):\n",
      " #   Column     Non-Null Count   Dtype \n",
      "---  ------     --------------   ----- \n",
      " 0   timestamp  148534 non-null  object\n",
      " 1   method     148534 non-null  object\n",
      " 2   status     148534 non-null  object\n",
      " 3   referer    148464 non-null  object\n",
      " 4   path       148461 non-null  object\n",
      " 5   payload    0 non-null       object\n",
      " 6   bytes      148465 non-null  object\n",
      "dtypes: object(7)\n",
      "memory usage: 7.9+ MB\n"
     ]
    }
   ],
   "source": [
    "df.info()"
   ]
  },
  {
   "cell_type": "code",
   "execution_count": 191,
   "metadata": {
    "colab": {
     "base_uri": "https://localhost:8080/"
    },
    "executionInfo": {
     "elapsed": 3090,
     "status": "ok",
     "timestamp": 1604640597492,
     "user": {
      "displayName": "이진재/컴퓨터공학전공/학생",
      "photoUrl": "",
      "userId": "04961383261765965747"
     },
     "user_tz": -540
    },
    "id": "EbZR238Rx5J1",
    "outputId": "5bb38296-85cb-4e78-f1a1-71e3f0b5a84f"
   },
   "outputs": [
    {
     "ename": "ParserError",
     "evalue": "Unknown string format: [29/Feb/2020:00:00:02 +0000]",
     "output_type": "error",
     "traceback": [
      "\u001b[0;31m---------------------------------------------------------------------------\u001b[0m",
      "\u001b[0;31mTypeError\u001b[0m                                 Traceback (most recent call last)",
      "\u001b[0;32m/usr/local/Caskroom/miniconda/base/envs/py_env/lib/python3.7/site-packages/pandas/core/arrays/datetimes.py\u001b[0m in \u001b[0;36mobjects_to_datetime64ns\u001b[0;34m(data, dayfirst, yearfirst, utc, errors, require_iso8601, allow_object)\u001b[0m\n\u001b[1;32m   2053\u001b[0m         \u001b[0;32mtry\u001b[0m\u001b[0;34m:\u001b[0m\u001b[0;34m\u001b[0m\u001b[0;34m\u001b[0m\u001b[0m\n\u001b[0;32m-> 2054\u001b[0;31m             \u001b[0mvalues\u001b[0m\u001b[0;34m,\u001b[0m \u001b[0mtz_parsed\u001b[0m \u001b[0;34m=\u001b[0m \u001b[0mconversion\u001b[0m\u001b[0;34m.\u001b[0m\u001b[0mdatetime_to_datetime64\u001b[0m\u001b[0;34m(\u001b[0m\u001b[0mdata\u001b[0m\u001b[0;34m)\u001b[0m\u001b[0;34m\u001b[0m\u001b[0;34m\u001b[0m\u001b[0m\n\u001b[0m\u001b[1;32m   2055\u001b[0m             \u001b[0;31m# If tzaware, these values represent unix timestamps, so we\u001b[0m\u001b[0;34m\u001b[0m\u001b[0;34m\u001b[0m\u001b[0;34m\u001b[0m\u001b[0m\n",
      "\u001b[0;32mpandas/_libs/tslibs/conversion.pyx\u001b[0m in \u001b[0;36mpandas._libs.tslibs.conversion.datetime_to_datetime64\u001b[0;34m()\u001b[0m\n",
      "\u001b[0;31mTypeError\u001b[0m: Unrecognized value type: <class 'str'>",
      "\nDuring handling of the above exception, another exception occurred:\n",
      "\u001b[0;31mParserError\u001b[0m                               Traceback (most recent call last)",
      "\u001b[0;32m<ipython-input-191-48bf24d508a7>\u001b[0m in \u001b[0;36m<module>\u001b[0;34m\u001b[0m\n\u001b[0;32m----> 1\u001b[0;31m \u001b[0mdf\u001b[0m\u001b[0;34m[\u001b[0m\u001b[0;34m'timestamp'\u001b[0m\u001b[0;34m]\u001b[0m \u001b[0;34m=\u001b[0m \u001b[0mpd\u001b[0m\u001b[0;34m.\u001b[0m\u001b[0mto_datetime\u001b[0m\u001b[0;34m(\u001b[0m\u001b[0mdf\u001b[0m\u001b[0;34m[\u001b[0m\u001b[0;34m'timestamp'\u001b[0m\u001b[0;34m]\u001b[0m\u001b[0;34m)\u001b[0m\u001b[0;34m\u001b[0m\u001b[0;34m\u001b[0m\u001b[0m\n\u001b[0m",
      "\u001b[0;32m/usr/local/Caskroom/miniconda/base/envs/py_env/lib/python3.7/site-packages/pandas/core/tools/datetimes.py\u001b[0m in \u001b[0;36mto_datetime\u001b[0;34m(arg, errors, dayfirst, yearfirst, utc, format, exact, unit, infer_datetime_format, origin, cache)\u001b[0m\n\u001b[1;32m    801\u001b[0m             \u001b[0mresult\u001b[0m \u001b[0;34m=\u001b[0m \u001b[0marg\u001b[0m\u001b[0;34m.\u001b[0m\u001b[0mmap\u001b[0m\u001b[0;34m(\u001b[0m\u001b[0mcache_array\u001b[0m\u001b[0;34m)\u001b[0m\u001b[0;34m\u001b[0m\u001b[0;34m\u001b[0m\u001b[0m\n\u001b[1;32m    802\u001b[0m         \u001b[0;32melse\u001b[0m\u001b[0;34m:\u001b[0m\u001b[0;34m\u001b[0m\u001b[0;34m\u001b[0m\u001b[0m\n\u001b[0;32m--> 803\u001b[0;31m             \u001b[0mvalues\u001b[0m \u001b[0;34m=\u001b[0m \u001b[0mconvert_listlike\u001b[0m\u001b[0;34m(\u001b[0m\u001b[0marg\u001b[0m\u001b[0;34m.\u001b[0m\u001b[0m_values\u001b[0m\u001b[0;34m,\u001b[0m \u001b[0mformat\u001b[0m\u001b[0;34m)\u001b[0m\u001b[0;34m\u001b[0m\u001b[0;34m\u001b[0m\u001b[0m\n\u001b[0m\u001b[1;32m    804\u001b[0m             \u001b[0mresult\u001b[0m \u001b[0;34m=\u001b[0m \u001b[0marg\u001b[0m\u001b[0;34m.\u001b[0m\u001b[0m_constructor\u001b[0m\u001b[0;34m(\u001b[0m\u001b[0mvalues\u001b[0m\u001b[0;34m,\u001b[0m \u001b[0mindex\u001b[0m\u001b[0;34m=\u001b[0m\u001b[0marg\u001b[0m\u001b[0;34m.\u001b[0m\u001b[0mindex\u001b[0m\u001b[0;34m,\u001b[0m \u001b[0mname\u001b[0m\u001b[0;34m=\u001b[0m\u001b[0marg\u001b[0m\u001b[0;34m.\u001b[0m\u001b[0mname\u001b[0m\u001b[0;34m)\u001b[0m\u001b[0;34m\u001b[0m\u001b[0;34m\u001b[0m\u001b[0m\n\u001b[1;32m    805\u001b[0m     \u001b[0;32melif\u001b[0m \u001b[0misinstance\u001b[0m\u001b[0;34m(\u001b[0m\u001b[0marg\u001b[0m\u001b[0;34m,\u001b[0m \u001b[0;34m(\u001b[0m\u001b[0mABCDataFrame\u001b[0m\u001b[0;34m,\u001b[0m \u001b[0mabc\u001b[0m\u001b[0;34m.\u001b[0m\u001b[0mMutableMapping\u001b[0m\u001b[0;34m)\u001b[0m\u001b[0;34m)\u001b[0m\u001b[0;34m:\u001b[0m\u001b[0;34m\u001b[0m\u001b[0;34m\u001b[0m\u001b[0m\n",
      "\u001b[0;32m/usr/local/Caskroom/miniconda/base/envs/py_env/lib/python3.7/site-packages/pandas/core/tools/datetimes.py\u001b[0m in \u001b[0;36m_convert_listlike_datetimes\u001b[0;34m(arg, format, name, tz, unit, errors, infer_datetime_format, dayfirst, yearfirst, exact)\u001b[0m\n\u001b[1;32m    464\u001b[0m             \u001b[0merrors\u001b[0m\u001b[0;34m=\u001b[0m\u001b[0merrors\u001b[0m\u001b[0;34m,\u001b[0m\u001b[0;34m\u001b[0m\u001b[0;34m\u001b[0m\u001b[0m\n\u001b[1;32m    465\u001b[0m             \u001b[0mrequire_iso8601\u001b[0m\u001b[0;34m=\u001b[0m\u001b[0mrequire_iso8601\u001b[0m\u001b[0;34m,\u001b[0m\u001b[0;34m\u001b[0m\u001b[0;34m\u001b[0m\u001b[0m\n\u001b[0;32m--> 466\u001b[0;31m             \u001b[0mallow_object\u001b[0m\u001b[0;34m=\u001b[0m\u001b[0;32mTrue\u001b[0m\u001b[0;34m,\u001b[0m\u001b[0;34m\u001b[0m\u001b[0;34m\u001b[0m\u001b[0m\n\u001b[0m\u001b[1;32m    467\u001b[0m         )\n\u001b[1;32m    468\u001b[0m \u001b[0;34m\u001b[0m\u001b[0m\n",
      "\u001b[0;32m/usr/local/Caskroom/miniconda/base/envs/py_env/lib/python3.7/site-packages/pandas/core/arrays/datetimes.py\u001b[0m in \u001b[0;36mobjects_to_datetime64ns\u001b[0;34m(data, dayfirst, yearfirst, utc, errors, require_iso8601, allow_object)\u001b[0m\n\u001b[1;32m   2057\u001b[0m             \u001b[0;32mreturn\u001b[0m \u001b[0mvalues\u001b[0m\u001b[0;34m.\u001b[0m\u001b[0mview\u001b[0m\u001b[0;34m(\u001b[0m\u001b[0;34m\"i8\"\u001b[0m\u001b[0;34m)\u001b[0m\u001b[0;34m,\u001b[0m \u001b[0mtz_parsed\u001b[0m\u001b[0;34m\u001b[0m\u001b[0;34m\u001b[0m\u001b[0m\n\u001b[1;32m   2058\u001b[0m         \u001b[0;32mexcept\u001b[0m \u001b[0;34m(\u001b[0m\u001b[0mValueError\u001b[0m\u001b[0;34m,\u001b[0m \u001b[0mTypeError\u001b[0m\u001b[0;34m)\u001b[0m\u001b[0;34m:\u001b[0m\u001b[0;34m\u001b[0m\u001b[0;34m\u001b[0m\u001b[0m\n\u001b[0;32m-> 2059\u001b[0;31m             \u001b[0;32mraise\u001b[0m \u001b[0me\u001b[0m\u001b[0;34m\u001b[0m\u001b[0;34m\u001b[0m\u001b[0m\n\u001b[0m\u001b[1;32m   2060\u001b[0m \u001b[0;34m\u001b[0m\u001b[0m\n\u001b[1;32m   2061\u001b[0m     \u001b[0;32mif\u001b[0m \u001b[0mtz_parsed\u001b[0m \u001b[0;32mis\u001b[0m \u001b[0;32mnot\u001b[0m \u001b[0;32mNone\u001b[0m\u001b[0;34m:\u001b[0m\u001b[0;34m\u001b[0m\u001b[0;34m\u001b[0m\u001b[0m\n",
      "\u001b[0;32m/usr/local/Caskroom/miniconda/base/envs/py_env/lib/python3.7/site-packages/pandas/core/arrays/datetimes.py\u001b[0m in \u001b[0;36mobjects_to_datetime64ns\u001b[0;34m(data, dayfirst, yearfirst, utc, errors, require_iso8601, allow_object)\u001b[0m\n\u001b[1;32m   2048\u001b[0m             \u001b[0mdayfirst\u001b[0m\u001b[0;34m=\u001b[0m\u001b[0mdayfirst\u001b[0m\u001b[0;34m,\u001b[0m\u001b[0;34m\u001b[0m\u001b[0;34m\u001b[0m\u001b[0m\n\u001b[1;32m   2049\u001b[0m             \u001b[0myearfirst\u001b[0m\u001b[0;34m=\u001b[0m\u001b[0myearfirst\u001b[0m\u001b[0;34m,\u001b[0m\u001b[0;34m\u001b[0m\u001b[0;34m\u001b[0m\u001b[0m\n\u001b[0;32m-> 2050\u001b[0;31m             \u001b[0mrequire_iso8601\u001b[0m\u001b[0;34m=\u001b[0m\u001b[0mrequire_iso8601\u001b[0m\u001b[0;34m,\u001b[0m\u001b[0;34m\u001b[0m\u001b[0;34m\u001b[0m\u001b[0m\n\u001b[0m\u001b[1;32m   2051\u001b[0m         )\n\u001b[1;32m   2052\u001b[0m     \u001b[0;32mexcept\u001b[0m \u001b[0mValueError\u001b[0m \u001b[0;32mas\u001b[0m \u001b[0me\u001b[0m\u001b[0;34m:\u001b[0m\u001b[0;34m\u001b[0m\u001b[0;34m\u001b[0m\u001b[0m\n",
      "\u001b[0;32mpandas/_libs/tslib.pyx\u001b[0m in \u001b[0;36mpandas._libs.tslib.array_to_datetime\u001b[0;34m()\u001b[0m\n",
      "\u001b[0;32mpandas/_libs/tslib.pyx\u001b[0m in \u001b[0;36mpandas._libs.tslib.array_to_datetime\u001b[0;34m()\u001b[0m\n",
      "\u001b[0;32mpandas/_libs/tslib.pyx\u001b[0m in \u001b[0;36mpandas._libs.tslib.array_to_datetime_object\u001b[0;34m()\u001b[0m\n",
      "\u001b[0;32mpandas/_libs/tslib.pyx\u001b[0m in \u001b[0;36mpandas._libs.tslib.array_to_datetime_object\u001b[0;34m()\u001b[0m\n",
      "\u001b[0;32mpandas/_libs/tslibs/parsing.pyx\u001b[0m in \u001b[0;36mpandas._libs.tslibs.parsing.parse_datetime_string\u001b[0;34m()\u001b[0m\n",
      "\u001b[0;32m/usr/local/Caskroom/miniconda/base/envs/py_env/lib/python3.7/site-packages/dateutil/parser/_parser.py\u001b[0m in \u001b[0;36mparse\u001b[0;34m(timestr, parserinfo, **kwargs)\u001b[0m\n\u001b[1;32m   1372\u001b[0m         \u001b[0;32mreturn\u001b[0m \u001b[0mparser\u001b[0m\u001b[0;34m(\u001b[0m\u001b[0mparserinfo\u001b[0m\u001b[0;34m)\u001b[0m\u001b[0;34m.\u001b[0m\u001b[0mparse\u001b[0m\u001b[0;34m(\u001b[0m\u001b[0mtimestr\u001b[0m\u001b[0;34m,\u001b[0m \u001b[0;34m**\u001b[0m\u001b[0mkwargs\u001b[0m\u001b[0;34m)\u001b[0m\u001b[0;34m\u001b[0m\u001b[0;34m\u001b[0m\u001b[0m\n\u001b[1;32m   1373\u001b[0m     \u001b[0;32melse\u001b[0m\u001b[0;34m:\u001b[0m\u001b[0;34m\u001b[0m\u001b[0;34m\u001b[0m\u001b[0m\n\u001b[0;32m-> 1374\u001b[0;31m         \u001b[0;32mreturn\u001b[0m \u001b[0mDEFAULTPARSER\u001b[0m\u001b[0;34m.\u001b[0m\u001b[0mparse\u001b[0m\u001b[0;34m(\u001b[0m\u001b[0mtimestr\u001b[0m\u001b[0;34m,\u001b[0m \u001b[0;34m**\u001b[0m\u001b[0mkwargs\u001b[0m\u001b[0;34m)\u001b[0m\u001b[0;34m\u001b[0m\u001b[0;34m\u001b[0m\u001b[0m\n\u001b[0m\u001b[1;32m   1375\u001b[0m \u001b[0;34m\u001b[0m\u001b[0m\n\u001b[1;32m   1376\u001b[0m \u001b[0;34m\u001b[0m\u001b[0m\n",
      "\u001b[0;32m/usr/local/Caskroom/miniconda/base/envs/py_env/lib/python3.7/site-packages/dateutil/parser/_parser.py\u001b[0m in \u001b[0;36mparse\u001b[0;34m(self, timestr, default, ignoretz, tzinfos, **kwargs)\u001b[0m\n\u001b[1;32m    647\u001b[0m \u001b[0;34m\u001b[0m\u001b[0m\n\u001b[1;32m    648\u001b[0m         \u001b[0;32mif\u001b[0m \u001b[0mres\u001b[0m \u001b[0;32mis\u001b[0m \u001b[0;32mNone\u001b[0m\u001b[0;34m:\u001b[0m\u001b[0;34m\u001b[0m\u001b[0;34m\u001b[0m\u001b[0m\n\u001b[0;32m--> 649\u001b[0;31m             \u001b[0;32mraise\u001b[0m \u001b[0mParserError\u001b[0m\u001b[0;34m(\u001b[0m\u001b[0;34m\"Unknown string format: %s\"\u001b[0m\u001b[0;34m,\u001b[0m \u001b[0mtimestr\u001b[0m\u001b[0;34m)\u001b[0m\u001b[0;34m\u001b[0m\u001b[0;34m\u001b[0m\u001b[0m\n\u001b[0m\u001b[1;32m    650\u001b[0m \u001b[0;34m\u001b[0m\u001b[0m\n\u001b[1;32m    651\u001b[0m         \u001b[0;32mif\u001b[0m \u001b[0mlen\u001b[0m\u001b[0;34m(\u001b[0m\u001b[0mres\u001b[0m\u001b[0;34m)\u001b[0m \u001b[0;34m==\u001b[0m \u001b[0;36m0\u001b[0m\u001b[0;34m:\u001b[0m\u001b[0;34m\u001b[0m\u001b[0;34m\u001b[0m\u001b[0m\n",
      "\u001b[0;31mParserError\u001b[0m: Unknown string format: [29/Feb/2020:00:00:02 +0000]"
     ]
    }
   ],
   "source": [
    "df['timestamp'] = pd.to_datetime(df['timestamp'])"
   ]
  },
  {
   "cell_type": "code",
   "execution_count": 190,
   "metadata": {
    "colab": {
     "base_uri": "https://localhost:8080/"
    },
    "executionInfo": {
     "elapsed": 3090,
     "status": "ok",
     "timestamp": 1604640597492,
     "user": {
      "displayName": "이진재/컴퓨터공학전공/학생",
      "photoUrl": "",
      "userId": "04961383261765965747"
     },
     "user_tz": -540
    },
    "id": "EbZR238Rx5J1",
    "outputId": "5bb38296-85cb-4e78-f1a1-71e3f0b5a84f"
   },
   "outputs": [
    {
     "ename": "ParserError",
     "evalue": "Unknown string format: [29/Feb/2020:00:00:02 +0000]",
     "output_type": "error",
     "traceback": [
      "\u001b[0;31m---------------------------------------------------------------------------\u001b[0m",
      "\u001b[0;31mTypeError\u001b[0m                                 Traceback (most recent call last)",
      "\u001b[0;32m/usr/local/Caskroom/miniconda/base/envs/py_env/lib/python3.7/site-packages/pandas/core/arrays/datetimes.py\u001b[0m in \u001b[0;36mobjects_to_datetime64ns\u001b[0;34m(data, dayfirst, yearfirst, utc, errors, require_iso8601, allow_object)\u001b[0m\n\u001b[1;32m   2053\u001b[0m         \u001b[0;32mtry\u001b[0m\u001b[0;34m:\u001b[0m\u001b[0;34m\u001b[0m\u001b[0;34m\u001b[0m\u001b[0m\n\u001b[0;32m-> 2054\u001b[0;31m             \u001b[0mvalues\u001b[0m\u001b[0;34m,\u001b[0m \u001b[0mtz_parsed\u001b[0m \u001b[0;34m=\u001b[0m \u001b[0mconversion\u001b[0m\u001b[0;34m.\u001b[0m\u001b[0mdatetime_to_datetime64\u001b[0m\u001b[0;34m(\u001b[0m\u001b[0mdata\u001b[0m\u001b[0;34m)\u001b[0m\u001b[0;34m\u001b[0m\u001b[0;34m\u001b[0m\u001b[0m\n\u001b[0m\u001b[1;32m   2055\u001b[0m             \u001b[0;31m# If tzaware, these values represent unix timestamps, so we\u001b[0m\u001b[0;34m\u001b[0m\u001b[0;34m\u001b[0m\u001b[0;34m\u001b[0m\u001b[0m\n",
      "\u001b[0;32mpandas/_libs/tslibs/conversion.pyx\u001b[0m in \u001b[0;36mpandas._libs.tslibs.conversion.datetime_to_datetime64\u001b[0;34m()\u001b[0m\n",
      "\u001b[0;31mTypeError\u001b[0m: Unrecognized value type: <class 'str'>",
      "\nDuring handling of the above exception, another exception occurred:\n",
      "\u001b[0;31mParserError\u001b[0m                               Traceback (most recent call last)",
      "\u001b[0;32m<ipython-input-190-bedfa6ee36c0>\u001b[0m in \u001b[0;36m<module>\u001b[0;34m\u001b[0m\n\u001b[0;32m----> 1\u001b[0;31m \u001b[0mdf\u001b[0m\u001b[0;34m[\u001b[0m\u001b[0;34m'timestamp'\u001b[0m\u001b[0;34m]\u001b[0m \u001b[0;34m=\u001b[0m \u001b[0mpd\u001b[0m\u001b[0;34m.\u001b[0m\u001b[0mto_datetime\u001b[0m\u001b[0;34m(\u001b[0m\u001b[0mdf\u001b[0m\u001b[0;34m[\u001b[0m\u001b[0;34m'timestamp'\u001b[0m\u001b[0;34m]\u001b[0m\u001b[0;34m)\u001b[0m\u001b[0;34m\u001b[0m\u001b[0;34m\u001b[0m\u001b[0m\n\u001b[0m\u001b[1;32m      2\u001b[0m \u001b[0mdf\u001b[0m\u001b[0;34m[\u001b[0m\u001b[0;34m'timestamp'\u001b[0m\u001b[0;34m]\u001b[0m \u001b[0;34m=\u001b[0m \u001b[0mdf\u001b[0m\u001b[0;34m.\u001b[0m\u001b[0mtimestamp\u001b[0m\u001b[0;34m.\u001b[0m\u001b[0mdt\u001b[0m\u001b[0;34m.\u001b[0m\u001b[0mstrftime\u001b[0m\u001b[0;34m(\u001b[0m\u001b[0;34m'%Y-%m-%d %H:%M:%S'\u001b[0m\u001b[0;34m)\u001b[0m\u001b[0;34m\u001b[0m\u001b[0;34m\u001b[0m\u001b[0m\n\u001b[1;32m      3\u001b[0m \u001b[0mdf\u001b[0m\u001b[0;34m.\u001b[0m\u001b[0mhead\u001b[0m\u001b[0;34m(\u001b[0m\u001b[0;34m)\u001b[0m\u001b[0;34m\u001b[0m\u001b[0;34m\u001b[0m\u001b[0m\n",
      "\u001b[0;32m/usr/local/Caskroom/miniconda/base/envs/py_env/lib/python3.7/site-packages/pandas/core/tools/datetimes.py\u001b[0m in \u001b[0;36mto_datetime\u001b[0;34m(arg, errors, dayfirst, yearfirst, utc, format, exact, unit, infer_datetime_format, origin, cache)\u001b[0m\n\u001b[1;32m    801\u001b[0m             \u001b[0mresult\u001b[0m \u001b[0;34m=\u001b[0m \u001b[0marg\u001b[0m\u001b[0;34m.\u001b[0m\u001b[0mmap\u001b[0m\u001b[0;34m(\u001b[0m\u001b[0mcache_array\u001b[0m\u001b[0;34m)\u001b[0m\u001b[0;34m\u001b[0m\u001b[0;34m\u001b[0m\u001b[0m\n\u001b[1;32m    802\u001b[0m         \u001b[0;32melse\u001b[0m\u001b[0;34m:\u001b[0m\u001b[0;34m\u001b[0m\u001b[0;34m\u001b[0m\u001b[0m\n\u001b[0;32m--> 803\u001b[0;31m             \u001b[0mvalues\u001b[0m \u001b[0;34m=\u001b[0m \u001b[0mconvert_listlike\u001b[0m\u001b[0;34m(\u001b[0m\u001b[0marg\u001b[0m\u001b[0;34m.\u001b[0m\u001b[0m_values\u001b[0m\u001b[0;34m,\u001b[0m \u001b[0mformat\u001b[0m\u001b[0;34m)\u001b[0m\u001b[0;34m\u001b[0m\u001b[0;34m\u001b[0m\u001b[0m\n\u001b[0m\u001b[1;32m    804\u001b[0m             \u001b[0mresult\u001b[0m \u001b[0;34m=\u001b[0m \u001b[0marg\u001b[0m\u001b[0;34m.\u001b[0m\u001b[0m_constructor\u001b[0m\u001b[0;34m(\u001b[0m\u001b[0mvalues\u001b[0m\u001b[0;34m,\u001b[0m \u001b[0mindex\u001b[0m\u001b[0;34m=\u001b[0m\u001b[0marg\u001b[0m\u001b[0;34m.\u001b[0m\u001b[0mindex\u001b[0m\u001b[0;34m,\u001b[0m \u001b[0mname\u001b[0m\u001b[0;34m=\u001b[0m\u001b[0marg\u001b[0m\u001b[0;34m.\u001b[0m\u001b[0mname\u001b[0m\u001b[0;34m)\u001b[0m\u001b[0;34m\u001b[0m\u001b[0;34m\u001b[0m\u001b[0m\n\u001b[1;32m    805\u001b[0m     \u001b[0;32melif\u001b[0m \u001b[0misinstance\u001b[0m\u001b[0;34m(\u001b[0m\u001b[0marg\u001b[0m\u001b[0;34m,\u001b[0m \u001b[0;34m(\u001b[0m\u001b[0mABCDataFrame\u001b[0m\u001b[0;34m,\u001b[0m \u001b[0mabc\u001b[0m\u001b[0;34m.\u001b[0m\u001b[0mMutableMapping\u001b[0m\u001b[0;34m)\u001b[0m\u001b[0;34m)\u001b[0m\u001b[0;34m:\u001b[0m\u001b[0;34m\u001b[0m\u001b[0;34m\u001b[0m\u001b[0m\n",
      "\u001b[0;32m/usr/local/Caskroom/miniconda/base/envs/py_env/lib/python3.7/site-packages/pandas/core/tools/datetimes.py\u001b[0m in \u001b[0;36m_convert_listlike_datetimes\u001b[0;34m(arg, format, name, tz, unit, errors, infer_datetime_format, dayfirst, yearfirst, exact)\u001b[0m\n\u001b[1;32m    464\u001b[0m             \u001b[0merrors\u001b[0m\u001b[0;34m=\u001b[0m\u001b[0merrors\u001b[0m\u001b[0;34m,\u001b[0m\u001b[0;34m\u001b[0m\u001b[0;34m\u001b[0m\u001b[0m\n\u001b[1;32m    465\u001b[0m             \u001b[0mrequire_iso8601\u001b[0m\u001b[0;34m=\u001b[0m\u001b[0mrequire_iso8601\u001b[0m\u001b[0;34m,\u001b[0m\u001b[0;34m\u001b[0m\u001b[0;34m\u001b[0m\u001b[0m\n\u001b[0;32m--> 466\u001b[0;31m             \u001b[0mallow_object\u001b[0m\u001b[0;34m=\u001b[0m\u001b[0;32mTrue\u001b[0m\u001b[0;34m,\u001b[0m\u001b[0;34m\u001b[0m\u001b[0;34m\u001b[0m\u001b[0m\n\u001b[0m\u001b[1;32m    467\u001b[0m         )\n\u001b[1;32m    468\u001b[0m \u001b[0;34m\u001b[0m\u001b[0m\n",
      "\u001b[0;32m/usr/local/Caskroom/miniconda/base/envs/py_env/lib/python3.7/site-packages/pandas/core/arrays/datetimes.py\u001b[0m in \u001b[0;36mobjects_to_datetime64ns\u001b[0;34m(data, dayfirst, yearfirst, utc, errors, require_iso8601, allow_object)\u001b[0m\n\u001b[1;32m   2057\u001b[0m             \u001b[0;32mreturn\u001b[0m \u001b[0mvalues\u001b[0m\u001b[0;34m.\u001b[0m\u001b[0mview\u001b[0m\u001b[0;34m(\u001b[0m\u001b[0;34m\"i8\"\u001b[0m\u001b[0;34m)\u001b[0m\u001b[0;34m,\u001b[0m \u001b[0mtz_parsed\u001b[0m\u001b[0;34m\u001b[0m\u001b[0;34m\u001b[0m\u001b[0m\n\u001b[1;32m   2058\u001b[0m         \u001b[0;32mexcept\u001b[0m \u001b[0;34m(\u001b[0m\u001b[0mValueError\u001b[0m\u001b[0;34m,\u001b[0m \u001b[0mTypeError\u001b[0m\u001b[0;34m)\u001b[0m\u001b[0;34m:\u001b[0m\u001b[0;34m\u001b[0m\u001b[0;34m\u001b[0m\u001b[0m\n\u001b[0;32m-> 2059\u001b[0;31m             \u001b[0;32mraise\u001b[0m \u001b[0me\u001b[0m\u001b[0;34m\u001b[0m\u001b[0;34m\u001b[0m\u001b[0m\n\u001b[0m\u001b[1;32m   2060\u001b[0m \u001b[0;34m\u001b[0m\u001b[0m\n\u001b[1;32m   2061\u001b[0m     \u001b[0;32mif\u001b[0m \u001b[0mtz_parsed\u001b[0m \u001b[0;32mis\u001b[0m \u001b[0;32mnot\u001b[0m \u001b[0;32mNone\u001b[0m\u001b[0;34m:\u001b[0m\u001b[0;34m\u001b[0m\u001b[0;34m\u001b[0m\u001b[0m\n",
      "\u001b[0;32m/usr/local/Caskroom/miniconda/base/envs/py_env/lib/python3.7/site-packages/pandas/core/arrays/datetimes.py\u001b[0m in \u001b[0;36mobjects_to_datetime64ns\u001b[0;34m(data, dayfirst, yearfirst, utc, errors, require_iso8601, allow_object)\u001b[0m\n\u001b[1;32m   2048\u001b[0m             \u001b[0mdayfirst\u001b[0m\u001b[0;34m=\u001b[0m\u001b[0mdayfirst\u001b[0m\u001b[0;34m,\u001b[0m\u001b[0;34m\u001b[0m\u001b[0;34m\u001b[0m\u001b[0m\n\u001b[1;32m   2049\u001b[0m             \u001b[0myearfirst\u001b[0m\u001b[0;34m=\u001b[0m\u001b[0myearfirst\u001b[0m\u001b[0;34m,\u001b[0m\u001b[0;34m\u001b[0m\u001b[0;34m\u001b[0m\u001b[0m\n\u001b[0;32m-> 2050\u001b[0;31m             \u001b[0mrequire_iso8601\u001b[0m\u001b[0;34m=\u001b[0m\u001b[0mrequire_iso8601\u001b[0m\u001b[0;34m,\u001b[0m\u001b[0;34m\u001b[0m\u001b[0;34m\u001b[0m\u001b[0m\n\u001b[0m\u001b[1;32m   2051\u001b[0m         )\n\u001b[1;32m   2052\u001b[0m     \u001b[0;32mexcept\u001b[0m \u001b[0mValueError\u001b[0m \u001b[0;32mas\u001b[0m \u001b[0me\u001b[0m\u001b[0;34m:\u001b[0m\u001b[0;34m\u001b[0m\u001b[0;34m\u001b[0m\u001b[0m\n",
      "\u001b[0;32mpandas/_libs/tslib.pyx\u001b[0m in \u001b[0;36mpandas._libs.tslib.array_to_datetime\u001b[0;34m()\u001b[0m\n",
      "\u001b[0;32mpandas/_libs/tslib.pyx\u001b[0m in \u001b[0;36mpandas._libs.tslib.array_to_datetime\u001b[0;34m()\u001b[0m\n",
      "\u001b[0;32mpandas/_libs/tslib.pyx\u001b[0m in \u001b[0;36mpandas._libs.tslib.array_to_datetime_object\u001b[0;34m()\u001b[0m\n",
      "\u001b[0;32mpandas/_libs/tslib.pyx\u001b[0m in \u001b[0;36mpandas._libs.tslib.array_to_datetime_object\u001b[0;34m()\u001b[0m\n",
      "\u001b[0;32mpandas/_libs/tslibs/parsing.pyx\u001b[0m in \u001b[0;36mpandas._libs.tslibs.parsing.parse_datetime_string\u001b[0;34m()\u001b[0m\n",
      "\u001b[0;32m/usr/local/Caskroom/miniconda/base/envs/py_env/lib/python3.7/site-packages/dateutil/parser/_parser.py\u001b[0m in \u001b[0;36mparse\u001b[0;34m(timestr, parserinfo, **kwargs)\u001b[0m\n\u001b[1;32m   1372\u001b[0m         \u001b[0;32mreturn\u001b[0m \u001b[0mparser\u001b[0m\u001b[0;34m(\u001b[0m\u001b[0mparserinfo\u001b[0m\u001b[0;34m)\u001b[0m\u001b[0;34m.\u001b[0m\u001b[0mparse\u001b[0m\u001b[0;34m(\u001b[0m\u001b[0mtimestr\u001b[0m\u001b[0;34m,\u001b[0m \u001b[0;34m**\u001b[0m\u001b[0mkwargs\u001b[0m\u001b[0;34m)\u001b[0m\u001b[0;34m\u001b[0m\u001b[0;34m\u001b[0m\u001b[0m\n\u001b[1;32m   1373\u001b[0m     \u001b[0;32melse\u001b[0m\u001b[0;34m:\u001b[0m\u001b[0;34m\u001b[0m\u001b[0;34m\u001b[0m\u001b[0m\n\u001b[0;32m-> 1374\u001b[0;31m         \u001b[0;32mreturn\u001b[0m \u001b[0mDEFAULTPARSER\u001b[0m\u001b[0;34m.\u001b[0m\u001b[0mparse\u001b[0m\u001b[0;34m(\u001b[0m\u001b[0mtimestr\u001b[0m\u001b[0;34m,\u001b[0m \u001b[0;34m**\u001b[0m\u001b[0mkwargs\u001b[0m\u001b[0;34m)\u001b[0m\u001b[0;34m\u001b[0m\u001b[0;34m\u001b[0m\u001b[0m\n\u001b[0m\u001b[1;32m   1375\u001b[0m \u001b[0;34m\u001b[0m\u001b[0m\n\u001b[1;32m   1376\u001b[0m \u001b[0;34m\u001b[0m\u001b[0m\n",
      "\u001b[0;32m/usr/local/Caskroom/miniconda/base/envs/py_env/lib/python3.7/site-packages/dateutil/parser/_parser.py\u001b[0m in \u001b[0;36mparse\u001b[0;34m(self, timestr, default, ignoretz, tzinfos, **kwargs)\u001b[0m\n\u001b[1;32m    647\u001b[0m \u001b[0;34m\u001b[0m\u001b[0m\n\u001b[1;32m    648\u001b[0m         \u001b[0;32mif\u001b[0m \u001b[0mres\u001b[0m \u001b[0;32mis\u001b[0m \u001b[0;32mNone\u001b[0m\u001b[0;34m:\u001b[0m\u001b[0;34m\u001b[0m\u001b[0;34m\u001b[0m\u001b[0m\n\u001b[0;32m--> 649\u001b[0;31m             \u001b[0;32mraise\u001b[0m \u001b[0mParserError\u001b[0m\u001b[0;34m(\u001b[0m\u001b[0;34m\"Unknown string format: %s\"\u001b[0m\u001b[0;34m,\u001b[0m \u001b[0mtimestr\u001b[0m\u001b[0;34m)\u001b[0m\u001b[0;34m\u001b[0m\u001b[0;34m\u001b[0m\u001b[0m\n\u001b[0m\u001b[1;32m    650\u001b[0m \u001b[0;34m\u001b[0m\u001b[0m\n\u001b[1;32m    651\u001b[0m         \u001b[0;32mif\u001b[0m \u001b[0mlen\u001b[0m\u001b[0;34m(\u001b[0m\u001b[0mres\u001b[0m\u001b[0;34m)\u001b[0m \u001b[0;34m==\u001b[0m \u001b[0;36m0\u001b[0m\u001b[0;34m:\u001b[0m\u001b[0;34m\u001b[0m\u001b[0;34m\u001b[0m\u001b[0m\n",
      "\u001b[0;31mParserError\u001b[0m: Unknown string format: [29/Feb/2020:00:00:02 +0000]"
     ]
    }
   ],
   "source": [
    "df['timestamp'] = df.timestamp.dt.strftime('%Y-%m-%d %H:%M:%S')\n",
    "df.head()"
   ]
  },
  {
   "cell_type": "code",
   "execution_count": 80,
   "metadata": {},
   "outputs": [],
   "source": [
    "df['payload'] = df['payload'].fillna('\"-\"')"
   ]
  },
  {
   "cell_type": "code",
   "execution_count": 88,
   "metadata": {},
   "outputs": [
    {
     "name": "stdout",
     "output_type": "stream",
     "text": [
      "<class 'pandas.core.frame.DataFrame'>\n",
      "RangeIndex: 148534 entries, 0 to 148533\n",
      "Data columns (total 7 columns):\n",
      " #   Column     Non-Null Count   Dtype \n",
      "---  ------     --------------   ----- \n",
      " 0   timestamp  148463 non-null  object\n",
      " 1   method     148534 non-null  object\n",
      " 2   status     148534 non-null  object\n",
      " 3   referer    148464 non-null  object\n",
      " 4   path       148461 non-null  object\n",
      " 5   payload    148534 non-null  object\n",
      " 6   bytes      148465 non-null  object\n",
      "dtypes: object(7)\n",
      "memory usage: 7.9+ MB\n"
     ]
    }
   ],
   "source": [
    "df.info()"
   ]
  },
  {
   "cell_type": "code",
   "execution_count": 141,
   "metadata": {},
   "outputs": [
    {
     "name": "stdout",
     "output_type": "stream",
     "text": [
      "<class 'pandas.core.frame.DataFrame'>\n",
      "RangeIndex: 148534 entries, 0 to 148533\n",
      "Data columns (total 2 columns):\n",
      " #   Column   Non-Null Count   Dtype \n",
      "---  ------   --------------   ----- \n",
      " 0   attack1  148534 non-null  object\n",
      " 1   attack2  148534 non-null  object\n",
      "dtypes: object(2)\n",
      "memory usage: 2.3+ MB\n"
     ]
    }
   ],
   "source": [
    "label_file_path = '../dataset/AIT/labels/mail.cup.com/apache2/mail.cup.com-access.log'\n",
    "label_df = pd.read_csv(label_file_path, header = None, names = ['attack1', 'attack2'])\n",
    "label_df.info()"
   ]
  },
  {
   "cell_type": "code",
   "execution_count": 142,
   "metadata": {
    "executionInfo": {
     "elapsed": 3086,
     "status": "ok",
     "timestamp": 1604640597495,
     "user": {
      "displayName": "이진재/컴퓨터공학전공/학생",
      "photoUrl": "",
      "userId": "04961383261765965747"
     },
     "user_tz": -540
    },
    "id": "XftVfkEO5usQ"
   },
   "outputs": [
    {
     "data": {
      "text/html": [
       "<div>\n",
       "<style scoped>\n",
       "    .dataframe tbody tr th:only-of-type {\n",
       "        vertical-align: middle;\n",
       "    }\n",
       "\n",
       "    .dataframe tbody tr th {\n",
       "        vertical-align: top;\n",
       "    }\n",
       "\n",
       "    .dataframe thead th {\n",
       "        text-align: right;\n",
       "    }\n",
       "</style>\n",
       "<table border=\"1\" class=\"dataframe\">\n",
       "  <thead>\n",
       "    <tr style=\"text-align: right;\">\n",
       "      <th></th>\n",
       "      <th>timestamp</th>\n",
       "      <th>method</th>\n",
       "      <th>status</th>\n",
       "      <th>referer</th>\n",
       "      <th>path</th>\n",
       "      <th>payload</th>\n",
       "      <th>bytes</th>\n",
       "      <th>attack1</th>\n",
       "      <th>attack2</th>\n",
       "    </tr>\n",
       "  </thead>\n",
       "  <tbody>\n",
       "    <tr>\n",
       "      <th>0</th>\n",
       "      <td>2020-02-29 00:00:02</td>\n",
       "      <td>GET</td>\n",
       "      <td>200</td>\n",
       "      <td>\"-\"</td>\n",
       "      <td>/login.php</td>\n",
       "      <td>\"-\"</td>\n",
       "      <td>2532</td>\n",
       "      <td>0</td>\n",
       "      <td>0</td>\n",
       "    </tr>\n",
       "    <tr>\n",
       "      <th>1</th>\n",
       "      <td>2020-02-29 00:00:09</td>\n",
       "      <td>POST</td>\n",
       "      <td>200</td>\n",
       "      <td>\"http://mail.cup.com/kronolith/\"</td>\n",
       "      <td>/services/ajax.php/kronolith/listTopTags</td>\n",
       "      <td>\"-\"</td>\n",
       "      <td>402</td>\n",
       "      <td>0</td>\n",
       "      <td>0</td>\n",
       "    </tr>\n",
       "    <tr>\n",
       "      <th>2</th>\n",
       "      <td>2020-02-29 00:00:12</td>\n",
       "      <td>POST</td>\n",
       "      <td>302</td>\n",
       "      <td>\"http://mail.cup.com/login.php\"</td>\n",
       "      <td>/login.php</td>\n",
       "      <td>\"-\"</td>\n",
       "      <td>601</td>\n",
       "      <td>0</td>\n",
       "      <td>0</td>\n",
       "    </tr>\n",
       "    <tr>\n",
       "      <th>3</th>\n",
       "      <td>2020-02-29 00:00:13</td>\n",
       "      <td>GET</td>\n",
       "      <td>200</td>\n",
       "      <td>\"http://mail.cup.com/login.php\"</td>\n",
       "      <td>/services/portal/</td>\n",
       "      <td>\"-\"</td>\n",
       "      <td>7696</td>\n",
       "      <td>0</td>\n",
       "      <td>0</td>\n",
       "    </tr>\n",
       "    <tr>\n",
       "      <th>4</th>\n",
       "      <td>2020-02-29 00:00:14</td>\n",
       "      <td>GET</td>\n",
       "      <td>200</td>\n",
       "      <td>\"http://mail.cup.com/themes/default/screen.css\"</td>\n",
       "      <td>/themes/default/graphics/head-bg.png</td>\n",
       "      <td>\"-\"</td>\n",
       "      <td>380</td>\n",
       "      <td>0</td>\n",
       "      <td>0</td>\n",
       "    </tr>\n",
       "  </tbody>\n",
       "</table>\n",
       "</div>"
      ],
      "text/plain": [
       "             timestamp method status  \\\n",
       "0  2020-02-29 00:00:02    GET    200   \n",
       "1  2020-02-29 00:00:09   POST    200   \n",
       "2  2020-02-29 00:00:12   POST    302   \n",
       "3  2020-02-29 00:00:13    GET    200   \n",
       "4  2020-02-29 00:00:14    GET    200   \n",
       "\n",
       "                                           referer  \\\n",
       "0                                              \"-\"   \n",
       "1                 \"http://mail.cup.com/kronolith/\"   \n",
       "2                  \"http://mail.cup.com/login.php\"   \n",
       "3                  \"http://mail.cup.com/login.php\"   \n",
       "4  \"http://mail.cup.com/themes/default/screen.css\"   \n",
       "\n",
       "                                       path payload bytes attack1 attack2  \n",
       "0                                /login.php     \"-\"  2532       0       0  \n",
       "1  /services/ajax.php/kronolith/listTopTags     \"-\"   402       0       0  \n",
       "2                                /login.php     \"-\"   601       0       0  \n",
       "3                         /services/portal/     \"-\"  7696       0       0  \n",
       "4      /themes/default/graphics/head-bg.png     \"-\"   380       0       0  "
      ]
     },
     "execution_count": 142,
     "metadata": {},
     "output_type": "execute_result"
    }
   ],
   "source": [
    "df_concat = pd.concat([df, label_df], axis = 1)\n",
    "df_concat.head()"
   ]
  },
  {
   "cell_type": "code",
   "execution_count": 143,
   "metadata": {
    "colab": {
     "base_uri": "https://localhost:8080/",
     "height": 366
    },
    "executionInfo": {
     "elapsed": 1324,
     "status": "error",
     "timestamp": 1604640619825,
     "user": {
      "displayName": "이진재/컴퓨터공학전공/학생",
      "photoUrl": "",
      "userId": "04961383261765965747"
     },
     "user_tz": -540
    },
    "id": "teJB2xQl6LVk",
    "outputId": "bfeba352-aca5-410e-d23a-869452a13c33"
   },
   "outputs": [],
   "source": [
    "df_concat['method'] = df_concat['method'].apply(lambda x: x[1:])"
   ]
  },
  {
   "cell_type": "code",
   "execution_count": 144,
   "metadata": {},
   "outputs": [
    {
     "data": {
      "text/plain": [
       "0          ET\n",
       "1         OST\n",
       "2         OST\n",
       "3          ET\n",
       "4          ET\n",
       "         ... \n",
       "148529     ET\n",
       "148530    OST\n",
       "148531     ET\n",
       "148532     ET\n",
       "148533     ET\n",
       "Name: method, Length: 148534, dtype: object"
      ]
     },
     "execution_count": 144,
     "metadata": {},
     "output_type": "execute_result"
    }
   ],
   "source": [
    "df_concat['method']"
   ]
  },
  {
   "cell_type": "code",
   "execution_count": 145,
   "metadata": {
    "colab": {
     "base_uri": "https://localhost:8080/",
     "height": 280
    },
    "executionInfo": {
     "elapsed": 931,
     "status": "ok",
     "timestamp": 1604640632504,
     "user": {
      "displayName": "이진재/컴퓨터공학전공/학생",
      "photoUrl": "",
      "userId": "04961383261765965747"
     },
     "user_tz": -540
    },
    "id": "P2V2ENDDyE1v",
    "outputId": "f15dc640-3f2a-4b57-886f-087702a4c11b"
   },
   "outputs": [],
   "source": [
    "df_concat['attack1'] = df_concat['attack1'].apply(lambda x: ((x.isnumeric()*1) == 0 ) * 1)"
   ]
  },
  {
   "cell_type": "code",
   "execution_count": 147,
   "metadata": {
    "scrolled": true
   },
   "outputs": [
    {
     "data": {
      "text/plain": [
       "0    141745\n",
       "1      6789\n",
       "Name: attack1, dtype: int64"
      ]
     },
     "execution_count": 147,
     "metadata": {},
     "output_type": "execute_result"
    }
   ],
   "source": [
    "df_concat['attack1'].value_counts()\n"
   ]
  },
  {
   "cell_type": "code",
   "execution_count": 148,
   "metadata": {},
   "outputs": [
    {
     "data": {
      "text/plain": [
       "0              141903\n",
       "nikto            6295\n",
       "hydra             329\n",
       "upload              5\n",
       "mail-curl           1\n",
       "webshell-id         1\n",
       "Name: attack2, dtype: int64"
      ]
     },
     "execution_count": 148,
     "metadata": {},
     "output_type": "execute_result"
    }
   ],
   "source": [
    "df_concat['attack2'].value_counts()"
   ]
  },
  {
   "cell_type": "code",
   "execution_count": 149,
   "metadata": {},
   "outputs": [],
   "source": [
    "df_concat['attack2'] = df_concat['attack2'].apply(lambda x: ((x.isnumeric()*1) == 0) * 1)"
   ]
  },
  {
   "cell_type": "code",
   "execution_count": 150,
   "metadata": {},
   "outputs": [
    {
     "data": {
      "text/plain": [
       "0    141903\n",
       "1      6631\n",
       "Name: attack2, dtype: int64"
      ]
     },
     "execution_count": 150,
     "metadata": {},
     "output_type": "execute_result"
    }
   ],
   "source": [
    "df_concat['attack2'].value_counts()"
   ]
  },
  {
   "cell_type": "code",
   "execution_count": 166,
   "metadata": {},
   "outputs": [
    {
     "data": {
      "text/plain": [
       "0    141745\n",
       "2      6631\n",
       "1       158\n",
       "Name: attack, dtype: int64"
      ]
     },
     "execution_count": 166,
     "metadata": {},
     "output_type": "execute_result"
    }
   ],
   "source": [
    "df_concat['attack'] = df_concat['attack1'] + df_concat['attack2']\n",
    "df_concat['attack'].value_counts()"
   ]
  },
  {
   "cell_type": "code",
   "execution_count": 170,
   "metadata": {},
   "outputs": [
    {
     "data": {
      "text/plain": [
       "0    141745\n",
       "1      6789\n",
       "Name: attack, dtype: int64"
      ]
     },
     "execution_count": 170,
     "metadata": {},
     "output_type": "execute_result"
    }
   ],
   "source": [
    "df_concat['attack'] = df_concat['attack'].apply(lambda x: (((x == 2 & 1) * 1) == 1 ) * 1) \n",
    "df_concat['attack'].value_counts()"
   ]
  },
  {
   "cell_type": "code",
   "execution_count": 175,
   "metadata": {
    "executionInfo": {
     "elapsed": 3534,
     "status": "ok",
     "timestamp": 1604640639292,
     "user": {
      "displayName": "이진재/컴퓨터공학전공/학생",
      "photoUrl": "",
      "userId": "04961383261765965747"
     },
     "user_tz": -540
    },
    "id": "T99UaCQl5GVp"
   },
   "outputs": [
    {
     "data": {
      "text/html": [
       "<div>\n",
       "<style scoped>\n",
       "    .dataframe tbody tr th:only-of-type {\n",
       "        vertical-align: middle;\n",
       "    }\n",
       "\n",
       "    .dataframe tbody tr th {\n",
       "        vertical-align: top;\n",
       "    }\n",
       "\n",
       "    .dataframe thead th {\n",
       "        text-align: right;\n",
       "    }\n",
       "</style>\n",
       "<table border=\"1\" class=\"dataframe\">\n",
       "  <thead>\n",
       "    <tr style=\"text-align: right;\">\n",
       "      <th></th>\n",
       "      <th>timestamp</th>\n",
       "      <th>method</th>\n",
       "      <th>status</th>\n",
       "      <th>referer</th>\n",
       "      <th>path</th>\n",
       "      <th>payload</th>\n",
       "      <th>bytes</th>\n",
       "      <th>attack</th>\n",
       "    </tr>\n",
       "  </thead>\n",
       "  <tbody>\n",
       "    <tr>\n",
       "      <th>0</th>\n",
       "      <td>2020-02-29 00:00:02</td>\n",
       "      <td>ET</td>\n",
       "      <td>200</td>\n",
       "      <td>\"-\"</td>\n",
       "      <td>/login.php</td>\n",
       "      <td>\"-\"</td>\n",
       "      <td>2532</td>\n",
       "      <td>0</td>\n",
       "    </tr>\n",
       "    <tr>\n",
       "      <th>1</th>\n",
       "      <td>2020-02-29 00:00:09</td>\n",
       "      <td>OST</td>\n",
       "      <td>200</td>\n",
       "      <td>\"http://mail.cup.com/kronolith/\"</td>\n",
       "      <td>/services/ajax.php/kronolith/listTopTags</td>\n",
       "      <td>\"-\"</td>\n",
       "      <td>402</td>\n",
       "      <td>0</td>\n",
       "    </tr>\n",
       "    <tr>\n",
       "      <th>2</th>\n",
       "      <td>2020-02-29 00:00:12</td>\n",
       "      <td>OST</td>\n",
       "      <td>302</td>\n",
       "      <td>\"http://mail.cup.com/login.php\"</td>\n",
       "      <td>/login.php</td>\n",
       "      <td>\"-\"</td>\n",
       "      <td>601</td>\n",
       "      <td>0</td>\n",
       "    </tr>\n",
       "    <tr>\n",
       "      <th>3</th>\n",
       "      <td>2020-02-29 00:00:13</td>\n",
       "      <td>ET</td>\n",
       "      <td>200</td>\n",
       "      <td>\"http://mail.cup.com/login.php\"</td>\n",
       "      <td>/services/portal/</td>\n",
       "      <td>\"-\"</td>\n",
       "      <td>7696</td>\n",
       "      <td>0</td>\n",
       "    </tr>\n",
       "    <tr>\n",
       "      <th>4</th>\n",
       "      <td>2020-02-29 00:00:14</td>\n",
       "      <td>ET</td>\n",
       "      <td>200</td>\n",
       "      <td>\"http://mail.cup.com/themes/default/screen.css\"</td>\n",
       "      <td>/themes/default/graphics/head-bg.png</td>\n",
       "      <td>\"-\"</td>\n",
       "      <td>380</td>\n",
       "      <td>0</td>\n",
       "    </tr>\n",
       "  </tbody>\n",
       "</table>\n",
       "</div>"
      ],
      "text/plain": [
       "             timestamp method status  \\\n",
       "0  2020-02-29 00:00:02     ET    200   \n",
       "1  2020-02-29 00:00:09    OST    200   \n",
       "2  2020-02-29 00:00:12    OST    302   \n",
       "3  2020-02-29 00:00:13     ET    200   \n",
       "4  2020-02-29 00:00:14     ET    200   \n",
       "\n",
       "                                           referer  \\\n",
       "0                                              \"-\"   \n",
       "1                 \"http://mail.cup.com/kronolith/\"   \n",
       "2                  \"http://mail.cup.com/login.php\"   \n",
       "3                  \"http://mail.cup.com/login.php\"   \n",
       "4  \"http://mail.cup.com/themes/default/screen.css\"   \n",
       "\n",
       "                                       path payload bytes  attack  \n",
       "0                                /login.php     \"-\"  2532       0  \n",
       "1  /services/ajax.php/kronolith/listTopTags     \"-\"   402       0  \n",
       "2                                /login.php     \"-\"   601       0  \n",
       "3                         /services/portal/     \"-\"  7696       0  \n",
       "4      /themes/default/graphics/head-bg.png     \"-\"   380       0  "
      ]
     },
     "execution_count": 175,
     "metadata": {},
     "output_type": "execute_result"
    }
   ],
   "source": [
    "df_concat.drop(['attack1', 'attack2'], axis='columns', inplace=True)\n",
    "df_concat.head()"
   ]
  },
  {
   "cell_type": "code",
   "execution_count": 17,
   "metadata": {
    "colab": {
     "base_uri": "https://localhost:8080/",
     "height": 404
    },
    "executionInfo": {
     "elapsed": 920,
     "status": "ok",
     "timestamp": 1604640641656,
     "user": {
      "displayName": "이진재/컴퓨터공학전공/학생",
      "photoUrl": "",
      "userId": "04961383261765965747"
     },
     "user_tz": -540
    },
    "id": "yCiD532_8Fnn",
    "outputId": "3a9eeda2-e075-4e30-9ab0-61146aac1b36"
   },
   "outputs": [
    {
     "data": {
      "text/html": [
       "<div>\n",
       "<style scoped>\n",
       "    .dataframe tbody tr th:only-of-type {\n",
       "        vertical-align: middle;\n",
       "    }\n",
       "\n",
       "    .dataframe tbody tr th {\n",
       "        vertical-align: top;\n",
       "    }\n",
       "\n",
       "    .dataframe thead th {\n",
       "        text-align: right;\n",
       "    }\n",
       "</style>\n",
       "<table border=\"1\" class=\"dataframe\">\n",
       "  <thead>\n",
       "    <tr style=\"text-align: right;\">\n",
       "      <th></th>\n",
       "      <th>label1</th>\n",
       "      <th>label2</th>\n",
       "    </tr>\n",
       "  </thead>\n",
       "  <tbody>\n",
       "    <tr>\n",
       "      <th>0</th>\n",
       "      <td>0</td>\n",
       "      <td>0</td>\n",
       "    </tr>\n",
       "    <tr>\n",
       "      <th>1</th>\n",
       "      <td>0</td>\n",
       "      <td>0</td>\n",
       "    </tr>\n",
       "    <tr>\n",
       "      <th>2</th>\n",
       "      <td>0</td>\n",
       "      <td>0</td>\n",
       "    </tr>\n",
       "    <tr>\n",
       "      <th>3</th>\n",
       "      <td>0</td>\n",
       "      <td>0</td>\n",
       "    </tr>\n",
       "    <tr>\n",
       "      <th>4</th>\n",
       "      <td>0</td>\n",
       "      <td>0</td>\n",
       "    </tr>\n",
       "    <tr>\n",
       "      <th>...</th>\n",
       "      <td>...</td>\n",
       "      <td>...</td>\n",
       "    </tr>\n",
       "    <tr>\n",
       "      <th>148529</th>\n",
       "      <td>0</td>\n",
       "      <td>0</td>\n",
       "    </tr>\n",
       "    <tr>\n",
       "      <th>148530</th>\n",
       "      <td>0</td>\n",
       "      <td>0</td>\n",
       "    </tr>\n",
       "    <tr>\n",
       "      <th>148531</th>\n",
       "      <td>0</td>\n",
       "      <td>0</td>\n",
       "    </tr>\n",
       "    <tr>\n",
       "      <th>148532</th>\n",
       "      <td>0</td>\n",
       "      <td>0</td>\n",
       "    </tr>\n",
       "    <tr>\n",
       "      <th>148533</th>\n",
       "      <td>0</td>\n",
       "      <td>0</td>\n",
       "    </tr>\n",
       "  </tbody>\n",
       "</table>\n",
       "<p>148534 rows × 2 columns</p>\n",
       "</div>"
      ],
      "text/plain": [
       "       label1 label2\n",
       "0           0      0\n",
       "1           0      0\n",
       "2           0      0\n",
       "3           0      0\n",
       "4           0      0\n",
       "...       ...    ...\n",
       "148529      0      0\n",
       "148530      0      0\n",
       "148531      0      0\n",
       "148532      0      0\n",
       "148533      0      0\n",
       "\n",
       "[148534 rows x 2 columns]"
      ]
     },
     "execution_count": 17,
     "metadata": {
      "tags": []
     },
     "output_type": "execute_result"
    }
   ],
   "source": [
    "labels"
   ]
  },
  {
   "cell_type": "code",
   "execution_count": 18,
   "metadata": {
    "executionInfo": {
     "elapsed": 899,
     "status": "ok",
     "timestamp": 1604640644726,
     "user": {
      "displayName": "이진재/컴퓨터공학전공/학생",
      "photoUrl": "",
      "userId": "04961383261765965747"
     },
     "user_tz": -540
    },
    "id": "Ubn41PYh8b9j"
   },
   "outputs": [],
   "source": [
    "labeled_data = pd.concat([data, labels], axis=1)"
   ]
  },
  {
   "cell_type": "code",
   "execution_count": null,
   "metadata": {
    "executionInfo": {
     "elapsed": 3584,
     "status": "aborted",
     "timestamp": 1604640598066,
     "user": {
      "displayName": "이진재/컴퓨터공학전공/학생",
      "photoUrl": "",
      "userId": "04961383261765965747"
     },
     "user_tz": -540
    },
    "id": "s7nqYhjo80aM"
   },
   "outputs": [],
   "source": [
    "labeled_data[labeled_data.label1 != '0'].to_csv('l.csv')"
   ]
  },
  {
   "cell_type": "code",
   "execution_count": null,
   "metadata": {
    "executionInfo": {
     "elapsed": 3470,
     "status": "aborted",
     "timestamp": 1604640598066,
     "user": {
      "displayName": "이진재/컴퓨터공학전공/학생",
      "photoUrl": "",
      "userId": "04961383261765965747"
     },
     "user_tz": -540
    },
    "id": "cg6ASS729_Xj"
   },
   "outputs": [],
   "source": [
    "notnormal_data = pd.read_csv('l.csv')"
   ]
  },
  {
   "cell_type": "code",
   "execution_count": 19,
   "metadata": {
    "colab": {
     "base_uri": "https://localhost:8080/"
    },
    "executionInfo": {
     "elapsed": 1049,
     "status": "ok",
     "timestamp": 1604640647948,
     "user": {
      "displayName": "이진재/컴퓨터공학전공/학생",
      "photoUrl": "",
      "userId": "04961383261765965747"
     },
     "user_tz": -540
    },
    "id": "uHYLyT49-GH9",
    "outputId": "08af29f9-4b23-4cd1-e4c7-f9ed44e79f84"
   },
   "outputs": [
    {
     "name": "stdout",
     "output_type": "stream",
     "text": [
      "192.168.10.190 2020-02-29 00:00:02+00:00 GET /login.php HTTP/1.1 200 2532 \"-\" \"Mozilla/5.0 (X11; Ubuntu; Linux x86_64; rv:73.0) Gecko/20100101 Firefox/73.0\"\n"
     ]
    }
   ],
   "source": [
    "# notnormal_data.iloc[0].to_string(header=False, index=False)\n",
    "l = data.iloc[0,:].apply(str).values\n",
    "s = \" \".join(l)\n",
    "print(s)\n"
   ]
  },
  {
   "cell_type": "code",
   "execution_count": null,
   "metadata": {
    "id": "H6k49M_HHzd9"
   },
   "outputs": [],
   "source": []
  },
  {
   "cell_type": "code",
   "execution_count": 20,
   "metadata": {
    "colab": {
     "base_uri": "https://localhost:8080/"
    },
    "executionInfo": {
     "elapsed": 1234,
     "status": "ok",
     "timestamp": 1604640654069,
     "user": {
      "displayName": "이진재/컴퓨터공학전공/학생",
      "photoUrl": "",
      "userId": "04961383261765965747"
     },
     "user_tz": -540
    },
    "id": "g6kIU0JzEGxw",
    "outputId": "673b87ad-1db0-4587-940e-940b5c09e12d"
   },
   "outputs": [
    {
     "name": "stdout",
     "output_type": "stream",
     "text": [
      "bytearray(b'192.168.10.190 2020-02-29 00:00:02+00:00 GET /login.php HTTP/1.1 200 2532 \"-\" \"Mozilla/5.0 (X11; Ubuntu; Linux x86_64; rv:73.0) Gecko/20100101 Firefox/73.0\"')\n",
      "['00110001', '00111001', '00110010', '00101110', '00110001', '00110110', '00111000', '00101110', '00110001', '00110000', '00101110', '00110001', '00111001', '00110000', '00100000', '00110010', '00110000', '00110010', '00110000', '00101101', '00110000', '00110010', '00101101', '00110010', '00111001', '00100000', '00110000', '00110000', '00111010', '00110000', '00110000', '00111010', '00110000', '00110010', '00101011', '00110000', '00110000', '00111010', '00110000', '00110000', '00100000', '01000111', '01000101', '01010100', '00100000', '00101111', '01101100', '01101111', '01100111', '01101001', '01101110', '00101110', '01110000', '01101000', '01110000', '00100000', '01001000', '01010100', '01010100', '01010000', '00101111', '00110001', '00101110', '00110001', '00100000', '00110010', '00110000', '00110000', '00100000', '00110010', '00110101', '00110011', '00110010', '00100000', '00100010', '00101101', '00100010', '00100000', '00100010', '01001101', '01101111', '01111010', '01101001', '01101100', '01101100', '01100001', '00101111', '00110101', '00101110', '00110000', '00100000', '00101000', '01011000', '00110001', '00110001', '00111011', '00100000', '01010101', '01100010', '01110101', '01101110', '01110100', '01110101', '00111011', '00100000', '01001100', '01101001', '01101110', '01110101', '01111000', '00100000', '01111000', '00111000', '00110110', '01011111', '00110110', '00110100', '00111011', '00100000', '01110010', '01110110', '00111010', '00110111', '00110011', '00101110', '00110000', '00101001', '00100000', '01000111', '01100101', '01100011', '01101011', '01101111', '00101111', '00110010', '00110000', '00110001', '00110000', '00110000', '00110001', '00110000', '00110001', '00100000', '01000110', '01101001', '01110010', '01100101', '01100110', '01101111', '01111000', '00101111', '00110111', '00110011', '00101110', '00110000', '00100010']\n"
     ]
    }
   ],
   "source": [
    "a_string = s\n",
    "\n",
    "a_byte_array = bytearray(a_string, \"utf8\")\n",
    "print(a_byte_array)\n",
    "byte_list = []\n",
    "int_list = []\n",
    "for byte in a_byte_array:\n",
    "    binary_representation = bin(byte)[2:].zfill(8)\n",
    "    int_list.append(byte)\n",
    "    byte_list.append(binary_representation)\n",
    "\n",
    "\n",
    "print(byte_list)\n",
    "test = \" \".join(byte_list)"
   ]
  },
  {
   "cell_type": "code",
   "execution_count": 21,
   "metadata": {
    "executionInfo": {
     "elapsed": 1055,
     "status": "ok",
     "timestamp": 1604640657383,
     "user": {
      "displayName": "이진재/컴퓨터공학전공/학생",
      "photoUrl": "",
      "userId": "04961383261765965747"
     },
     "user_tz": -540
    },
    "id": "4-Gr8W9cQDTm"
   },
   "outputs": [],
   "source": [
    "zipped = zip(byte_list[0::2], byte_list[1::2])\n",
    "zipped2 = zip(int_list[0::2], int_list[1::2])"
   ]
  },
  {
   "cell_type": "code",
   "execution_count": 22,
   "metadata": {
    "colab": {
     "base_uri": "https://localhost:8080/"
    },
    "executionInfo": {
     "elapsed": 924,
     "status": "ok",
     "timestamp": 1604640669554,
     "user": {
      "displayName": "이진재/컴퓨터공학전공/학생",
      "photoUrl": "",
      "userId": "04961383261765965747"
     },
     "user_tz": -540
    },
    "id": "ZawwrlCOUup8",
    "outputId": "5beabc29-23ff-46bb-8508-61f82ce51825"
   },
   "outputs": [
    {
     "data": {
      "text/plain": [
       "<zip at 0x7ff70ab8a908>"
      ]
     },
     "execution_count": 22,
     "metadata": {
      "tags": []
     },
     "output_type": "execute_result"
    }
   ],
   "source": [
    "zipped2"
   ]
  },
  {
   "cell_type": "code",
   "execution_count": 23,
   "metadata": {
    "colab": {
     "base_uri": "https://localhost:8080/"
    },
    "executionInfo": {
     "elapsed": 1456,
     "status": "ok",
     "timestamp": 1604640674184,
     "user": {
      "displayName": "이진재/컴퓨터공학전공/학생",
      "photoUrl": "",
      "userId": "04961383261765965747"
     },
     "user_tz": -540
    },
    "id": "qgUiYZKwSG6W",
    "outputId": "2c96a376-358e-42e4-d6eb-2062c2d1b979"
   },
   "outputs": [
    {
     "name": "stdout",
     "output_type": "stream",
     "text": [
      "1.0\n",
      "1.0\n",
      "1.0\n",
      "1.0\n",
      "1.0\n",
      "1.0\n",
      "1.0\n",
      "1.0\n",
      "1.0\n",
      "1.0\n",
      "2.0\n",
      "1.0\n",
      "1.0\n",
      "1.0\n",
      "1.0\n",
      "1.0\n",
      "3.0\n",
      "1.0\n",
      "2.0\n",
      "2.0\n",
      "1.0\n",
      "1.0\n",
      "1.0\n",
      "1.0\n",
      "1.0\n",
      "1.0\n",
      "1.0\n",
      "1.0\n",
      "1.0\n",
      "1.0\n",
      "1.0\n",
      "2.0\n",
      "2.0\n",
      "3.0\n",
      "3.0\n",
      "1.0\n",
      "1.0\n",
      "1.0\n",
      "1.0\n",
      "1.0\n",
      "1.0\n",
      "1.0\n",
      "1.0\n",
      "1.0\n",
      "1.0\n",
      "1.0\n",
      "1.0\n",
      "1.0\n",
      "1.0\n",
      "1.0\n",
      "1.0\n",
      "1.0\n",
      "1.0\n",
      "1.0\n",
      "1.0\n",
      "1.0\n",
      "1.0\n",
      "1.0\n",
      "1.0\n",
      "1.0\n",
      "1.0\n",
      "1.0\n",
      "2.0\n",
      "1.0\n",
      "1.0\n",
      "1.0\n",
      "1.0\n",
      "1.0\n",
      "2.0\n",
      "1.0\n",
      "2.0\n",
      "1.0\n",
      "1.0\n",
      "1.0\n",
      "1.0\n",
      "1.0\n",
      "1.0\n",
      "1.0\n"
     ]
    }
   ],
   "source": [
    "img = np.zeros((255,255))\n",
    "for i in zipped2:\n",
    "  img[i] += 1\n",
    "  print(img[i])"
   ]
  },
  {
   "cell_type": "code",
   "execution_count": null,
   "metadata": {
    "id": "mX9dd1p7KtFo"
   },
   "outputs": [],
   "source": []
  },
  {
   "cell_type": "code",
   "execution_count": 24,
   "metadata": {
    "colab": {
     "base_uri": "https://localhost:8080/"
    },
    "executionInfo": {
     "elapsed": 1137,
     "status": "ok",
     "timestamp": 1604640683801,
     "user": {
      "displayName": "이진재/컴퓨터공학전공/학생",
      "photoUrl": "",
      "userId": "04961383261765965747"
     },
     "user_tz": -540
    },
    "id": "seTEEbERPOlW",
    "outputId": "f28b0d0a-987d-49e9-cdd1-d934e88434ae"
   },
   "outputs": [
    {
     "data": {
      "text/plain": [
       "array([[0., 0., 0., ..., 0., 0., 0.],\n",
       "       [0., 0., 0., ..., 0., 0., 0.],\n",
       "       [0., 0., 0., ..., 0., 0., 0.],\n",
       "       ...,\n",
       "       [0., 0., 0., ..., 0., 0., 0.],\n",
       "       [0., 0., 0., ..., 0., 0., 0.],\n",
       "       [0., 0., 0., ..., 0., 0., 0.]])"
      ]
     },
     "execution_count": 24,
     "metadata": {
      "tags": []
     },
     "output_type": "execute_result"
    }
   ],
   "source": [
    "img"
   ]
  },
  {
   "cell_type": "code",
   "execution_count": 25,
   "metadata": {
    "colab": {
     "base_uri": "https://localhost:8080/",
     "height": 272
    },
    "executionInfo": {
     "elapsed": 1416,
     "status": "ok",
     "timestamp": 1604640685864,
     "user": {
      "displayName": "이진재/컴퓨터공학전공/학생",
      "photoUrl": "",
      "userId": "04961383261765965747"
     },
     "user_tz": -540
    },
    "id": "AHeWKeANS_3z",
    "outputId": "28132550-4115-4452-9be9-dcae59bac252"
   },
   "outputs": [
    {
     "data": {
      "image/png": "[encoded data removed]",
      "text/plain": [
       "<PIL.Image.Image image mode=L size=255x255 at 0x7FF7106E2400>"
      ]
     },
     "metadata": {
      "tags": []
     },
     "output_type": "display_data"
    }
   ],
   "source": [
    "import cv2\n",
    "from google.colab.patches import cv2_imshow\n",
    "cv2_imshow(img)"
   ]
  },
  {
   "cell_type": "code",
   "execution_count": null,
   "metadata": {
    "id": "OtmkHl85UBVd"
   },
   "outputs": [],
   "source": []
  }
 ],
 "metadata": {
  "colab": {
   "authorship_tag": "ABX9TyNnYVs240aYAMnp+6jGJCOB",
   "collapsed_sections": [],
   "mount_file_id": "12yGHllaemKGJs8cDRh21Klq1YxOn6A5c",
   "name": "parser.ipynb",
   "provenance": []
  },
  "kernelspec": {
   "display_name": "Python 3",
   "language": "python",
   "name": "python3"
  },
  "language_info": {
   "codemirror_mode": {
    "name": "ipython",
    "version": 3
   },
   "file_extension": ".py",
   "mimetype": "text/x-python",
   "name": "python",
   "nbconvert_exporter": "python",
   "pygments_lexer": "ipython3",
   "version": "3.7.9"
  },
  "toc": {
   "base_numbering": 1,
   "nav_menu": {},
   "number_sections": true,
   "sideBar": true,
   "skip_h1_title": false,
   "title_cell": "Table of Contents",
   "title_sidebar": "Contents",
   "toc_cell": false,
   "toc_position": {},
   "toc_section_display": true,
   "toc_window_display": false
  }
 },
 "nbformat": 4,
 "nbformat_minor": 1
}
