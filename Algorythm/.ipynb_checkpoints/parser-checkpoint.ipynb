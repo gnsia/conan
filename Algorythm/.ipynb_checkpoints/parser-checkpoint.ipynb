{
 "cells": [
  {
   "cell_type": "code",
   "execution_count": 1,
   "metadata": {
    "executionInfo": {
     "elapsed": 1040,
     "status": "ok",
     "timestamp": 1604640579064,
     "user": {
      "displayName": "이진재/컴퓨터공학전공/학생",
      "photoUrl": "",
      "userId": "04961383261765965747"
     },
     "user_tz": -540
    },
    "id": "KtPbyfgejidD"
   },
   "outputs": [],
   "source": [
    "import pandas as pd\n",
    "import numpy as np"
   ]
  },
  {
   "cell_type": "code",
   "execution_count": 2,
   "metadata": {
    "executionInfo": {
     "elapsed": 3713,
     "status": "ok",
     "timestamp": 1604640583031,
     "user": {
      "displayName": "이진재/컴퓨터공학전공/학생",
      "photoUrl": "",
      "userId": "04961383261765965747"
     },
     "user_tz": -540
    },
    "id": "d1gDlKd1laIM"
   },
   "outputs": [],
   "source": [
    "path='/content/drive/My Drive/보안로그솔루션/데이터/AIT-LDS-v1_0/data/mail.cup.com/apache2/mail.cup.com-access.log'\n",
    "\n",
    "log_data=open(path,'r')"
   ]
  },
  {
   "cell_type": "code",
   "execution_count": 3,
   "metadata": {
    "executionInfo": {
     "elapsed": 2766,
     "status": "ok",
     "timestamp": 1604640583032,
     "user": {
      "displayName": "이진재/컴퓨터공학전공/학생",
      "photoUrl": "",
      "userId": "04961383261765965747"
     },
     "user_tz": -540
    },
    "id": "un4F7ITHj50y"
   },
   "outputs": [],
   "source": [
    "from datetime import datetime\n",
    "import pytz\n",
    "\n",
    "def parse_str(x):\n",
    "    \"\"\"\n",
    "    Returns the string delimited by two characters.\n",
    "\n",
    "    Example:\n",
    "        `>>> parse_str('[my string]')`\n",
    "        `'my string'`\n",
    "    \"\"\"\n",
    "    return x[1:-1]\n",
    "\n",
    "def parse_datetime(x):\n",
    "    '''\n",
    "    Parses datetime with timezone formatted as:\n",
    "        `[day/month/year:hour:minute:second zone]`\n",
    "\n",
    "    Example:\n",
    "        `>>> parse_datetime('13/Nov/2015:11:45:42 +0000')`\n",
    "        `datetime.datetime(2015, 11, 3, 11, 45, 4, tzinfo=<UTC>)`\n",
    "\n",
    "    Due to problems parsing the timezone (`%z`) with `datetime.strptime`, the\n",
    "    timezone will be obtained using the `pytz` library.\n",
    "    '''\n",
    "    if x[1:-7] == '':\n",
    "        pass\n",
    "    else:\n",
    "        try:\n",
    "            dt = datetime.strptime(x[1:-7], '%d/%b/%Y:%H:%M:%S')\n",
    "            dt_tz = int(x[-6:-3])*60+int(x[-3:-1])\n",
    "            except ValueError:\n",
    "            print(\"Not able to split .\")\n",
    "        try:\n",
    "            return dt.replace(tzinfo=pytz.FixedOffset(dt_tz))\n",
    "            except UnboundLocalError:\n",
    "            print(\"UnboundLocalError\")"
   ]
  },
  {
   "cell_type": "code",
   "execution_count": 4,
   "metadata": {
    "executionInfo": {
     "elapsed": 11324,
     "status": "ok",
     "timestamp": 1604640594366,
     "user": {
      "displayName": "이진재/컴퓨터공학전공/학생",
      "photoUrl": "",
      "userId": "04961383261765965747"
     },
     "user_tz": -540
    },
    "id": "qkWR3hGcj9oZ"
   },
   "outputs": [],
   "source": [
    "import re\n",
    "import pandas as pd\n",
    "\n",
    "data = pd.read_csv(\n",
    "    '/content/drive/My Drive/보안로그솔루션/데이터/AIT-LDS-v1_0/data/mail.cup.com/apache2/mail.cup.com-access.log',\n",
    "    sep=r'\\s(?=(?:[^\"]*\"[^\"]*\")*[^\"]*$)(?![^\\[]*\\])',\n",
    "    engine='python',\n",
    "    na_values='-',\n",
    "    header=None,\n",
    "    usecols=[0, 3, 4, 5, 6, 7, 8],\n",
    "    names=['ip', 'time', 'request', 'status', 'size', 'referer', 'user_agent'])"
   ]
  },
  {
   "cell_type": "code",
   "execution_count": 5,
   "metadata": {
    "colab": {
     "base_uri": "https://localhost:8080/",
     "height": 47
    },
    "executionInfo": {
     "elapsed": 1012,
     "status": "ok",
     "timestamp": 1604640595394,
     "user": {
      "displayName": "이진재/컴퓨터공학전공/학생",
      "photoUrl": "",
      "userId": "04961383261765965747"
     },
     "user_tz": -540
    },
    "id": "PshOIvF4wxxL",
    "outputId": "856ce70e-9f27-4e62-ea49-112e07b46733"
   },
   "outputs": [
    {
     "data": {
      "text/html": [
       "<div>\n",
       "<style scoped>\n",
       "    .dataframe tbody tr th:only-of-type {\n",
       "        vertical-align: middle;\n",
       "    }\n",
       "\n",
       "    .dataframe tbody tr th {\n",
       "        vertical-align: top;\n",
       "    }\n",
       "\n",
       "    .dataframe thead th {\n",
       "        text-align: right;\n",
       "    }\n",
       "</style>\n",
       "<table border=\"1\" class=\"dataframe\">\n",
       "  <thead>\n",
       "    <tr style=\"text-align: right;\">\n",
       "      <th></th>\n",
       "      <th>ip</th>\n",
       "      <th>time</th>\n",
       "      <th>request</th>\n",
       "      <th>status</th>\n",
       "      <th>size</th>\n",
       "      <th>referer</th>\n",
       "      <th>user_agent</th>\n",
       "    </tr>\n",
       "  </thead>\n",
       "  <tbody>\n",
       "  </tbody>\n",
       "</table>\n",
       "</div>"
      ],
      "text/plain": [
       "Empty DataFrame\n",
       "Columns: [ip, time, request, status, size, referer, user_agent]\n",
       "Index: []"
      ]
     },
     "execution_count": 5,
     "metadata": {
      "tags": []
     },
     "output_type": "execute_result"
    }
   ],
   "source": [
    "data[data.time == '[]']"
   ]
  },
  {
   "cell_type": "code",
   "execution_count": 6,
   "metadata": {
    "colab": {
     "base_uri": "https://localhost:8080/"
    },
    "executionInfo": {
     "elapsed": 3090,
     "status": "ok",
     "timestamp": 1604640597492,
     "user": {
      "displayName": "이진재/컴퓨터공학전공/학생",
      "photoUrl": "",
      "userId": "04961383261765965747"
     },
     "user_tz": -540
    },
    "id": "EbZR238Rx5J1",
    "outputId": "5bb38296-85cb-4e78-f1a1-71e3f0b5a84f"
   },
   "outputs": [
    {
     "name": "stdout",
     "output_type": "stream",
     "text": [
      "Not able to split .\n",
      "UnboundLocalError\n"
     ]
    }
   ],
   "source": [
    "data['time'] = data.time.apply(parse_datetime)\n"
   ]
  },
  {
   "cell_type": "code",
   "execution_count": 7,
   "metadata": {
    "executionInfo": {
     "elapsed": 3086,
     "status": "ok",
     "timestamp": 1604640597495,
     "user": {
      "displayName": "이진재/컴퓨터공학전공/학생",
      "photoUrl": "",
      "userId": "04961383261765965747"
     },
     "user_tz": -540
    },
    "id": "XftVfkEO5usQ"
   },
   "outputs": [],
   "source": [
    "data['request'] = data.request.apply(parse_str)\n"
   ]
  },
  {
   "cell_type": "code",
   "execution_count": 14,
   "metadata": {
    "colab": {
     "base_uri": "https://localhost:8080/",
     "height": 366
    },
    "executionInfo": {
     "elapsed": 1324,
     "status": "error",
     "timestamp": 1604640619825,
     "user": {
      "displayName": "이진재/컴퓨터공학전공/학생",
      "photoUrl": "",
      "userId": "04961383261765965747"
     },
     "user_tz": -540
    },
    "id": "teJB2xQl6LVk",
    "outputId": "bfeba352-aca5-410e-d23a-869452a13c33"
   },
   "outputs": [
    {
     "ename": "TypeError",
     "evalue": "ignored",
     "output_type": "error",
     "traceback": [
      "\u001b[0;31m---------------------------------------------------------------------------\u001b[0m",
      "\u001b[0;31mTypeError\u001b[0m                                 Traceback (most recent call last)",
      "\u001b[0;32m<ipython-input-14-0507a959c298>\u001b[0m in \u001b[0;36m<module>\u001b[0;34m()\u001b[0m\n\u001b[1;32m      1\u001b[0m \u001b[0;31m# data['referer'] = data.referer.apply(parse_str)\u001b[0m\u001b[0;34m\u001b[0m\u001b[0;34m\u001b[0m\u001b[0;34m\u001b[0m\u001b[0m\n\u001b[0;32m----> 2\u001b[0;31m \u001b[0mdata\u001b[0m\u001b[0;34m[\u001b[0m\u001b[0;34m'user_agent'\u001b[0m\u001b[0;34m]\u001b[0m \u001b[0;34m=\u001b[0m \u001b[0mdata\u001b[0m\u001b[0;34m.\u001b[0m\u001b[0muser_agent\u001b[0m\u001b[0;34m.\u001b[0m\u001b[0mapply\u001b[0m\u001b[0;34m(\u001b[0m\u001b[0mparse_str\u001b[0m\u001b[0;34m)\u001b[0m\u001b[0;34m\u001b[0m\u001b[0;34m\u001b[0m\u001b[0m\n\u001b[0m",
      "\u001b[0;32m/usr/local/lib/python3.6/dist-packages/pandas/core/series.py\u001b[0m in \u001b[0;36mapply\u001b[0;34m(self, func, convert_dtype, args, **kwds)\u001b[0m\n\u001b[1;32m   4210\u001b[0m             \u001b[0;32melse\u001b[0m\u001b[0;34m:\u001b[0m\u001b[0;34m\u001b[0m\u001b[0;34m\u001b[0m\u001b[0m\n\u001b[1;32m   4211\u001b[0m                 \u001b[0mvalues\u001b[0m \u001b[0;34m=\u001b[0m \u001b[0mself\u001b[0m\u001b[0;34m.\u001b[0m\u001b[0mastype\u001b[0m\u001b[0;34m(\u001b[0m\u001b[0mobject\u001b[0m\u001b[0;34m)\u001b[0m\u001b[0;34m.\u001b[0m\u001b[0m_values\u001b[0m\u001b[0;34m\u001b[0m\u001b[0;34m\u001b[0m\u001b[0m\n\u001b[0;32m-> 4212\u001b[0;31m                 \u001b[0mmapped\u001b[0m \u001b[0;34m=\u001b[0m \u001b[0mlib\u001b[0m\u001b[0;34m.\u001b[0m\u001b[0mmap_infer\u001b[0m\u001b[0;34m(\u001b[0m\u001b[0mvalues\u001b[0m\u001b[0;34m,\u001b[0m \u001b[0mf\u001b[0m\u001b[0;34m,\u001b[0m \u001b[0mconvert\u001b[0m\u001b[0;34m=\u001b[0m\u001b[0mconvert_dtype\u001b[0m\u001b[0;34m)\u001b[0m\u001b[0;34m\u001b[0m\u001b[0;34m\u001b[0m\u001b[0m\n\u001b[0m\u001b[1;32m   4213\u001b[0m \u001b[0;34m\u001b[0m\u001b[0m\n\u001b[1;32m   4214\u001b[0m         \u001b[0;32mif\u001b[0m \u001b[0mlen\u001b[0m\u001b[0;34m(\u001b[0m\u001b[0mmapped\u001b[0m\u001b[0;34m)\u001b[0m \u001b[0;32mand\u001b[0m \u001b[0misinstance\u001b[0m\u001b[0;34m(\u001b[0m\u001b[0mmapped\u001b[0m\u001b[0;34m[\u001b[0m\u001b[0;36m0\u001b[0m\u001b[0;34m]\u001b[0m\u001b[0;34m,\u001b[0m \u001b[0mSeries\u001b[0m\u001b[0;34m)\u001b[0m\u001b[0;34m:\u001b[0m\u001b[0;34m\u001b[0m\u001b[0;34m\u001b[0m\u001b[0m\n",
      "\u001b[0;32mpandas/_libs/lib.pyx\u001b[0m in \u001b[0;36mpandas._libs.lib.map_infer\u001b[0;34m()\u001b[0m\n",
      "\u001b[0;32m<ipython-input-3-7993a2e372b6>\u001b[0m in \u001b[0;36mparse_str\u001b[0;34m(x)\u001b[0m\n\u001b[1;32m     10\u001b[0m         \u001b[0;31m`\u001b[0m\u001b[0;34m'my string'\u001b[0m\u001b[0;31m`\u001b[0m\u001b[0;34m\u001b[0m\u001b[0;34m\u001b[0m\u001b[0m\n\u001b[1;32m     11\u001b[0m     \"\"\"\n\u001b[0;32m---> 12\u001b[0;31m     \u001b[0;32mreturn\u001b[0m \u001b[0mx\u001b[0m\u001b[0;34m[\u001b[0m\u001b[0;36m1\u001b[0m\u001b[0;34m:\u001b[0m\u001b[0;34m-\u001b[0m\u001b[0;36m1\u001b[0m\u001b[0;34m]\u001b[0m\u001b[0;34m\u001b[0m\u001b[0;34m\u001b[0m\u001b[0m\n\u001b[0m\u001b[1;32m     13\u001b[0m \u001b[0;34m\u001b[0m\u001b[0m\n\u001b[1;32m     14\u001b[0m \u001b[0;32mdef\u001b[0m \u001b[0mparse_datetime\u001b[0m\u001b[0;34m(\u001b[0m\u001b[0mx\u001b[0m\u001b[0;34m)\u001b[0m\u001b[0;34m:\u001b[0m\u001b[0;34m\u001b[0m\u001b[0;34m\u001b[0m\u001b[0m\n",
      "\u001b[0;31mTypeError\u001b[0m: 'NoneType' object is not subscriptable"
     ]
    }
   ],
   "source": [
    "# data['referer'] = data.referer.apply(parse_str)\n",
    "data['user_agent'] = data.user_agent.apply(parse_str)\n"
   ]
  },
  {
   "cell_type": "code",
   "execution_count": 15,
   "metadata": {
    "colab": {
     "base_uri": "https://localhost:8080/",
     "height": 280
    },
    "executionInfo": {
     "elapsed": 931,
     "status": "ok",
     "timestamp": 1604640632504,
     "user": {
      "displayName": "이진재/컴퓨터공학전공/학생",
      "photoUrl": "",
      "userId": "04961383261765965747"
     },
     "user_tz": -540
    },
    "id": "P2V2ENDDyE1v",
    "outputId": "f15dc640-3f2a-4b57-886f-087702a4c11b"
   },
   "outputs": [
    {
     "data": {
      "text/html": [
       "<div>\n",
       "<style scoped>\n",
       "    .dataframe tbody tr th:only-of-type {\n",
       "        vertical-align: middle;\n",
       "    }\n",
       "\n",
       "    .dataframe tbody tr th {\n",
       "        vertical-align: top;\n",
       "    }\n",
       "\n",
       "    .dataframe thead th {\n",
       "        text-align: right;\n",
       "    }\n",
       "</style>\n",
       "<table border=\"1\" class=\"dataframe\">\n",
       "  <thead>\n",
       "    <tr style=\"text-align: right;\">\n",
       "      <th></th>\n",
       "      <th>ip</th>\n",
       "      <th>time</th>\n",
       "      <th>request</th>\n",
       "      <th>status</th>\n",
       "      <th>size</th>\n",
       "      <th>referer</th>\n",
       "      <th>user_agent</th>\n",
       "    </tr>\n",
       "  </thead>\n",
       "  <tbody>\n",
       "    <tr>\n",
       "      <th>0</th>\n",
       "      <td>192.168.10.190</td>\n",
       "      <td>2020-02-29 00:00:02+00:00</td>\n",
       "      <td>GET /login.php HTTP/1.1</td>\n",
       "      <td>200</td>\n",
       "      <td>2532</td>\n",
       "      <td>\"-\"</td>\n",
       "      <td>\"Mozilla/5.0 (X11; Ubuntu; Linux x86_64; rv:73...</td>\n",
       "    </tr>\n",
       "    <tr>\n",
       "      <th>1</th>\n",
       "      <td>192.168.10.4</td>\n",
       "      <td>2020-02-29 00:00:09+00:00</td>\n",
       "      <td>POST /services/ajax.php/kronolith/listTopTags ...</td>\n",
       "      <td>200</td>\n",
       "      <td>402</td>\n",
       "      <td>\"http://mail.cup.com/kronolith/\"</td>\n",
       "      <td>\"Mozilla/5.0 (X11; Linux x86_64) AppleWebKit/5...</td>\n",
       "    </tr>\n",
       "    <tr>\n",
       "      <th>2</th>\n",
       "      <td>192.168.10.190</td>\n",
       "      <td>2020-02-29 00:00:12+00:00</td>\n",
       "      <td>POST /login.php HTTP/1.1</td>\n",
       "      <td>302</td>\n",
       "      <td>601</td>\n",
       "      <td>\"http://mail.cup.com/login.php\"</td>\n",
       "      <td>\"Mozilla/5.0 (X11; Ubuntu; Linux x86_64; rv:73...</td>\n",
       "    </tr>\n",
       "    <tr>\n",
       "      <th>3</th>\n",
       "      <td>192.168.10.190</td>\n",
       "      <td>2020-02-29 00:00:13+00:00</td>\n",
       "      <td>GET /services/portal/ HTTP/1.1</td>\n",
       "      <td>200</td>\n",
       "      <td>7696</td>\n",
       "      <td>\"http://mail.cup.com/login.php\"</td>\n",
       "      <td>\"Mozilla/5.0 (X11; Ubuntu; Linux x86_64; rv:73...</td>\n",
       "    </tr>\n",
       "    <tr>\n",
       "      <th>4</th>\n",
       "      <td>192.168.10.190</td>\n",
       "      <td>2020-02-29 00:00:14+00:00</td>\n",
       "      <td>GET /themes/default/graphics/head-bg.png HTTP/1.1</td>\n",
       "      <td>200</td>\n",
       "      <td>380</td>\n",
       "      <td>\"http://mail.cup.com/themes/default/screen.css\"</td>\n",
       "      <td>\"Mozilla/5.0 (X11; Ubuntu; Linux x86_64; rv:73...</td>\n",
       "    </tr>\n",
       "  </tbody>\n",
       "</table>\n",
       "</div>"
      ],
      "text/plain": [
       "               ip  ...                                         user_agent\n",
       "0  192.168.10.190  ...  \"Mozilla/5.0 (X11; Ubuntu; Linux x86_64; rv:73...\n",
       "1    192.168.10.4  ...  \"Mozilla/5.0 (X11; Linux x86_64) AppleWebKit/5...\n",
       "2  192.168.10.190  ...  \"Mozilla/5.0 (X11; Ubuntu; Linux x86_64; rv:73...\n",
       "3  192.168.10.190  ...  \"Mozilla/5.0 (X11; Ubuntu; Linux x86_64; rv:73...\n",
       "4  192.168.10.190  ...  \"Mozilla/5.0 (X11; Ubuntu; Linux x86_64; rv:73...\n",
       "\n",
       "[5 rows x 7 columns]"
      ]
     },
     "execution_count": 15,
     "metadata": {
      "tags": []
     },
     "output_type": "execute_result"
    }
   ],
   "source": [
    "data.head()"
   ]
  },
  {
   "cell_type": "code",
   "execution_count": 16,
   "metadata": {
    "executionInfo": {
     "elapsed": 3534,
     "status": "ok",
     "timestamp": 1604640639292,
     "user": {
      "displayName": "이진재/컴퓨터공학전공/학생",
      "photoUrl": "",
      "userId": "04961383261765965747"
     },
     "user_tz": -540
    },
    "id": "T99UaCQl5GVp"
   },
   "outputs": [],
   "source": [
    "labels = pd.read_csv('/content/drive/My Drive/보안로그솔루션/데이터/AIT-LDS-v1_0/labels/mail.cup.com/apache2/mail.cup.com-access.log',\n",
    "                     header=None,\n",
    "                     sep=',',\n",
    "                     names=['label1', 'label2'])"
   ]
  },
  {
   "cell_type": "code",
   "execution_count": 17,
   "metadata": {
    "colab": {
     "base_uri": "https://localhost:8080/",
     "height": 404
    },
    "executionInfo": {
     "elapsed": 920,
     "status": "ok",
     "timestamp": 1604640641656,
     "user": {
      "displayName": "이진재/컴퓨터공학전공/학생",
      "photoUrl": "",
      "userId": "04961383261765965747"
     },
     "user_tz": -540
    },
    "id": "yCiD532_8Fnn",
    "outputId": "3a9eeda2-e075-4e30-9ab0-61146aac1b36"
   },
   "outputs": [
    {
     "data": {
      "text/html": [
       "<div>\n",
       "<style scoped>\n",
       "    .dataframe tbody tr th:only-of-type {\n",
       "        vertical-align: middle;\n",
       "    }\n",
       "\n",
       "    .dataframe tbody tr th {\n",
       "        vertical-align: top;\n",
       "    }\n",
       "\n",
       "    .dataframe thead th {\n",
       "        text-align: right;\n",
       "    }\n",
       "</style>\n",
       "<table border=\"1\" class=\"dataframe\">\n",
       "  <thead>\n",
       "    <tr style=\"text-align: right;\">\n",
       "      <th></th>\n",
       "      <th>label1</th>\n",
       "      <th>label2</th>\n",
       "    </tr>\n",
       "  </thead>\n",
       "  <tbody>\n",
       "    <tr>\n",
       "      <th>0</th>\n",
       "      <td>0</td>\n",
       "      <td>0</td>\n",
       "    </tr>\n",
       "    <tr>\n",
       "      <th>1</th>\n",
       "      <td>0</td>\n",
       "      <td>0</td>\n",
       "    </tr>\n",
       "    <tr>\n",
       "      <th>2</th>\n",
       "      <td>0</td>\n",
       "      <td>0</td>\n",
       "    </tr>\n",
       "    <tr>\n",
       "      <th>3</th>\n",
       "      <td>0</td>\n",
       "      <td>0</td>\n",
       "    </tr>\n",
       "    <tr>\n",
       "      <th>4</th>\n",
       "      <td>0</td>\n",
       "      <td>0</td>\n",
       "    </tr>\n",
       "    <tr>\n",
       "      <th>...</th>\n",
       "      <td>...</td>\n",
       "      <td>...</td>\n",
       "    </tr>\n",
       "    <tr>\n",
       "      <th>148529</th>\n",
       "      <td>0</td>\n",
       "      <td>0</td>\n",
       "    </tr>\n",
       "    <tr>\n",
       "      <th>148530</th>\n",
       "      <td>0</td>\n",
       "      <td>0</td>\n",
       "    </tr>\n",
       "    <tr>\n",
       "      <th>148531</th>\n",
       "      <td>0</td>\n",
       "      <td>0</td>\n",
       "    </tr>\n",
       "    <tr>\n",
       "      <th>148532</th>\n",
       "      <td>0</td>\n",
       "      <td>0</td>\n",
       "    </tr>\n",
       "    <tr>\n",
       "      <th>148533</th>\n",
       "      <td>0</td>\n",
       "      <td>0</td>\n",
       "    </tr>\n",
       "  </tbody>\n",
       "</table>\n",
       "<p>148534 rows × 2 columns</p>\n",
       "</div>"
      ],
      "text/plain": [
       "       label1 label2\n",
       "0           0      0\n",
       "1           0      0\n",
       "2           0      0\n",
       "3           0      0\n",
       "4           0      0\n",
       "...       ...    ...\n",
       "148529      0      0\n",
       "148530      0      0\n",
       "148531      0      0\n",
       "148532      0      0\n",
       "148533      0      0\n",
       "\n",
       "[148534 rows x 2 columns]"
      ]
     },
     "execution_count": 17,
     "metadata": {
      "tags": []
     },
     "output_type": "execute_result"
    }
   ],
   "source": [
    "labels"
   ]
  },
  {
   "cell_type": "code",
   "execution_count": 18,
   "metadata": {
    "executionInfo": {
     "elapsed": 899,
     "status": "ok",
     "timestamp": 1604640644726,
     "user": {
      "displayName": "이진재/컴퓨터공학전공/학생",
      "photoUrl": "",
      "userId": "04961383261765965747"
     },
     "user_tz": -540
    },
    "id": "Ubn41PYh8b9j"
   },
   "outputs": [],
   "source": [
    "labeled_data = pd.concat([data, labels], axis=1)"
   ]
  },
  {
   "cell_type": "code",
   "execution_count": null,
   "metadata": {
    "executionInfo": {
     "elapsed": 3584,
     "status": "aborted",
     "timestamp": 1604640598066,
     "user": {
      "displayName": "이진재/컴퓨터공학전공/학생",
      "photoUrl": "",
      "userId": "04961383261765965747"
     },
     "user_tz": -540
    },
    "id": "s7nqYhjo80aM"
   },
   "outputs": [],
   "source": [
    "labeled_data[labeled_data.label1 != '0'].to_csv('l.csv')"
   ]
  },
  {
   "cell_type": "code",
   "execution_count": null,
   "metadata": {
    "executionInfo": {
     "elapsed": 3470,
     "status": "aborted",
     "timestamp": 1604640598066,
     "user": {
      "displayName": "이진재/컴퓨터공학전공/학생",
      "photoUrl": "",
      "userId": "04961383261765965747"
     },
     "user_tz": -540
    },
    "id": "cg6ASS729_Xj"
   },
   "outputs": [],
   "source": [
    "notnormal_data = pd.read_csv('l.csv')"
   ]
  },
  {
   "cell_type": "code",
   "execution_count": 19,
   "metadata": {
    "colab": {
     "base_uri": "https://localhost:8080/"
    },
    "executionInfo": {
     "elapsed": 1049,
     "status": "ok",
     "timestamp": 1604640647948,
     "user": {
      "displayName": "이진재/컴퓨터공학전공/학생",
      "photoUrl": "",
      "userId": "04961383261765965747"
     },
     "user_tz": -540
    },
    "id": "uHYLyT49-GH9",
    "outputId": "08af29f9-4b23-4cd1-e4c7-f9ed44e79f84"
   },
   "outputs": [
    {
     "name": "stdout",
     "output_type": "stream",
     "text": [
      "192.168.10.190 2020-02-29 00:00:02+00:00 GET /login.php HTTP/1.1 200 2532 \"-\" \"Mozilla/5.0 (X11; Ubuntu; Linux x86_64; rv:73.0) Gecko/20100101 Firefox/73.0\"\n"
     ]
    }
   ],
   "source": [
    "# notnormal_data.iloc[0].to_string(header=False, index=False)\n",
    "l = data.iloc[0,:].apply(str).values\n",
    "s = \" \".join(l)\n",
    "print(s)\n"
   ]
  },
  {
   "cell_type": "code",
   "execution_count": null,
   "metadata": {
    "id": "H6k49M_HHzd9"
   },
   "outputs": [],
   "source": []
  },
  {
   "cell_type": "code",
   "execution_count": 20,
   "metadata": {
    "colab": {
     "base_uri": "https://localhost:8080/"
    },
    "executionInfo": {
     "elapsed": 1234,
     "status": "ok",
     "timestamp": 1604640654069,
     "user": {
      "displayName": "이진재/컴퓨터공학전공/학생",
      "photoUrl": "",
      "userId": "04961383261765965747"
     },
     "user_tz": -540
    },
    "id": "g6kIU0JzEGxw",
    "outputId": "673b87ad-1db0-4587-940e-940b5c09e12d"
   },
   "outputs": [
    {
     "name": "stdout",
     "output_type": "stream",
     "text": [
      "bytearray(b'192.168.10.190 2020-02-29 00:00:02+00:00 GET /login.php HTTP/1.1 200 2532 \"-\" \"Mozilla/5.0 (X11; Ubuntu; Linux x86_64; rv:73.0) Gecko/20100101 Firefox/73.0\"')\n",
      "['00110001', '00111001', '00110010', '00101110', '00110001', '00110110', '00111000', '00101110', '00110001', '00110000', '00101110', '00110001', '00111001', '00110000', '00100000', '00110010', '00110000', '00110010', '00110000', '00101101', '00110000', '00110010', '00101101', '00110010', '00111001', '00100000', '00110000', '00110000', '00111010', '00110000', '00110000', '00111010', '00110000', '00110010', '00101011', '00110000', '00110000', '00111010', '00110000', '00110000', '00100000', '01000111', '01000101', '01010100', '00100000', '00101111', '01101100', '01101111', '01100111', '01101001', '01101110', '00101110', '01110000', '01101000', '01110000', '00100000', '01001000', '01010100', '01010100', '01010000', '00101111', '00110001', '00101110', '00110001', '00100000', '00110010', '00110000', '00110000', '00100000', '00110010', '00110101', '00110011', '00110010', '00100000', '00100010', '00101101', '00100010', '00100000', '00100010', '01001101', '01101111', '01111010', '01101001', '01101100', '01101100', '01100001', '00101111', '00110101', '00101110', '00110000', '00100000', '00101000', '01011000', '00110001', '00110001', '00111011', '00100000', '01010101', '01100010', '01110101', '01101110', '01110100', '01110101', '00111011', '00100000', '01001100', '01101001', '01101110', '01110101', '01111000', '00100000', '01111000', '00111000', '00110110', '01011111', '00110110', '00110100', '00111011', '00100000', '01110010', '01110110', '00111010', '00110111', '00110011', '00101110', '00110000', '00101001', '00100000', '01000111', '01100101', '01100011', '01101011', '01101111', '00101111', '00110010', '00110000', '00110001', '00110000', '00110000', '00110001', '00110000', '00110001', '00100000', '01000110', '01101001', '01110010', '01100101', '01100110', '01101111', '01111000', '00101111', '00110111', '00110011', '00101110', '00110000', '00100010']\n"
     ]
    }
   ],
   "source": [
    "a_string = s\n",
    "\n",
    "a_byte_array = bytearray(a_string, \"utf8\")\n",
    "print(a_byte_array)\n",
    "byte_list = []\n",
    "int_list = []\n",
    "for byte in a_byte_array:\n",
    "    binary_representation = bin(byte)[2:].zfill(8)\n",
    "    int_list.append(byte)\n",
    "    byte_list.append(binary_representation)\n",
    "\n",
    "\n",
    "print(byte_list)\n",
    "test = \" \".join(byte_list)"
   ]
  },
  {
   "cell_type": "code",
   "execution_count": 21,
   "metadata": {
    "executionInfo": {
     "elapsed": 1055,
     "status": "ok",
     "timestamp": 1604640657383,
     "user": {
      "displayName": "이진재/컴퓨터공학전공/학생",
      "photoUrl": "",
      "userId": "04961383261765965747"
     },
     "user_tz": -540
    },
    "id": "4-Gr8W9cQDTm"
   },
   "outputs": [],
   "source": [
    "zipped = zip(byte_list[0::2], byte_list[1::2])\n",
    "zipped2 = zip(int_list[0::2], int_list[1::2])"
   ]
  },
  {
   "cell_type": "code",
   "execution_count": 22,
   "metadata": {
    "colab": {
     "base_uri": "https://localhost:8080/"
    },
    "executionInfo": {
     "elapsed": 924,
     "status": "ok",
     "timestamp": 1604640669554,
     "user": {
      "displayName": "이진재/컴퓨터공학전공/학생",
      "photoUrl": "",
      "userId": "04961383261765965747"
     },
     "user_tz": -540
    },
    "id": "ZawwrlCOUup8",
    "outputId": "5beabc29-23ff-46bb-8508-61f82ce51825"
   },
   "outputs": [
    {
     "data": {
      "text/plain": [
       "<zip at 0x7ff70ab8a908>"
      ]
     },
     "execution_count": 22,
     "metadata": {
      "tags": []
     },
     "output_type": "execute_result"
    }
   ],
   "source": [
    "zipped2"
   ]
  },
  {
   "cell_type": "code",
   "execution_count": 23,
   "metadata": {
    "colab": {
     "base_uri": "https://localhost:8080/"
    },
    "executionInfo": {
     "elapsed": 1456,
     "status": "ok",
     "timestamp": 1604640674184,
     "user": {
      "displayName": "이진재/컴퓨터공학전공/학생",
      "photoUrl": "",
      "userId": "04961383261765965747"
     },
     "user_tz": -540
    },
    "id": "qgUiYZKwSG6W",
    "outputId": "2c96a376-358e-42e4-d6eb-2062c2d1b979"
   },
   "outputs": [
    {
     "name": "stdout",
     "output_type": "stream",
     "text": [
      "1.0\n",
      "1.0\n",
      "1.0\n",
      "1.0\n",
      "1.0\n",
      "1.0\n",
      "1.0\n",
      "1.0\n",
      "1.0\n",
      "1.0\n",
      "2.0\n",
      "1.0\n",
      "1.0\n",
      "1.0\n",
      "1.0\n",
      "1.0\n",
      "3.0\n",
      "1.0\n",
      "2.0\n",
      "2.0\n",
      "1.0\n",
      "1.0\n",
      "1.0\n",
      "1.0\n",
      "1.0\n",
      "1.0\n",
      "1.0\n",
      "1.0\n",
      "1.0\n",
      "1.0\n",
      "1.0\n",
      "2.0\n",
      "2.0\n",
      "3.0\n",
      "3.0\n",
      "1.0\n",
      "1.0\n",
      "1.0\n",
      "1.0\n",
      "1.0\n",
      "1.0\n",
      "1.0\n",
      "1.0\n",
      "1.0\n",
      "1.0\n",
      "1.0\n",
      "1.0\n",
      "1.0\n",
      "1.0\n",
      "1.0\n",
      "1.0\n",
      "1.0\n",
      "1.0\n",
      "1.0\n",
      "1.0\n",
      "1.0\n",
      "1.0\n",
      "1.0\n",
      "1.0\n",
      "1.0\n",
      "1.0\n",
      "1.0\n",
      "2.0\n",
      "1.0\n",
      "1.0\n",
      "1.0\n",
      "1.0\n",
      "1.0\n",
      "2.0\n",
      "1.0\n",
      "2.0\n",
      "1.0\n",
      "1.0\n",
      "1.0\n",
      "1.0\n",
      "1.0\n",
      "1.0\n",
      "1.0\n"
     ]
    }
   ],
   "source": [
    "img = np.zeros((255,255))\n",
    "for i in zipped2:\n",
    "  img[i] += 1\n",
    "  print(img[i])"
   ]
  },
  {
   "cell_type": "code",
   "execution_count": null,
   "metadata": {
    "id": "mX9dd1p7KtFo"
   },
   "outputs": [],
   "source": []
  },
  {
   "cell_type": "code",
   "execution_count": 24,
   "metadata": {
    "colab": {
     "base_uri": "https://localhost:8080/"
    },
    "executionInfo": {
     "elapsed": 1137,
     "status": "ok",
     "timestamp": 1604640683801,
     "user": {
      "displayName": "이진재/컴퓨터공학전공/학생",
      "photoUrl": "",
      "userId": "04961383261765965747"
     },
     "user_tz": -540
    },
    "id": "seTEEbERPOlW",
    "outputId": "f28b0d0a-987d-49e9-cdd1-d934e88434ae"
   },
   "outputs": [
    {
     "data": {
      "text/plain": [
       "array([[0., 0., 0., ..., 0., 0., 0.],\n",
       "       [0., 0., 0., ..., 0., 0., 0.],\n",
       "       [0., 0., 0., ..., 0., 0., 0.],\n",
       "       ...,\n",
       "       [0., 0., 0., ..., 0., 0., 0.],\n",
       "       [0., 0., 0., ..., 0., 0., 0.],\n",
       "       [0., 0., 0., ..., 0., 0., 0.]])"
      ]
     },
     "execution_count": 24,
     "metadata": {
      "tags": []
     },
     "output_type": "execute_result"
    }
   ],
   "source": [
    "img"
   ]
  },
  {
   "cell_type": "code",
   "execution_count": 25,
   "metadata": {
    "colab": {
     "base_uri": "https://localhost:8080/",
     "height": 272
    },
    "executionInfo": {
     "elapsed": 1416,
     "status": "ok",
     "timestamp": 1604640685864,
     "user": {
      "displayName": "이진재/컴퓨터공학전공/학생",
      "photoUrl": "",
      "userId": "04961383261765965747"
     },
     "user_tz": -540
    },
    "id": "AHeWKeANS_3z",
    "outputId": "28132550-4115-4452-9be9-dcae59bac252"
   },
   "outputs": [
    {
     "data": {
      "image/png": "[encoded data removed]",
      "text/plain": [
       "<PIL.Image.Image image mode=L size=255x255 at 0x7FF7106E2400>"
      ]
     },
     "metadata": {
      "tags": []
     },
     "output_type": "display_data"
    }
   ],
   "source": [
    "import cv2\n",
    "from google.colab.patches import cv2_imshow\n",
    "cv2_imshow(img)"
   ]
  },
  {
   "cell_type": "code",
   "execution_count": null,
   "metadata": {
    "id": "OtmkHl85UBVd"
   },
   "outputs": [],
   "source": []
  }
 ],
 "metadata": {
  "colab": {
   "authorship_tag": "ABX9TyNnYVs240aYAMnp+6jGJCOB",
   "collapsed_sections": [],
   "mount_file_id": "12yGHllaemKGJs8cDRh21Klq1YxOn6A5c",
   "name": "parser.ipynb",
   "provenance": []
  },
  "kernelspec": {
   "display_name": "Python 3",
   "language": "python",
   "name": "python3"
  },
  "language_info": {
   "codemirror_mode": {
    "name": "ipython",
    "version": 3
   },
   "file_extension": ".py",
   "mimetype": "text/x-python",
   "name": "python",
   "nbconvert_exporter": "python",
   "pygments_lexer": "ipython3",
   "version": "3.7.9"
  },
  "toc": {
   "base_numbering": 1,
   "nav_menu": {},
   "number_sections": true,
   "sideBar": true,
   "skip_h1_title": false,
   "title_cell": "Table of Contents",
   "title_sidebar": "Contents",
   "toc_cell": false,
   "toc_position": {},
   "toc_section_display": true,
   "toc_window_display": false
  }
 },
 "nbformat": 4,
 "nbformat_minor": 1
}
